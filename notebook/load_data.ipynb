{
 "cells": [
  {
   "cell_type": "code",
   "execution_count": 1,
   "id": "e5193816",
   "metadata": {},
   "outputs": [],
   "source": [
    "%load_ext autoreload\n",
    "%autoreload 2\n",
    "\n",
    "import gym\n",
    "import numpy as np\n",
    "from gym import spaces\n",
    "import torch\n",
    "import d4rl_atari\n",
    "import re\n",
    "from torch.utils.data.dataset import IterableDataset\n",
    "import time\n",
    "import sys"
   ]
  },
  {
   "cell_type": "code",
   "execution_count": 2,
   "id": "e30ee54e",
   "metadata": {},
   "outputs": [
    {
     "name": "stdout",
     "output_type": "stream",
     "text": [
      "breakout-expert-v0\n"
     ]
    }
   ],
   "source": [
    "env_id = 'BreakoutNoFrameskip-V4'\n",
    "offline_dataset_id = 'expert-v0'\n",
    "offline_env_id = (\n",
    "        re.sub(r\"(?<!^)(?=[A-Z])\", \"-\", env_id).lower().replace(\"no-frameskip--v4\", \"\") + offline_dataset_id\n",
    "    )\n",
    "print(offline_env_id)"
   ]
  },
  {
   "cell_type": "code",
   "execution_count": 3,
   "id": "63fae269",
   "metadata": {},
   "outputs": [],
   "source": [
    "class ExperienceReplayDataset(IterableDataset):\n",
    "    def __init__(self, env_id, offline_dataset_id):\n",
    "        offline_env_id = (\n",
    "        re.sub(r\"(?<!^)(?=[A-Z])\", \"-\", env_id).lower().replace(\"no-frameskip--v4\", \"\") + offline_dataset_id\n",
    "        )\n",
    "        self.dataset_env = gym.make(offline_env_id, stack=True)\n",
    "        self.dataset = self.dataset_env.get_dataset()\n",
    "\n",
    "    def __iter__(self):\n",
    "        while True:\n",
    "            idx = np.random.choice(len(self.dataset[\"observations\"]) - 1)\n",
    "            yield self.dataset[\"observations\"][idx], self.dataset[\"actions\"][idx], self.dataset[\"rewards\"][idx], self.dataset[\n",
    "                \"observations\"\n",
    "            ][idx + 1], self.dataset[\"terminals\"][idx]\n",
    "            \n",
    "    def __len__(self):\n",
    "        return len(self.dataset['observations'])\n",
    "        "
   ]
  },
  {
   "cell_type": "code",
   "execution_count": 4,
   "id": "21795cc6",
   "metadata": {},
   "outputs": [
    {
     "name": "stdout",
     "output_type": "stream",
     "text": [
      "loading /data/shenshuo/.d4rl/datasets/Breakout/1/50/observation.gz...\n",
      "loading /data/shenshuo/.d4rl/datasets/Breakout/1/50/action.gz...\n",
      "loading /data/shenshuo/.d4rl/datasets/Breakout/1/50/reward.gz...\n",
      "loading /data/shenshuo/.d4rl/datasets/Breakout/1/50/terminal.gz...\n"
     ]
    }
   ],
   "source": [
    "dataset = ExperienceReplayDataset('BreakoutNoFrameskip-V4', 'expert-v0')\n",
    "data_loader = iter(torch.utils.data.DataLoader(dataset, batch_size=32, num_workers=2))"
   ]
  },
  {
   "cell_type": "code",
   "execution_count": 15,
   "id": "a4593c36",
   "metadata": {},
   "outputs": [
    {
     "name": "stdout",
     "output_type": "stream",
     "text": [
      "obs_shape: torch.Size([32, 4, 84, 84])\n",
      "len dataset 1000000\n"
     ]
    }
   ],
   "source": [
    "s_obs, s_actions, s_rewards, s_next_obses, s_dones = next(data_loader)\n",
    "print('obs_shape:', s_obs.shape)\n",
    "print('len dataset', len(dataset))\n",
    "print('len dataset', len(dataset))"
   ]
  },
  {
   "cell_type": "markdown",
   "id": "e952bc55",
   "metadata": {},
   "source": [
    "### download all data set for one game"
   ]
  },
  {
   "cell_type": "code",
   "execution_count": 3,
   "id": "c7eb627a",
   "metadata": {},
   "outputs": [
    {
     "name": "stderr",
     "output_type": "stream",
     "text": [
      "Copying gs://atari-replay-datasets/dqn/Seaquest/1/replay_logs/$store$_observation_ckpt.1.gz...\n",
      "\\ [1/1 files][132.2 MiB/132.2 MiB] 100% Done                                    \n",
      "Operation completed over 1 objects/132.2 MiB.                                    \n",
      "Copying gs://atari-replay-datasets/dqn/Seaquest/1/replay_logs/$store$_action_ckpt.1.gz...\n",
      "- [1/1 files][446.9 KiB/446.9 KiB] 100% Done                                    \n",
      "Operation completed over 1 objects/446.9 KiB.                                    \n",
      "Copying gs://atari-replay-datasets/dqn/Seaquest/1/replay_logs/$store$_reward_ckpt.1.gz...\n",
      "- [1/1 files][ 23.8 KiB/ 23.8 KiB] 100% Done                                    \n",
      "Operation completed over 1 objects/23.8 KiB.                                     \n",
      "Copying gs://atari-replay-datasets/dqn/Seaquest/1/replay_logs/$store$_terminal_ckpt.1.gz...\n",
      "- [1/1 files][  2.3 KiB/  2.3 KiB] 100% Done                                    \n",
      "Operation completed over 1 objects/2.3 KiB.                                      \n"
     ]
    },
    {
     "name": "stdout",
     "output_type": "stream",
     "text": [
      "loading /home/shenshuo/.d4rl/datasets/Seaquest/1/1/observation.gz...\n",
      "loading /home/shenshuo/.d4rl/datasets/Seaquest/1/1/action.gz...\n",
      "loading /home/shenshuo/.d4rl/datasets/Seaquest/1/1/reward.gz...\n",
      "loading /home/shenshuo/.d4rl/datasets/Seaquest/1/1/terminal.gz...\n"
     ]
    },
    {
     "name": "stderr",
     "output_type": "stream",
     "text": [
      "Copying gs://atari-replay-datasets/dqn/Seaquest/1/replay_logs/$store$_observation_ckpt.2.gz...\n",
      "\\ [1/1 files][132.5 MiB/132.5 MiB] 100% Done                                    \n",
      "Operation completed over 1 objects/132.5 MiB.                                    \n",
      "Copying gs://atari-replay-datasets/dqn/Seaquest/1/replay_logs/$store$_action_ckpt.2.gz...\n",
      "- [1/1 files][454.4 KiB/454.4 KiB] 100% Done                                    \n",
      "Operation completed over 1 objects/454.4 KiB.                                    \n",
      "Copying gs://atari-replay-datasets/dqn/Seaquest/1/replay_logs/$store$_reward_ckpt.2.gz...\n",
      "- [1/1 files][ 23.5 KiB/ 23.5 KiB] 100% Done                                    \n",
      "Operation completed over 1 objects/23.5 KiB.                                     \n",
      "Copying gs://atari-replay-datasets/dqn/Seaquest/1/replay_logs/$store$_terminal_ckpt.2.gz...\n",
      "- [1/1 files][  2.2 KiB/  2.2 KiB] 100% Done                                    \n",
      "Operation completed over 1 objects/2.2 KiB.                                      \n"
     ]
    },
    {
     "name": "stdout",
     "output_type": "stream",
     "text": [
      "loading /home/shenshuo/.d4rl/datasets/Seaquest/1/2/observation.gz...\n",
      "loading /home/shenshuo/.d4rl/datasets/Seaquest/1/2/action.gz...\n",
      "loading /home/shenshuo/.d4rl/datasets/Seaquest/1/2/reward.gz...\n",
      "loading /home/shenshuo/.d4rl/datasets/Seaquest/1/2/terminal.gz...\n"
     ]
    },
    {
     "name": "stderr",
     "output_type": "stream",
     "text": [
      "Copying gs://atari-replay-datasets/dqn/Seaquest/1/replay_logs/$store$_observation_ckpt.3.gz...\n",
      "| [1/1 files][132.9 MiB/132.9 MiB] 100% Done                                    \n",
      "Operation completed over 1 objects/132.9 MiB.                                    \n",
      "Copying gs://atari-replay-datasets/dqn/Seaquest/1/replay_logs/$store$_action_ckpt.3.gz...\n",
      "- [1/1 files][459.5 KiB/459.5 KiB] 100% Done                                    \n",
      "Operation completed over 1 objects/459.5 KiB.                                    \n",
      "Copying gs://atari-replay-datasets/dqn/Seaquest/1/replay_logs/$store$_reward_ckpt.3.gz...\n",
      "- [1/1 files][ 23.9 KiB/ 23.9 KiB] 100% Done                                    \n",
      "Operation completed over 1 objects/23.9 KiB.                                     \n",
      "Copying gs://atari-replay-datasets/dqn/Seaquest/1/replay_logs/$store$_terminal_ckpt.3.gz...\n",
      "/ [1/1 files][  2.2 KiB/  2.2 KiB] 100% Done                                    \n",
      "Operation completed over 1 objects/2.2 KiB.                                      \n"
     ]
    },
    {
     "name": "stdout",
     "output_type": "stream",
     "text": [
      "loading /home/shenshuo/.d4rl/datasets/Seaquest/1/3/observation.gz...\n",
      "loading /home/shenshuo/.d4rl/datasets/Seaquest/1/3/action.gz...\n",
      "loading /home/shenshuo/.d4rl/datasets/Seaquest/1/3/reward.gz...\n",
      "loading /home/shenshuo/.d4rl/datasets/Seaquest/1/3/terminal.gz...\n"
     ]
    },
    {
     "name": "stderr",
     "output_type": "stream",
     "text": [
      "Copying gs://atari-replay-datasets/dqn/Seaquest/1/replay_logs/$store$_observation_ckpt.4.gz...\n",
      "| [1/1 files][128.8 MiB/128.8 MiB] 100% Done                                    \n",
      "Operation completed over 1 objects/128.8 MiB.                                    \n",
      "Copying gs://atari-replay-datasets/dqn/Seaquest/1/replay_logs/$store$_action_ckpt.4.gz...\n",
      "- [1/1 files][441.5 KiB/441.5 KiB] 100% Done                                    \n",
      "Operation completed over 1 objects/441.5 KiB.                                    \n",
      "Copying gs://atari-replay-datasets/dqn/Seaquest/1/replay_logs/$store$_reward_ckpt.4.gz...\n",
      "- [1/1 files][ 25.2 KiB/ 25.2 KiB] 100% Done                                    \n",
      "Operation completed over 1 objects/25.2 KiB.                                     \n",
      "Copying gs://atari-replay-datasets/dqn/Seaquest/1/replay_logs/$store$_terminal_ckpt.4.gz...\n",
      "- [1/1 files][  2.3 KiB/  2.3 KiB] 100% Done                                    \n",
      "Operation completed over 1 objects/2.3 KiB.                                      \n"
     ]
    },
    {
     "name": "stdout",
     "output_type": "stream",
     "text": [
      "loading /home/shenshuo/.d4rl/datasets/Seaquest/1/4/observation.gz...\n",
      "loading /home/shenshuo/.d4rl/datasets/Seaquest/1/4/action.gz...\n",
      "loading /home/shenshuo/.d4rl/datasets/Seaquest/1/4/reward.gz...\n",
      "loading /home/shenshuo/.d4rl/datasets/Seaquest/1/4/terminal.gz...\n"
     ]
    },
    {
     "name": "stderr",
     "output_type": "stream",
     "text": [
      "Copying gs://atari-replay-datasets/dqn/Seaquest/1/replay_logs/$store$_observation_ckpt.5.gz...\n",
      "\\ [1/1 files][128.0 MiB/128.0 MiB] 100% Done                                    \n",
      "Operation completed over 1 objects/128.0 MiB.                                    \n",
      "Copying gs://atari-replay-datasets/dqn/Seaquest/1/replay_logs/$store$_action_ckpt.5.gz...\n",
      "- [1/1 files][445.8 KiB/445.8 KiB] 100% Done                                    \n",
      "Operation completed over 1 objects/445.8 KiB.                                    \n",
      "Copying gs://atari-replay-datasets/dqn/Seaquest/1/replay_logs/$store$_reward_ckpt.5.gz...\n",
      "- [1/1 files][ 27.5 KiB/ 27.5 KiB] 100% Done                                    \n",
      "Operation completed over 1 objects/27.5 KiB.                                     \n",
      "Copying gs://atari-replay-datasets/dqn/Seaquest/1/replay_logs/$store$_terminal_ckpt.5.gz...\n",
      "- [1/1 files][  2.3 KiB/  2.3 KiB] 100% Done                                    \n",
      "Operation completed over 1 objects/2.3 KiB.                                      \n"
     ]
    },
    {
     "name": "stdout",
     "output_type": "stream",
     "text": [
      "loading /home/shenshuo/.d4rl/datasets/Seaquest/1/5/observation.gz...\n",
      "loading /home/shenshuo/.d4rl/datasets/Seaquest/1/5/action.gz...\n",
      "loading /home/shenshuo/.d4rl/datasets/Seaquest/1/5/reward.gz...\n",
      "loading /home/shenshuo/.d4rl/datasets/Seaquest/1/5/terminal.gz...\n"
     ]
    },
    {
     "name": "stderr",
     "output_type": "stream",
     "text": [
      "Copying gs://atari-replay-datasets/dqn/Seaquest/1/replay_logs/$store$_observation_ckpt.6.gz...\n",
      "\\ [1/1 files][124.9 MiB/124.9 MiB] 100% Done                                    \n",
      "Operation completed over 1 objects/124.9 MiB.                                    \n",
      "Copying gs://atari-replay-datasets/dqn/Seaquest/1/replay_logs/$store$_action_ckpt.6.gz...\n",
      "- [1/1 files][462.9 KiB/462.9 KiB] 100% Done                                    \n",
      "Operation completed over 1 objects/462.9 KiB.                                    \n",
      "Copying gs://atari-replay-datasets/dqn/Seaquest/1/replay_logs/$store$_reward_ckpt.6.gz...\n",
      "- [1/1 files][ 31.4 KiB/ 31.4 KiB] 100% Done                                    \n",
      "Operation completed over 1 objects/31.4 KiB.                                     \n",
      "Copying gs://atari-replay-datasets/dqn/Seaquest/1/replay_logs/$store$_terminal_ckpt.6.gz...\n",
      "/ [1/1 files][  2.3 KiB/  2.3 KiB] 100% Done                                    \n",
      "Operation completed over 1 objects/2.3 KiB.                                      \n"
     ]
    },
    {
     "name": "stdout",
     "output_type": "stream",
     "text": [
      "loading /home/shenshuo/.d4rl/datasets/Seaquest/1/6/observation.gz...\n",
      "loading /home/shenshuo/.d4rl/datasets/Seaquest/1/6/action.gz...\n",
      "loading /home/shenshuo/.d4rl/datasets/Seaquest/1/6/reward.gz...\n",
      "loading /home/shenshuo/.d4rl/datasets/Seaquest/1/6/terminal.gz...\n"
     ]
    },
    {
     "name": "stderr",
     "output_type": "stream",
     "text": [
      "Copying gs://atari-replay-datasets/dqn/Seaquest/1/replay_logs/$store$_observation_ckpt.7.gz...\n",
      "| [1/1 files][123.6 MiB/123.6 MiB] 100% Done                                    \n",
      "Operation completed over 1 objects/123.6 MiB.                                    \n",
      "Copying gs://atari-replay-datasets/dqn/Seaquest/1/replay_logs/$store$_action_ckpt.7.gz...\n",
      "- [1/1 files][474.0 KiB/474.0 KiB] 100% Done                                    \n",
      "Operation completed over 1 objects/474.0 KiB.                                    \n",
      "Copying gs://atari-replay-datasets/dqn/Seaquest/1/replay_logs/$store$_reward_ckpt.7.gz...\n",
      "- [1/1 files][ 39.8 KiB/ 39.8 KiB] 100% Done                                    \n",
      "Operation completed over 1 objects/39.8 KiB.                                     \n",
      "Copying gs://atari-replay-datasets/dqn/Seaquest/1/replay_logs/$store$_terminal_ckpt.7.gz...\n",
      "- [1/1 files][  2.2 KiB/  2.2 KiB] 100% Done                                    \n",
      "Operation completed over 1 objects/2.2 KiB.                                      \n"
     ]
    },
    {
     "name": "stdout",
     "output_type": "stream",
     "text": [
      "loading /home/shenshuo/.d4rl/datasets/Seaquest/1/7/observation.gz...\n",
      "loading /home/shenshuo/.d4rl/datasets/Seaquest/1/7/action.gz...\n",
      "loading /home/shenshuo/.d4rl/datasets/Seaquest/1/7/reward.gz...\n",
      "loading /home/shenshuo/.d4rl/datasets/Seaquest/1/7/terminal.gz...\n"
     ]
    },
    {
     "name": "stderr",
     "output_type": "stream",
     "text": [
      "Copying gs://atari-replay-datasets/dqn/Seaquest/1/replay_logs/$store$_observation_ckpt.8.gz...\n",
      "\\ [1/1 files][125.4 MiB/125.4 MiB] 100% Done                                    \n",
      "Operation completed over 1 objects/125.4 MiB.                                    \n",
      "Copying gs://atari-replay-datasets/dqn/Seaquest/1/replay_logs/$store$_action_ckpt.8.gz...\n",
      "- [1/1 files][487.4 KiB/487.4 KiB] 100% Done                                    \n",
      "Operation completed over 1 objects/487.4 KiB.                                    \n",
      "Copying gs://atari-replay-datasets/dqn/Seaquest/1/replay_logs/$store$_reward_ckpt.8.gz...\n",
      "- [1/1 files][ 43.6 KiB/ 43.6 KiB] 100% Done                                    \n",
      "Operation completed over 1 objects/43.6 KiB.                                     \n",
      "Copying gs://atari-replay-datasets/dqn/Seaquest/1/replay_logs/$store$_terminal_ckpt.8.gz...\n",
      "- [1/1 files][  2.0 KiB/  2.0 KiB] 100% Done                                    \n",
      "Operation completed over 1 objects/2.0 KiB.                                      \n"
     ]
    },
    {
     "name": "stdout",
     "output_type": "stream",
     "text": [
      "loading /home/shenshuo/.d4rl/datasets/Seaquest/1/8/observation.gz...\n",
      "loading /home/shenshuo/.d4rl/datasets/Seaquest/1/8/action.gz...\n",
      "loading /home/shenshuo/.d4rl/datasets/Seaquest/1/8/reward.gz...\n",
      "loading /home/shenshuo/.d4rl/datasets/Seaquest/1/8/terminal.gz...\n"
     ]
    },
    {
     "name": "stderr",
     "output_type": "stream",
     "text": [
      "Copying gs://atari-replay-datasets/dqn/Seaquest/1/replay_logs/$store$_observation_ckpt.9.gz...\n",
      "- [1/1 files][125.6 MiB/125.6 MiB] 100% Done                                    \n",
      "Operation completed over 1 objects/125.6 MiB.                                    \n",
      "Copying gs://atari-replay-datasets/dqn/Seaquest/1/replay_logs/$store$_action_ckpt.9.gz...\n",
      "- [1/1 files][477.6 KiB/477.6 KiB] 100% Done                                    \n",
      "Operation completed over 1 objects/477.6 KiB.                                    \n",
      "Copying gs://atari-replay-datasets/dqn/Seaquest/1/replay_logs/$store$_reward_ckpt.9.gz...\n",
      "- [1/1 files][ 44.3 KiB/ 44.3 KiB] 100% Done                                    \n",
      "Operation completed over 1 objects/44.3 KiB.                                     \n",
      "Copying gs://atari-replay-datasets/dqn/Seaquest/1/replay_logs/$store$_terminal_ckpt.9.gz...\n",
      "- [1/1 files][  2.0 KiB/  2.0 KiB] 100% Done                                    \n",
      "Operation completed over 1 objects/2.0 KiB.                                      \n"
     ]
    },
    {
     "name": "stdout",
     "output_type": "stream",
     "text": [
      "loading /home/shenshuo/.d4rl/datasets/Seaquest/1/9/observation.gz...\n",
      "loading /home/shenshuo/.d4rl/datasets/Seaquest/1/9/action.gz...\n",
      "loading /home/shenshuo/.d4rl/datasets/Seaquest/1/9/reward.gz...\n",
      "loading /home/shenshuo/.d4rl/datasets/Seaquest/1/9/terminal.gz...\n"
     ]
    },
    {
     "name": "stderr",
     "output_type": "stream",
     "text": [
      "Copying gs://atari-replay-datasets/dqn/Seaquest/1/replay_logs/$store$_observation_ckpt.10.gz...\n",
      "| [1/1 files][125.0 MiB/125.0 MiB] 100% Done  26.7 MiB/s ETA 00:00:00           \n",
      "Operation completed over 1 objects/125.0 MiB.                                    \n",
      "Copying gs://atari-replay-datasets/dqn/Seaquest/1/replay_logs/$store$_action_ckpt.10.gz...\n",
      "- [1/1 files][478.2 KiB/478.2 KiB] 100% Done                                    \n",
      "Operation completed over 1 objects/478.2 KiB.                                    \n",
      "Copying gs://atari-replay-datasets/dqn/Seaquest/1/replay_logs/$store$_reward_ckpt.10.gz...\n",
      "- [1/1 files][ 44.9 KiB/ 44.9 KiB] 100% Done                                    \n",
      "Operation completed over 1 objects/44.9 KiB.                                     \n",
      "Copying gs://atari-replay-datasets/dqn/Seaquest/1/replay_logs/$store$_terminal_ckpt.10.gz...\n",
      "- [1/1 files][  2.0 KiB/  2.0 KiB] 100% Done     0.0 B/s                        \n",
      "Operation completed over 1 objects/2.0 KiB.                                      \n"
     ]
    },
    {
     "name": "stdout",
     "output_type": "stream",
     "text": [
      "loading /home/shenshuo/.d4rl/datasets/Seaquest/1/10/observation.gz...\n",
      "loading /home/shenshuo/.d4rl/datasets/Seaquest/1/10/action.gz...\n",
      "loading /home/shenshuo/.d4rl/datasets/Seaquest/1/10/reward.gz...\n",
      "loading /home/shenshuo/.d4rl/datasets/Seaquest/1/10/terminal.gz...\n"
     ]
    },
    {
     "name": "stderr",
     "output_type": "stream",
     "text": [
      "Copying gs://atari-replay-datasets/dqn/Seaquest/1/replay_logs/$store$_observation_ckpt.11.gz...\n",
      "\\ [1/1 files][126.0 MiB/126.0 MiB] 100% Done                                    \n",
      "Operation completed over 1 objects/126.0 MiB.                                    \n",
      "Copying gs://atari-replay-datasets/dqn/Seaquest/1/replay_logs/$store$_action_ckpt.11.gz...\n",
      "- [1/1 files][480.5 KiB/480.5 KiB] 100% Done                                    \n",
      "Operation completed over 1 objects/480.5 KiB.                                    \n",
      "Copying gs://atari-replay-datasets/dqn/Seaquest/1/replay_logs/$store$_reward_ckpt.11.gz...\n",
      "- [1/1 files][ 45.9 KiB/ 45.9 KiB] 100% Done                                    \n",
      "Operation completed over 1 objects/45.9 KiB.                                     \n",
      "Copying gs://atari-replay-datasets/dqn/Seaquest/1/replay_logs/$store$_terminal_ckpt.11.gz...\n",
      "- [1/1 files][  2.0 KiB/  2.0 KiB] 100% Done                                    \n",
      "Operation completed over 1 objects/2.0 KiB.                                      \n"
     ]
    },
    {
     "name": "stdout",
     "output_type": "stream",
     "text": [
      "loading /home/shenshuo/.d4rl/datasets/Seaquest/1/11/observation.gz...\n",
      "loading /home/shenshuo/.d4rl/datasets/Seaquest/1/11/action.gz...\n",
      "loading /home/shenshuo/.d4rl/datasets/Seaquest/1/11/reward.gz...\n",
      "loading /home/shenshuo/.d4rl/datasets/Seaquest/1/11/terminal.gz...\n"
     ]
    },
    {
     "name": "stderr",
     "output_type": "stream",
     "text": [
      "Copying gs://atari-replay-datasets/dqn/Seaquest/1/replay_logs/$store$_observation_ckpt.12.gz...\n",
      "\\ [1/1 files][124.8 MiB/124.8 MiB] 100% Done                                    \n",
      "Operation completed over 1 objects/124.8 MiB.                                    \n",
      "Copying gs://atari-replay-datasets/dqn/Seaquest/1/replay_logs/$store$_action_ckpt.12.gz...\n",
      "- [1/1 files][481.1 KiB/481.1 KiB] 100% Done                                    \n",
      "Operation completed over 1 objects/481.1 KiB.                                    \n",
      "Copying gs://atari-replay-datasets/dqn/Seaquest/1/replay_logs/$store$_reward_ckpt.12.gz...\n",
      "- [1/1 files][ 49.7 KiB/ 49.7 KiB] 100% Done                                    \n",
      "Operation completed over 1 objects/49.7 KiB.                                     \n",
      "Copying gs://atari-replay-datasets/dqn/Seaquest/1/replay_logs/$store$_terminal_ckpt.12.gz...\n",
      "- [1/1 files][  2.0 KiB/  2.0 KiB] 100% Done                                    \n",
      "Operation completed over 1 objects/2.0 KiB.                                      \n"
     ]
    },
    {
     "name": "stdout",
     "output_type": "stream",
     "text": [
      "loading /home/shenshuo/.d4rl/datasets/Seaquest/1/12/observation.gz...\n",
      "loading /home/shenshuo/.d4rl/datasets/Seaquest/1/12/action.gz...\n",
      "loading /home/shenshuo/.d4rl/datasets/Seaquest/1/12/reward.gz...\n",
      "loading /home/shenshuo/.d4rl/datasets/Seaquest/1/12/terminal.gz...\n"
     ]
    },
    {
     "name": "stderr",
     "output_type": "stream",
     "text": [
      "Copying gs://atari-replay-datasets/dqn/Seaquest/1/replay_logs/$store$_observation_ckpt.13.gz...\n",
      "- [1/1 files][124.6 MiB/124.6 MiB] 100% Done                                    \n",
      "Operation completed over 1 objects/124.6 MiB.                                    \n",
      "Copying gs://atari-replay-datasets/dqn/Seaquest/1/replay_logs/$store$_action_ckpt.13.gz...\n",
      "- [1/1 files][490.6 KiB/490.6 KiB] 100% Done                                    \n",
      "Operation completed over 1 objects/490.6 KiB.                                    \n",
      "Copying gs://atari-replay-datasets/dqn/Seaquest/1/replay_logs/$store$_reward_ckpt.13.gz...\n",
      "- [1/1 files][ 54.6 KiB/ 54.6 KiB] 100% Done                                    \n",
      "Operation completed over 1 objects/54.6 KiB.                                     \n",
      "Copying gs://atari-replay-datasets/dqn/Seaquest/1/replay_logs/$store$_terminal_ckpt.13.gz...\n",
      "- [1/1 files][  1.9 KiB/  1.9 KiB] 100% Done                                    \n",
      "Operation completed over 1 objects/1.9 KiB.                                      \n"
     ]
    },
    {
     "name": "stdout",
     "output_type": "stream",
     "text": [
      "loading /home/shenshuo/.d4rl/datasets/Seaquest/1/13/observation.gz...\n",
      "loading /home/shenshuo/.d4rl/datasets/Seaquest/1/13/action.gz...\n",
      "loading /home/shenshuo/.d4rl/datasets/Seaquest/1/13/reward.gz...\n",
      "loading /home/shenshuo/.d4rl/datasets/Seaquest/1/13/terminal.gz...\n"
     ]
    },
    {
     "name": "stderr",
     "output_type": "stream",
     "text": [
      "Copying gs://atari-replay-datasets/dqn/Seaquest/1/replay_logs/$store$_observation_ckpt.14.gz...\n",
      "| [1/1 files][122.5 MiB/122.5 MiB] 100% Done                                    \n",
      "Operation completed over 1 objects/122.5 MiB.                                    \n",
      "Copying gs://atari-replay-datasets/dqn/Seaquest/1/replay_logs/$store$_action_ckpt.14.gz...\n",
      "- [1/1 files][503.5 KiB/503.5 KiB] 100% Done                                    \n",
      "Operation completed over 1 objects/503.5 KiB.                                    \n",
      "Copying gs://atari-replay-datasets/dqn/Seaquest/1/replay_logs/$store$_reward_ckpt.14.gz...\n",
      "- [1/1 files][ 57.9 KiB/ 57.9 KiB] 100% Done                                    \n",
      "Operation completed over 1 objects/57.9 KiB.                                     \n",
      "Copying gs://atari-replay-datasets/dqn/Seaquest/1/replay_logs/$store$_terminal_ckpt.14.gz...\n",
      "- [1/1 files][  1.9 KiB/  1.9 KiB] 100% Done                                    \n",
      "Operation completed over 1 objects/1.9 KiB.                                      \n"
     ]
    },
    {
     "name": "stdout",
     "output_type": "stream",
     "text": [
      "loading /home/shenshuo/.d4rl/datasets/Seaquest/1/14/observation.gz...\n",
      "loading /home/shenshuo/.d4rl/datasets/Seaquest/1/14/action.gz...\n",
      "loading /home/shenshuo/.d4rl/datasets/Seaquest/1/14/reward.gz...\n",
      "loading /home/shenshuo/.d4rl/datasets/Seaquest/1/14/terminal.gz...\n"
     ]
    },
    {
     "name": "stderr",
     "output_type": "stream",
     "text": [
      "Copying gs://atari-replay-datasets/dqn/Seaquest/1/replay_logs/$store$_observation_ckpt.15.gz...\n",
      "| [1/1 files][123.1 MiB/123.1 MiB] 100% Done                                    \n",
      "Operation completed over 1 objects/123.1 MiB.                                    \n",
      "Copying gs://atari-replay-datasets/dqn/Seaquest/1/replay_logs/$store$_action_ckpt.15.gz...\n",
      "- [1/1 files][508.7 KiB/508.7 KiB] 100% Done                                    \n",
      "Operation completed over 1 objects/508.7 KiB.                                    \n",
      "Copying gs://atari-replay-datasets/dqn/Seaquest/1/replay_logs/$store$_reward_ckpt.15.gz...\n",
      "- [1/1 files][ 59.2 KiB/ 59.2 KiB] 100% Done                                    \n",
      "Operation completed over 1 objects/59.2 KiB.                                     \n",
      "Copying gs://atari-replay-datasets/dqn/Seaquest/1/replay_logs/$store$_terminal_ckpt.15.gz...\n",
      "/ [1/1 files][  1.8 KiB/  1.8 KiB] 100% Done                                    \n",
      "Operation completed over 1 objects/1.8 KiB.                                      \n"
     ]
    },
    {
     "name": "stdout",
     "output_type": "stream",
     "text": [
      "loading /home/shenshuo/.d4rl/datasets/Seaquest/1/15/observation.gz...\n",
      "loading /home/shenshuo/.d4rl/datasets/Seaquest/1/15/action.gz...\n",
      "loading /home/shenshuo/.d4rl/datasets/Seaquest/1/15/reward.gz...\n",
      "loading /home/shenshuo/.d4rl/datasets/Seaquest/1/15/terminal.gz...\n"
     ]
    },
    {
     "name": "stderr",
     "output_type": "stream",
     "text": [
      "Copying gs://atari-replay-datasets/dqn/Seaquest/1/replay_logs/$store$_observation_ckpt.16.gz...\n",
      "\\ [1/1 files][122.4 MiB/122.4 MiB] 100% Done                                    \n",
      "Operation completed over 1 objects/122.4 MiB.                                    \n",
      "Copying gs://atari-replay-datasets/dqn/Seaquest/1/replay_logs/$store$_action_ckpt.16.gz...\n",
      "- [1/1 files][499.1 KiB/499.1 KiB] 100% Done                                    \n",
      "Operation completed over 1 objects/499.1 KiB.                                    \n",
      "Copying gs://atari-replay-datasets/dqn/Seaquest/1/replay_logs/$store$_reward_ckpt.16.gz...\n",
      "- [1/1 files][ 58.1 KiB/ 58.1 KiB] 100% Done                                    \n",
      "Operation completed over 1 objects/58.1 KiB.                                     \n",
      "Copying gs://atari-replay-datasets/dqn/Seaquest/1/replay_logs/$store$_terminal_ckpt.16.gz...\n",
      "- [1/1 files][  2.0 KiB/  2.0 KiB] 100% Done                                    \n",
      "Operation completed over 1 objects/2.0 KiB.                                      \n"
     ]
    },
    {
     "name": "stdout",
     "output_type": "stream",
     "text": [
      "loading /home/shenshuo/.d4rl/datasets/Seaquest/1/16/observation.gz...\n",
      "loading /home/shenshuo/.d4rl/datasets/Seaquest/1/16/action.gz...\n",
      "loading /home/shenshuo/.d4rl/datasets/Seaquest/1/16/reward.gz...\n",
      "loading /home/shenshuo/.d4rl/datasets/Seaquest/1/16/terminal.gz...\n"
     ]
    },
    {
     "name": "stderr",
     "output_type": "stream",
     "text": [
      "Copying gs://atari-replay-datasets/dqn/Seaquest/1/replay_logs/$store$_observation_ckpt.17.gz...\n",
      "\\ [1/1 files][122.1 MiB/122.1 MiB] 100% Done                                    \n",
      "Operation completed over 1 objects/122.1 MiB.                                    \n",
      "Copying gs://atari-replay-datasets/dqn/Seaquest/1/replay_logs/$store$_action_ckpt.17.gz...\n",
      "- [1/1 files][505.5 KiB/505.5 KiB] 100% Done                                    \n",
      "Operation completed over 1 objects/505.5 KiB.                                    \n",
      "Copying gs://atari-replay-datasets/dqn/Seaquest/1/replay_logs/$store$_reward_ckpt.17.gz...\n",
      "- [1/1 files][ 58.9 KiB/ 58.9 KiB] 100% Done                                    \n",
      "Operation completed over 1 objects/58.9 KiB.                                     \n",
      "Copying gs://atari-replay-datasets/dqn/Seaquest/1/replay_logs/$store$_terminal_ckpt.17.gz...\n",
      "/ [1/1 files][  1.9 KiB/  1.9 KiB] 100% Done                                    \n",
      "Operation completed over 1 objects/1.9 KiB.                                      \n"
     ]
    },
    {
     "name": "stdout",
     "output_type": "stream",
     "text": [
      "loading /home/shenshuo/.d4rl/datasets/Seaquest/1/17/observation.gz...\n",
      "loading /home/shenshuo/.d4rl/datasets/Seaquest/1/17/action.gz...\n",
      "loading /home/shenshuo/.d4rl/datasets/Seaquest/1/17/reward.gz...\n",
      "loading /home/shenshuo/.d4rl/datasets/Seaquest/1/17/terminal.gz...\n"
     ]
    },
    {
     "name": "stderr",
     "output_type": "stream",
     "text": [
      "Copying gs://atari-replay-datasets/dqn/Seaquest/1/replay_logs/$store$_observation_ckpt.18.gz...\n",
      "\\ [1/1 files][122.8 MiB/122.8 MiB] 100% Done                                    \n",
      "Operation completed over 1 objects/122.8 MiB.                                    \n",
      "Copying gs://atari-replay-datasets/dqn/Seaquest/1/replay_logs/$store$_action_ckpt.18.gz...\n",
      "- [1/1 files][505.0 KiB/505.0 KiB] 100% Done                                    \n",
      "Operation completed over 1 objects/505.0 KiB.                                    \n",
      "Copying gs://atari-replay-datasets/dqn/Seaquest/1/replay_logs/$store$_reward_ckpt.18.gz...\n",
      "- [1/1 files][ 59.2 KiB/ 59.2 KiB] 100% Done                                    \n",
      "Operation completed over 1 objects/59.2 KiB.                                     \n",
      "Copying gs://atari-replay-datasets/dqn/Seaquest/1/replay_logs/$store$_terminal_ckpt.18.gz...\n",
      "- [1/1 files][  1.9 KiB/  1.9 KiB] 100% Done                                    \n",
      "Operation completed over 1 objects/1.9 KiB.                                      \n"
     ]
    },
    {
     "name": "stdout",
     "output_type": "stream",
     "text": [
      "loading /home/shenshuo/.d4rl/datasets/Seaquest/1/18/observation.gz...\n",
      "loading /home/shenshuo/.d4rl/datasets/Seaquest/1/18/action.gz...\n",
      "loading /home/shenshuo/.d4rl/datasets/Seaquest/1/18/reward.gz...\n",
      "loading /home/shenshuo/.d4rl/datasets/Seaquest/1/18/terminal.gz...\n"
     ]
    },
    {
     "name": "stderr",
     "output_type": "stream",
     "text": [
      "Copying gs://atari-replay-datasets/dqn/Seaquest/1/replay_logs/$store$_observation_ckpt.19.gz...\n",
      "\\ [1/1 files][122.1 MiB/122.1 MiB] 100% Done                                    \n",
      "Operation completed over 1 objects/122.1 MiB.                                    \n",
      "Copying gs://atari-replay-datasets/dqn/Seaquest/1/replay_logs/$store$_action_ckpt.19.gz...\n",
      "- [1/1 files][508.8 KiB/508.8 KiB] 100% Done                                    \n",
      "Operation completed over 1 objects/508.8 KiB.                                    \n",
      "Copying gs://atari-replay-datasets/dqn/Seaquest/1/replay_logs/$store$_reward_ckpt.19.gz...\n",
      "- [1/1 files][ 59.8 KiB/ 59.8 KiB] 100% Done                                    \n",
      "Operation completed over 1 objects/59.8 KiB.                                     \n",
      "Copying gs://atari-replay-datasets/dqn/Seaquest/1/replay_logs/$store$_terminal_ckpt.19.gz...\n",
      "- [1/1 files][  1.9 KiB/  1.9 KiB] 100% Done                                    \n",
      "Operation completed over 1 objects/1.9 KiB.                                      \n"
     ]
    },
    {
     "name": "stdout",
     "output_type": "stream",
     "text": [
      "loading /home/shenshuo/.d4rl/datasets/Seaquest/1/19/observation.gz...\n",
      "loading /home/shenshuo/.d4rl/datasets/Seaquest/1/19/action.gz...\n",
      "loading /home/shenshuo/.d4rl/datasets/Seaquest/1/19/reward.gz...\n",
      "loading /home/shenshuo/.d4rl/datasets/Seaquest/1/19/terminal.gz...\n"
     ]
    },
    {
     "name": "stderr",
     "output_type": "stream",
     "text": [
      "Copying gs://atari-replay-datasets/dqn/Seaquest/1/replay_logs/$store$_observation_ckpt.20.gz...\n",
      "\\ [1/1 files][122.5 MiB/122.5 MiB] 100% Done                                    \n",
      "Operation completed over 1 objects/122.5 MiB.                                    \n",
      "Copying gs://atari-replay-datasets/dqn/Seaquest/1/replay_logs/$store$_action_ckpt.20.gz...\n",
      "- [1/1 files][503.9 KiB/503.9 KiB] 100% Done                                    \n",
      "Operation completed over 1 objects/503.9 KiB.                                    \n",
      "Copying gs://atari-replay-datasets/dqn/Seaquest/1/replay_logs/$store$_reward_ckpt.20.gz...\n",
      "- [1/1 files][ 60.2 KiB/ 60.2 KiB] 100% Done                                    \n",
      "Operation completed over 1 objects/60.2 KiB.                                     \n",
      "Copying gs://atari-replay-datasets/dqn/Seaquest/1/replay_logs/$store$_terminal_ckpt.20.gz...\n",
      "- [1/1 files][  1.8 KiB/  1.8 KiB] 100% Done                                    \n",
      "Operation completed over 1 objects/1.8 KiB.                                      \n"
     ]
    },
    {
     "name": "stdout",
     "output_type": "stream",
     "text": [
      "loading /home/shenshuo/.d4rl/datasets/Seaquest/1/20/observation.gz...\n",
      "loading /home/shenshuo/.d4rl/datasets/Seaquest/1/20/action.gz...\n",
      "loading /home/shenshuo/.d4rl/datasets/Seaquest/1/20/reward.gz...\n",
      "loading /home/shenshuo/.d4rl/datasets/Seaquest/1/20/terminal.gz...\n"
     ]
    },
    {
     "name": "stderr",
     "output_type": "stream",
     "text": [
      "Copying gs://atari-replay-datasets/dqn/Seaquest/1/replay_logs/$store$_observation_ckpt.21.gz...\n",
      "\\ [1/1 files][122.0 MiB/122.0 MiB] 100% Done                                    \n",
      "Operation completed over 1 objects/122.0 MiB.                                    \n",
      "Copying gs://atari-replay-datasets/dqn/Seaquest/1/replay_logs/$store$_action_ckpt.21.gz...\n",
      "- [1/1 files][503.2 KiB/503.2 KiB] 100% Done                                    \n",
      "Operation completed over 1 objects/503.2 KiB.                                    \n",
      "Copying gs://atari-replay-datasets/dqn/Seaquest/1/replay_logs/$store$_reward_ckpt.21.gz...\n",
      "- [1/1 files][ 60.3 KiB/ 60.3 KiB] 100% Done                                    \n",
      "Operation completed over 1 objects/60.3 KiB.                                     \n",
      "Copying gs://atari-replay-datasets/dqn/Seaquest/1/replay_logs/$store$_terminal_ckpt.21.gz...\n",
      "/ [1/1 files][  1.9 KiB/  1.9 KiB] 100% Done                                    \n",
      "Operation completed over 1 objects/1.9 KiB.                                      \n"
     ]
    },
    {
     "name": "stdout",
     "output_type": "stream",
     "text": [
      "loading /home/shenshuo/.d4rl/datasets/Seaquest/1/21/observation.gz...\n",
      "loading /home/shenshuo/.d4rl/datasets/Seaquest/1/21/action.gz...\n",
      "loading /home/shenshuo/.d4rl/datasets/Seaquest/1/21/reward.gz...\n",
      "loading /home/shenshuo/.d4rl/datasets/Seaquest/1/21/terminal.gz...\n"
     ]
    },
    {
     "name": "stderr",
     "output_type": "stream",
     "text": [
      "Copying gs://atari-replay-datasets/dqn/Seaquest/1/replay_logs/$store$_observation_ckpt.22.gz...\n",
      "/ [1/1 files][122.9 MiB/122.9 MiB] 100% Done                                    \n",
      "Operation completed over 1 objects/122.9 MiB.                                    \n",
      "Copying gs://atari-replay-datasets/dqn/Seaquest/1/replay_logs/$store$_action_ckpt.22.gz...\n",
      "- [1/1 files][500.9 KiB/500.9 KiB] 100% Done                                    \n",
      "Operation completed over 1 objects/500.9 KiB.                                    \n",
      "Copying gs://atari-replay-datasets/dqn/Seaquest/1/replay_logs/$store$_reward_ckpt.22.gz...\n",
      "- [1/1 files][ 59.7 KiB/ 59.7 KiB] 100% Done                                    \n",
      "Operation completed over 1 objects/59.7 KiB.                                     \n",
      "Copying gs://atari-replay-datasets/dqn/Seaquest/1/replay_logs/$store$_terminal_ckpt.22.gz...\n",
      "/ [1/1 files][  1.9 KiB/  1.9 KiB] 100% Done                                    \n",
      "Operation completed over 1 objects/1.9 KiB.                                      \n"
     ]
    },
    {
     "name": "stdout",
     "output_type": "stream",
     "text": [
      "loading /home/shenshuo/.d4rl/datasets/Seaquest/1/22/observation.gz...\n",
      "loading /home/shenshuo/.d4rl/datasets/Seaquest/1/22/action.gz...\n",
      "loading /home/shenshuo/.d4rl/datasets/Seaquest/1/22/reward.gz...\n",
      "loading /home/shenshuo/.d4rl/datasets/Seaquest/1/22/terminal.gz...\n"
     ]
    },
    {
     "name": "stderr",
     "output_type": "stream",
     "text": [
      "Copying gs://atari-replay-datasets/dqn/Seaquest/1/replay_logs/$store$_observation_ckpt.23.gz...\n",
      "| [1/1 files][123.1 MiB/123.1 MiB] 100% Done   3.0 MiB/s ETA 00:00:00           \n",
      "Operation completed over 1 objects/123.1 MiB.                                    \n",
      "Copying gs://atari-replay-datasets/dqn/Seaquest/1/replay_logs/$store$_action_ckpt.23.gz...\n",
      "- [1/1 files][501.7 KiB/501.7 KiB] 100% Done                                    \n",
      "Operation completed over 1 objects/501.7 KiB.                                    \n",
      "Copying gs://atari-replay-datasets/dqn/Seaquest/1/replay_logs/$store$_reward_ckpt.23.gz...\n",
      "- [1/1 files][ 59.8 KiB/ 59.8 KiB] 100% Done                                    \n",
      "Operation completed over 1 objects/59.8 KiB.                                     \n",
      "Copying gs://atari-replay-datasets/dqn/Seaquest/1/replay_logs/$store$_terminal_ckpt.23.gz...\n",
      "- [1/1 files][  1.9 KiB/  1.9 KiB] 100% Done                                    \n",
      "Operation completed over 1 objects/1.9 KiB.                                      \n"
     ]
    },
    {
     "name": "stdout",
     "output_type": "stream",
     "text": [
      "loading /home/shenshuo/.d4rl/datasets/Seaquest/1/23/observation.gz...\n",
      "loading /home/shenshuo/.d4rl/datasets/Seaquest/1/23/action.gz...\n",
      "loading /home/shenshuo/.d4rl/datasets/Seaquest/1/23/reward.gz...\n",
      "loading /home/shenshuo/.d4rl/datasets/Seaquest/1/23/terminal.gz...\n"
     ]
    },
    {
     "name": "stderr",
     "output_type": "stream",
     "text": [
      "Copying gs://atari-replay-datasets/dqn/Seaquest/1/replay_logs/$store$_observation_ckpt.24.gz...\n",
      "- [1/1 files][124.3 MiB/124.3 MiB] 100% Done   4.5 MiB/s ETA 00:00:00           \n",
      "Operation completed over 1 objects/124.3 MiB.                                    \n",
      "Copying gs://atari-replay-datasets/dqn/Seaquest/1/replay_logs/$store$_action_ckpt.24.gz...\n",
      "- [1/1 files][502.8 KiB/502.8 KiB] 100% Done                                    \n",
      "Operation completed over 1 objects/502.8 KiB.                                    \n",
      "Copying gs://atari-replay-datasets/dqn/Seaquest/1/replay_logs/$store$_reward_ckpt.24.gz...\n",
      "- [1/1 files][ 60.6 KiB/ 60.6 KiB] 100% Done                                    \n",
      "Operation completed over 1 objects/60.6 KiB.                                     \n",
      "Copying gs://atari-replay-datasets/dqn/Seaquest/1/replay_logs/$store$_terminal_ckpt.24.gz...\n",
      "- [1/1 files][  1.9 KiB/  1.9 KiB] 100% Done                                    \n",
      "Operation completed over 1 objects/1.9 KiB.                                      \n"
     ]
    },
    {
     "name": "stdout",
     "output_type": "stream",
     "text": [
      "loading /home/shenshuo/.d4rl/datasets/Seaquest/1/24/observation.gz...\n",
      "loading /home/shenshuo/.d4rl/datasets/Seaquest/1/24/action.gz...\n",
      "loading /home/shenshuo/.d4rl/datasets/Seaquest/1/24/reward.gz...\n",
      "loading /home/shenshuo/.d4rl/datasets/Seaquest/1/24/terminal.gz...\n"
     ]
    },
    {
     "name": "stderr",
     "output_type": "stream",
     "text": [
      "Copying gs://atari-replay-datasets/dqn/Seaquest/1/replay_logs/$store$_observation_ckpt.25.gz...\n",
      "\\ [1/1 files][122.8 MiB/122.8 MiB] 100% Done                                    \n",
      "Operation completed over 1 objects/122.8 MiB.                                    \n",
      "Copying gs://atari-replay-datasets/dqn/Seaquest/1/replay_logs/$store$_action_ckpt.25.gz...\n",
      "- [1/1 files][504.7 KiB/504.7 KiB] 100% Done                                    \n",
      "Operation completed over 1 objects/504.7 KiB.                                    \n",
      "Copying gs://atari-replay-datasets/dqn/Seaquest/1/replay_logs/$store$_reward_ckpt.25.gz...\n",
      "- [1/1 files][ 60.7 KiB/ 60.7 KiB] 100% Done                                    \n",
      "Operation completed over 1 objects/60.7 KiB.                                     \n",
      "Copying gs://atari-replay-datasets/dqn/Seaquest/1/replay_logs/$store$_terminal_ckpt.25.gz...\n",
      "/ [1/1 files][  1.8 KiB/  1.8 KiB] 100% Done                                    \n",
      "Operation completed over 1 objects/1.8 KiB.                                      \n"
     ]
    },
    {
     "name": "stdout",
     "output_type": "stream",
     "text": [
      "loading /home/shenshuo/.d4rl/datasets/Seaquest/1/25/observation.gz...\n",
      "loading /home/shenshuo/.d4rl/datasets/Seaquest/1/25/action.gz...\n",
      "loading /home/shenshuo/.d4rl/datasets/Seaquest/1/25/reward.gz...\n",
      "loading /home/shenshuo/.d4rl/datasets/Seaquest/1/25/terminal.gz...\n"
     ]
    },
    {
     "name": "stderr",
     "output_type": "stream",
     "text": [
      "Copying gs://atari-replay-datasets/dqn/Seaquest/1/replay_logs/$store$_observation_ckpt.26.gz...\n",
      "| [1/1 files][123.8 MiB/123.8 MiB] 100% Done                                    \n",
      "Operation completed over 1 objects/123.8 MiB.                                    \n",
      "Copying gs://atari-replay-datasets/dqn/Seaquest/1/replay_logs/$store$_action_ckpt.26.gz...\n",
      "- [1/1 files][503.7 KiB/503.7 KiB] 100% Done                                    \n",
      "Operation completed over 1 objects/503.7 KiB.                                    \n",
      "Copying gs://atari-replay-datasets/dqn/Seaquest/1/replay_logs/$store$_reward_ckpt.26.gz...\n",
      "- [1/1 files][ 60.8 KiB/ 60.8 KiB] 100% Done                                    \n",
      "Operation completed over 1 objects/60.8 KiB.                                     \n",
      "Copying gs://atari-replay-datasets/dqn/Seaquest/1/replay_logs/$store$_terminal_ckpt.26.gz...\n",
      "- [1/1 files][  1.9 KiB/  1.9 KiB] 100% Done                                    \n",
      "Operation completed over 1 objects/1.9 KiB.                                      \n"
     ]
    },
    {
     "name": "stdout",
     "output_type": "stream",
     "text": [
      "loading /home/shenshuo/.d4rl/datasets/Seaquest/1/26/observation.gz...\n",
      "loading /home/shenshuo/.d4rl/datasets/Seaquest/1/26/action.gz...\n",
      "loading /home/shenshuo/.d4rl/datasets/Seaquest/1/26/reward.gz...\n",
      "loading /home/shenshuo/.d4rl/datasets/Seaquest/1/26/terminal.gz...\n"
     ]
    },
    {
     "name": "stderr",
     "output_type": "stream",
     "text": [
      "Copying gs://atari-replay-datasets/dqn/Seaquest/1/replay_logs/$store$_observation_ckpt.27.gz...\n",
      "\\ [1/1 files][125.4 MiB/125.4 MiB] 100% Done                                    \n",
      "Operation completed over 1 objects/125.4 MiB.                                    \n",
      "Copying gs://atari-replay-datasets/dqn/Seaquest/1/replay_logs/$store$_action_ckpt.27.gz...\n",
      "- [1/1 files][496.7 KiB/496.7 KiB] 100% Done                                    \n",
      "Operation completed over 1 objects/496.7 KiB.                                    \n",
      "Copying gs://atari-replay-datasets/dqn/Seaquest/1/replay_logs/$store$_reward_ckpt.27.gz...\n",
      "- [1/1 files][ 60.1 KiB/ 60.1 KiB] 100% Done                                    \n",
      "Operation completed over 1 objects/60.1 KiB.                                     \n",
      "Copying gs://atari-replay-datasets/dqn/Seaquest/1/replay_logs/$store$_terminal_ckpt.27.gz...\n",
      "- [1/1 files][  1.9 KiB/  1.9 KiB] 100% Done                                    \n",
      "Operation completed over 1 objects/1.9 KiB.                                      \n"
     ]
    },
    {
     "name": "stdout",
     "output_type": "stream",
     "text": [
      "loading /home/shenshuo/.d4rl/datasets/Seaquest/1/27/observation.gz...\n",
      "loading /home/shenshuo/.d4rl/datasets/Seaquest/1/27/action.gz...\n",
      "loading /home/shenshuo/.d4rl/datasets/Seaquest/1/27/reward.gz...\n",
      "loading /home/shenshuo/.d4rl/datasets/Seaquest/1/27/terminal.gz...\n"
     ]
    },
    {
     "name": "stderr",
     "output_type": "stream",
     "text": [
      "Copying gs://atari-replay-datasets/dqn/Seaquest/1/replay_logs/$store$_observation_ckpt.28.gz...\n",
      "\\ [1/1 files][126.0 MiB/126.0 MiB] 100% Done                                    \n",
      "Operation completed over 1 objects/126.0 MiB.                                    \n",
      "Copying gs://atari-replay-datasets/dqn/Seaquest/1/replay_logs/$store$_action_ckpt.28.gz...\n",
      "- [1/1 files][492.3 KiB/492.3 KiB] 100% Done                                    \n",
      "Operation completed over 1 objects/492.3 KiB.                                    \n",
      "Copying gs://atari-replay-datasets/dqn/Seaquest/1/replay_logs/$store$_reward_ckpt.28.gz...\n",
      "- [1/1 files][ 60.8 KiB/ 60.8 KiB] 100% Done                                    \n",
      "Operation completed over 1 objects/60.8 KiB.                                     \n",
      "Copying gs://atari-replay-datasets/dqn/Seaquest/1/replay_logs/$store$_terminal_ckpt.28.gz...\n",
      "/ [1/1 files][  2.0 KiB/  2.0 KiB] 100% Done                                    \n",
      "Operation completed over 1 objects/2.0 KiB.                                      \n"
     ]
    },
    {
     "name": "stdout",
     "output_type": "stream",
     "text": [
      "loading /home/shenshuo/.d4rl/datasets/Seaquest/1/28/observation.gz...\n",
      "loading /home/shenshuo/.d4rl/datasets/Seaquest/1/28/action.gz...\n",
      "loading /home/shenshuo/.d4rl/datasets/Seaquest/1/28/reward.gz...\n",
      "loading /home/shenshuo/.d4rl/datasets/Seaquest/1/28/terminal.gz...\n"
     ]
    },
    {
     "name": "stderr",
     "output_type": "stream",
     "text": [
      "Copying gs://atari-replay-datasets/dqn/Seaquest/1/replay_logs/$store$_observation_ckpt.29.gz...\n",
      "\\ [1/1 files][125.6 MiB/125.6 MiB] 100% Done                                    \n",
      "Operation completed over 1 objects/125.6 MiB.                                    \n",
      "Copying gs://atari-replay-datasets/dqn/Seaquest/1/replay_logs/$store$_action_ckpt.29.gz...\n",
      "- [1/1 files][496.1 KiB/496.1 KiB] 100% Done                                    \n",
      "Operation completed over 1 objects/496.1 KiB.                                    \n",
      "Copying gs://atari-replay-datasets/dqn/Seaquest/1/replay_logs/$store$_reward_ckpt.29.gz...\n",
      "- [1/1 files][ 60.4 KiB/ 60.4 KiB] 100% Done                                    \n",
      "Operation completed over 1 objects/60.4 KiB.                                     \n",
      "Copying gs://atari-replay-datasets/dqn/Seaquest/1/replay_logs/$store$_terminal_ckpt.29.gz...\n",
      "- [1/1 files][  1.9 KiB/  1.9 KiB] 100% Done                                    \n",
      "Operation completed over 1 objects/1.9 KiB.                                      \n"
     ]
    },
    {
     "name": "stdout",
     "output_type": "stream",
     "text": [
      "loading /home/shenshuo/.d4rl/datasets/Seaquest/1/29/observation.gz...\n",
      "loading /home/shenshuo/.d4rl/datasets/Seaquest/1/29/action.gz...\n",
      "loading /home/shenshuo/.d4rl/datasets/Seaquest/1/29/reward.gz...\n",
      "loading /home/shenshuo/.d4rl/datasets/Seaquest/1/29/terminal.gz...\n"
     ]
    },
    {
     "name": "stderr",
     "output_type": "stream",
     "text": [
      "Copying gs://atari-replay-datasets/dqn/Seaquest/1/replay_logs/$store$_observation_ckpt.30.gz...\n",
      "\\ [1/1 files][125.4 MiB/125.4 MiB] 100% Done                                    \n",
      "Operation completed over 1 objects/125.4 MiB.                                    \n",
      "Copying gs://atari-replay-datasets/dqn/Seaquest/1/replay_logs/$store$_action_ckpt.30.gz...\n",
      "- [1/1 files][495.8 KiB/495.8 KiB] 100% Done                                    \n",
      "Operation completed over 1 objects/495.8 KiB.                                    \n",
      "Copying gs://atari-replay-datasets/dqn/Seaquest/1/replay_logs/$store$_reward_ckpt.30.gz...\n",
      "- [1/1 files][ 59.9 KiB/ 59.9 KiB] 100% Done                                    \n",
      "Operation completed over 1 objects/59.9 KiB.                                     \n",
      "Copying gs://atari-replay-datasets/dqn/Seaquest/1/replay_logs/$store$_terminal_ckpt.30.gz...\n",
      "- [1/1 files][  1.9 KiB/  1.9 KiB] 100% Done                                    \n",
      "Operation completed over 1 objects/1.9 KiB.                                      \n"
     ]
    },
    {
     "name": "stdout",
     "output_type": "stream",
     "text": [
      "loading /home/shenshuo/.d4rl/datasets/Seaquest/1/30/observation.gz...\n",
      "loading /home/shenshuo/.d4rl/datasets/Seaquest/1/30/action.gz...\n",
      "loading /home/shenshuo/.d4rl/datasets/Seaquest/1/30/reward.gz...\n",
      "loading /home/shenshuo/.d4rl/datasets/Seaquest/1/30/terminal.gz...\n"
     ]
    },
    {
     "name": "stderr",
     "output_type": "stream",
     "text": [
      "Copying gs://atari-replay-datasets/dqn/Seaquest/1/replay_logs/$store$_observation_ckpt.31.gz...\n",
      "| [1/1 files][125.6 MiB/125.6 MiB] 100% Done                                    \n",
      "Operation completed over 1 objects/125.6 MiB.                                    \n",
      "Copying gs://atari-replay-datasets/dqn/Seaquest/1/replay_logs/$store$_action_ckpt.31.gz...\n",
      "- [1/1 files][492.5 KiB/492.5 KiB] 100% Done                                    \n",
      "Operation completed over 1 objects/492.5 KiB.                                    \n",
      "Copying gs://atari-replay-datasets/dqn/Seaquest/1/replay_logs/$store$_reward_ckpt.31.gz...\n",
      "- [1/1 files][ 59.8 KiB/ 59.8 KiB] 100% Done                                    \n",
      "Operation completed over 1 objects/59.8 KiB.                                     \n",
      "Copying gs://atari-replay-datasets/dqn/Seaquest/1/replay_logs/$store$_terminal_ckpt.31.gz...\n",
      "- [1/1 files][  1.9 KiB/  1.9 KiB] 100% Done                                    \n",
      "Operation completed over 1 objects/1.9 KiB.                                      \n"
     ]
    },
    {
     "name": "stdout",
     "output_type": "stream",
     "text": [
      "loading /home/shenshuo/.d4rl/datasets/Seaquest/1/31/observation.gz...\n",
      "loading /home/shenshuo/.d4rl/datasets/Seaquest/1/31/action.gz...\n",
      "loading /home/shenshuo/.d4rl/datasets/Seaquest/1/31/reward.gz...\n",
      "loading /home/shenshuo/.d4rl/datasets/Seaquest/1/31/terminal.gz...\n"
     ]
    },
    {
     "name": "stderr",
     "output_type": "stream",
     "text": [
      "Copying gs://atari-replay-datasets/dqn/Seaquest/1/replay_logs/$store$_observation_ckpt.32.gz...\n",
      "/ [1/1 files][127.8 MiB/127.8 MiB] 100% Done                                    \n",
      "Operation completed over 1 objects/127.8 MiB.                                    \n",
      "Copying gs://atari-replay-datasets/dqn/Seaquest/1/replay_logs/$store$_action_ckpt.32.gz...\n",
      "- [1/1 files][495.6 KiB/495.6 KiB] 100% Done                                    \n",
      "Operation completed over 1 objects/495.6 KiB.                                    \n",
      "Copying gs://atari-replay-datasets/dqn/Seaquest/1/replay_logs/$store$_reward_ckpt.32.gz...\n",
      "- [1/1 files][ 60.4 KiB/ 60.4 KiB] 100% Done                                    \n",
      "Operation completed over 1 objects/60.4 KiB.                                     \n",
      "Copying gs://atari-replay-datasets/dqn/Seaquest/1/replay_logs/$store$_terminal_ckpt.32.gz...\n",
      "/ [1/1 files][  1.9 KiB/  1.9 KiB] 100% Done                                    \n",
      "Operation completed over 1 objects/1.9 KiB.                                      \n"
     ]
    },
    {
     "name": "stdout",
     "output_type": "stream",
     "text": [
      "loading /home/shenshuo/.d4rl/datasets/Seaquest/1/32/observation.gz...\n",
      "loading /home/shenshuo/.d4rl/datasets/Seaquest/1/32/action.gz...\n",
      "loading /home/shenshuo/.d4rl/datasets/Seaquest/1/32/reward.gz...\n",
      "loading /home/shenshuo/.d4rl/datasets/Seaquest/1/32/terminal.gz...\n"
     ]
    },
    {
     "name": "stderr",
     "output_type": "stream",
     "text": [
      "Copying gs://atari-replay-datasets/dqn/Seaquest/1/replay_logs/$store$_observation_ckpt.33.gz...\n",
      "\\ [1/1 files][128.4 MiB/128.4 MiB] 100% Done                                    \n",
      "Operation completed over 1 objects/128.4 MiB.                                    \n",
      "Copying gs://atari-replay-datasets/dqn/Seaquest/1/replay_logs/$store$_action_ckpt.33.gz...\n",
      "- [1/1 files][499.7 KiB/499.7 KiB] 100% Done                                    \n",
      "Operation completed over 1 objects/499.7 KiB.                                    \n",
      "Copying gs://atari-replay-datasets/dqn/Seaquest/1/replay_logs/$store$_reward_ckpt.33.gz...\n",
      "- [1/1 files][ 62.7 KiB/ 62.7 KiB] 100% Done                                    \n",
      "Operation completed over 1 objects/62.7 KiB.                                     \n",
      "Copying gs://atari-replay-datasets/dqn/Seaquest/1/replay_logs/$store$_terminal_ckpt.33.gz...\n",
      "- [1/1 files][  1.9 KiB/  1.9 KiB] 100% Done                                    \n",
      "Operation completed over 1 objects/1.9 KiB.                                      \n"
     ]
    },
    {
     "name": "stdout",
     "output_type": "stream",
     "text": [
      "loading /home/shenshuo/.d4rl/datasets/Seaquest/1/33/observation.gz...\n",
      "loading /home/shenshuo/.d4rl/datasets/Seaquest/1/33/action.gz...\n",
      "loading /home/shenshuo/.d4rl/datasets/Seaquest/1/33/reward.gz...\n",
      "loading /home/shenshuo/.d4rl/datasets/Seaquest/1/33/terminal.gz...\n"
     ]
    },
    {
     "name": "stderr",
     "output_type": "stream",
     "text": [
      "Copying gs://atari-replay-datasets/dqn/Seaquest/1/replay_logs/$store$_observation_ckpt.34.gz...\n",
      "\\ [1/1 files][130.7 MiB/130.7 MiB] 100% Done                                    \n",
      "Operation completed over 1 objects/130.7 MiB.                                    \n",
      "Copying gs://atari-replay-datasets/dqn/Seaquest/1/replay_logs/$store$_action_ckpt.34.gz...\n",
      "- [1/1 files][497.1 KiB/497.1 KiB] 100% Done                                    \n",
      "Operation completed over 1 objects/497.1 KiB.                                    \n",
      "Copying gs://atari-replay-datasets/dqn/Seaquest/1/replay_logs/$store$_reward_ckpt.34.gz...\n",
      "- [1/1 files][ 64.0 KiB/ 64.0 KiB] 100% Done                                    \n",
      "Operation completed over 1 objects/64.0 KiB.                                     \n",
      "Copying gs://atari-replay-datasets/dqn/Seaquest/1/replay_logs/$store$_terminal_ckpt.34.gz...\n",
      "- [1/1 files][  1.9 KiB/  1.9 KiB] 100% Done                                    \n",
      "Operation completed over 1 objects/1.9 KiB.                                      \n"
     ]
    },
    {
     "name": "stdout",
     "output_type": "stream",
     "text": [
      "loading /home/shenshuo/.d4rl/datasets/Seaquest/1/34/observation.gz...\n",
      "loading /home/shenshuo/.d4rl/datasets/Seaquest/1/34/action.gz...\n",
      "loading /home/shenshuo/.d4rl/datasets/Seaquest/1/34/reward.gz...\n",
      "loading /home/shenshuo/.d4rl/datasets/Seaquest/1/34/terminal.gz...\n"
     ]
    },
    {
     "name": "stderr",
     "output_type": "stream",
     "text": [
      "Copying gs://atari-replay-datasets/dqn/Seaquest/1/replay_logs/$store$_observation_ckpt.35.gz...\n",
      "/ [1/1 files][130.6 MiB/130.6 MiB] 100% Done  17.5 MiB/s ETA 00:00:00           \n",
      "Operation completed over 1 objects/130.6 MiB.                                    \n",
      "Copying gs://atari-replay-datasets/dqn/Seaquest/1/replay_logs/$store$_action_ckpt.35.gz...\n",
      "- [1/1 files][485.6 KiB/485.6 KiB] 100% Done                                    \n",
      "Operation completed over 1 objects/485.6 KiB.                                    \n",
      "Copying gs://atari-replay-datasets/dqn/Seaquest/1/replay_logs/$store$_reward_ckpt.35.gz...\n",
      "- [1/1 files][ 59.8 KiB/ 59.8 KiB] 100% Done                                    \n",
      "Operation completed over 1 objects/59.8 KiB.                                     \n",
      "Copying gs://atari-replay-datasets/dqn/Seaquest/1/replay_logs/$store$_terminal_ckpt.35.gz...\n",
      "- [1/1 files][  1.9 KiB/  1.9 KiB] 100% Done                                    \n",
      "Operation completed over 1 objects/1.9 KiB.                                      \n"
     ]
    },
    {
     "name": "stdout",
     "output_type": "stream",
     "text": [
      "loading /home/shenshuo/.d4rl/datasets/Seaquest/1/35/observation.gz...\n",
      "loading /home/shenshuo/.d4rl/datasets/Seaquest/1/35/action.gz...\n",
      "loading /home/shenshuo/.d4rl/datasets/Seaquest/1/35/reward.gz...\n",
      "loading /home/shenshuo/.d4rl/datasets/Seaquest/1/35/terminal.gz...\n"
     ]
    },
    {
     "name": "stderr",
     "output_type": "stream",
     "text": [
      "Copying gs://atari-replay-datasets/dqn/Seaquest/1/replay_logs/$store$_observation_ckpt.36.gz...\n",
      "- [1/1 files][129.6 MiB/129.6 MiB] 100% Done  15.0 MiB/s ETA 00:00:00           \n",
      "Operation completed over 1 objects/129.6 MiB.                                    \n",
      "Copying gs://atari-replay-datasets/dqn/Seaquest/1/replay_logs/$store$_action_ckpt.36.gz...\n",
      "- [1/1 files][476.8 KiB/476.8 KiB] 100% Done                                    \n",
      "Operation completed over 1 objects/476.8 KiB.                                    \n",
      "Copying gs://atari-replay-datasets/dqn/Seaquest/1/replay_logs/$store$_reward_ckpt.36.gz...\n",
      "- [1/1 files][ 58.9 KiB/ 58.9 KiB] 100% Done                                    \n",
      "Operation completed over 1 objects/58.9 KiB.                                     \n",
      "Copying gs://atari-replay-datasets/dqn/Seaquest/1/replay_logs/$store$_terminal_ckpt.36.gz...\n",
      "/ [1/1 files][  2.0 KiB/  2.0 KiB] 100% Done                                    \n",
      "Operation completed over 1 objects/2.0 KiB.                                      \n"
     ]
    },
    {
     "name": "stdout",
     "output_type": "stream",
     "text": [
      "loading /home/shenshuo/.d4rl/datasets/Seaquest/1/36/observation.gz...\n",
      "loading /home/shenshuo/.d4rl/datasets/Seaquest/1/36/action.gz...\n",
      "loading /home/shenshuo/.d4rl/datasets/Seaquest/1/36/reward.gz...\n",
      "loading /home/shenshuo/.d4rl/datasets/Seaquest/1/36/terminal.gz...\n"
     ]
    },
    {
     "name": "stderr",
     "output_type": "stream",
     "text": [
      "Copying gs://atari-replay-datasets/dqn/Seaquest/1/replay_logs/$store$_observation_ckpt.37.gz...\n",
      "- [1/1 files][133.9 MiB/133.9 MiB] 100% Done   8.0 MiB/s ETA 00:00:00           \n",
      "Operation completed over 1 objects/133.9 MiB.                                    \n",
      "Copying gs://atari-replay-datasets/dqn/Seaquest/1/replay_logs/$store$_action_ckpt.37.gz...\n",
      "- [1/1 files][492.5 KiB/492.5 KiB] 100% Done                                    \n",
      "Operation completed over 1 objects/492.5 KiB.                                    \n",
      "Copying gs://atari-replay-datasets/dqn/Seaquest/1/replay_logs/$store$_reward_ckpt.37.gz...\n",
      "- [1/1 files][ 64.6 KiB/ 64.6 KiB] 100% Done                                    \n",
      "Operation completed over 1 objects/64.6 KiB.                                     \n",
      "Copying gs://atari-replay-datasets/dqn/Seaquest/1/replay_logs/$store$_terminal_ckpt.37.gz...\n",
      "- [1/1 files][  2.0 KiB/  2.0 KiB] 100% Done                                    \n",
      "Operation completed over 1 objects/2.0 KiB.                                      \n"
     ]
    },
    {
     "name": "stdout",
     "output_type": "stream",
     "text": [
      "loading /home/shenshuo/.d4rl/datasets/Seaquest/1/37/observation.gz...\n",
      "loading /home/shenshuo/.d4rl/datasets/Seaquest/1/37/action.gz...\n",
      "loading /home/shenshuo/.d4rl/datasets/Seaquest/1/37/reward.gz...\n",
      "loading /home/shenshuo/.d4rl/datasets/Seaquest/1/37/terminal.gz...\n"
     ]
    },
    {
     "name": "stderr",
     "output_type": "stream",
     "text": [
      "Copying gs://atari-replay-datasets/dqn/Seaquest/1/replay_logs/$store$_observation_ckpt.38.gz...\n",
      "| [1/1 files][140.5 MiB/140.5 MiB] 100% Done                                    \n",
      "Operation completed over 1 objects/140.5 MiB.                                    \n",
      "Copying gs://atari-replay-datasets/dqn/Seaquest/1/replay_logs/$store$_action_ckpt.38.gz...\n",
      "- [1/1 files][497.6 KiB/497.6 KiB] 100% Done                                    \n",
      "Operation completed over 1 objects/497.6 KiB.                                    \n",
      "Copying gs://atari-replay-datasets/dqn/Seaquest/1/replay_logs/$store$_reward_ckpt.38.gz...\n",
      "- [1/1 files][ 72.1 KiB/ 72.1 KiB] 100% Done                                    \n",
      "Operation completed over 1 objects/72.1 KiB.                                     \n",
      "Copying gs://atari-replay-datasets/dqn/Seaquest/1/replay_logs/$store$_terminal_ckpt.38.gz...\n",
      "/ [1/1 files][  2.0 KiB/  2.0 KiB] 100% Done                                    \n",
      "Operation completed over 1 objects/2.0 KiB.                                      \n"
     ]
    },
    {
     "name": "stdout",
     "output_type": "stream",
     "text": [
      "loading /home/shenshuo/.d4rl/datasets/Seaquest/1/38/observation.gz...\n",
      "loading /home/shenshuo/.d4rl/datasets/Seaquest/1/38/action.gz...\n",
      "loading /home/shenshuo/.d4rl/datasets/Seaquest/1/38/reward.gz...\n",
      "loading /home/shenshuo/.d4rl/datasets/Seaquest/1/38/terminal.gz...\n"
     ]
    },
    {
     "name": "stderr",
     "output_type": "stream",
     "text": [
      "Copying gs://atari-replay-datasets/dqn/Seaquest/1/replay_logs/$store$_observation_ckpt.39.gz...\n",
      "| [1/1 files][143.3 MiB/143.3 MiB] 100% Done                                    \n",
      "Operation completed over 1 objects/143.3 MiB.                                    \n",
      "Copying gs://atari-replay-datasets/dqn/Seaquest/1/replay_logs/$store$_action_ckpt.39.gz...\n",
      "- [1/1 files][506.2 KiB/506.2 KiB] 100% Done                                    \n",
      "Operation completed over 1 objects/506.2 KiB.                                    \n",
      "Copying gs://atari-replay-datasets/dqn/Seaquest/1/replay_logs/$store$_reward_ckpt.39.gz...\n",
      "- [1/1 files][ 76.0 KiB/ 76.0 KiB] 100% Done                                    \n",
      "Operation completed over 1 objects/76.0 KiB.                                     \n",
      "Copying gs://atari-replay-datasets/dqn/Seaquest/1/replay_logs/$store$_terminal_ckpt.39.gz...\n",
      "- [1/1 files][  2.0 KiB/  2.0 KiB] 100% Done                                    \n",
      "Operation completed over 1 objects/2.0 KiB.                                      \n"
     ]
    },
    {
     "name": "stdout",
     "output_type": "stream",
     "text": [
      "loading /home/shenshuo/.d4rl/datasets/Seaquest/1/39/observation.gz...\n",
      "loading /home/shenshuo/.d4rl/datasets/Seaquest/1/39/action.gz...\n",
      "loading /home/shenshuo/.d4rl/datasets/Seaquest/1/39/reward.gz...\n",
      "loading /home/shenshuo/.d4rl/datasets/Seaquest/1/39/terminal.gz...\n"
     ]
    },
    {
     "name": "stderr",
     "output_type": "stream",
     "text": [
      "Copying gs://atari-replay-datasets/dqn/Seaquest/1/replay_logs/$store$_observation_ckpt.40.gz...\n",
      "| [1/1 files][143.9 MiB/143.9 MiB] 100% Done  23.3 MiB/s ETA 00:00:00           \n",
      "Operation completed over 1 objects/143.9 MiB.                                    \n",
      "Copying gs://atari-replay-datasets/dqn/Seaquest/1/replay_logs/$store$_action_ckpt.40.gz...\n",
      "- [1/1 files][514.0 KiB/514.0 KiB] 100% Done                                    \n",
      "Operation completed over 1 objects/514.0 KiB.                                    \n",
      "Copying gs://atari-replay-datasets/dqn/Seaquest/1/replay_logs/$store$_reward_ckpt.40.gz...\n",
      "- [1/1 files][ 81.0 KiB/ 81.0 KiB] 100% Done                                    \n",
      "Operation completed over 1 objects/81.0 KiB.                                     \n",
      "Copying gs://atari-replay-datasets/dqn/Seaquest/1/replay_logs/$store$_terminal_ckpt.40.gz...\n",
      "- [1/1 files][  2.0 KiB/  2.0 KiB] 100% Done                                    \n",
      "Operation completed over 1 objects/2.0 KiB.                                      \n"
     ]
    },
    {
     "name": "stdout",
     "output_type": "stream",
     "text": [
      "loading /home/shenshuo/.d4rl/datasets/Seaquest/1/40/observation.gz...\n",
      "loading /home/shenshuo/.d4rl/datasets/Seaquest/1/40/action.gz...\n",
      "loading /home/shenshuo/.d4rl/datasets/Seaquest/1/40/reward.gz...\n",
      "loading /home/shenshuo/.d4rl/datasets/Seaquest/1/40/terminal.gz...\n"
     ]
    },
    {
     "name": "stderr",
     "output_type": "stream",
     "text": [
      "Copying gs://atari-replay-datasets/dqn/Seaquest/1/replay_logs/$store$_observation_ckpt.41.gz...\n",
      "/ [1/1 files][143.3 MiB/143.3 MiB] 100% Done                                    \n",
      "Operation completed over 1 objects/143.3 MiB.                                    \n",
      "Copying gs://atari-replay-datasets/dqn/Seaquest/1/replay_logs/$store$_action_ckpt.41.gz...\n",
      "- [1/1 files][528.1 KiB/528.1 KiB] 100% Done                                    \n",
      "Operation completed over 1 objects/528.1 KiB.                                    \n",
      "Copying gs://atari-replay-datasets/dqn/Seaquest/1/replay_logs/$store$_reward_ckpt.41.gz...\n",
      "- [1/1 files][ 86.5 KiB/ 86.5 KiB] 100% Done                                    \n",
      "Operation completed over 1 objects/86.5 KiB.                                     \n",
      "Copying gs://atari-replay-datasets/dqn/Seaquest/1/replay_logs/$store$_terminal_ckpt.41.gz...\n",
      "- [1/1 files][  1.9 KiB/  1.9 KiB] 100% Done                                    \n",
      "Operation completed over 1 objects/1.9 KiB.                                      \n"
     ]
    },
    {
     "name": "stdout",
     "output_type": "stream",
     "text": [
      "loading /home/shenshuo/.d4rl/datasets/Seaquest/1/41/observation.gz...\n",
      "loading /home/shenshuo/.d4rl/datasets/Seaquest/1/41/action.gz...\n",
      "loading /home/shenshuo/.d4rl/datasets/Seaquest/1/41/reward.gz...\n",
      "loading /home/shenshuo/.d4rl/datasets/Seaquest/1/41/terminal.gz...\n"
     ]
    },
    {
     "name": "stderr",
     "output_type": "stream",
     "text": [
      "Copying gs://atari-replay-datasets/dqn/Seaquest/1/replay_logs/$store$_observation_ckpt.42.gz...\n",
      "/ [1/1 files][144.2 MiB/144.2 MiB] 100% Done                                    \n",
      "Operation completed over 1 objects/144.2 MiB.                                    \n",
      "Copying gs://atari-replay-datasets/dqn/Seaquest/1/replay_logs/$store$_action_ckpt.42.gz...\n",
      "- [1/1 files][532.6 KiB/532.6 KiB] 100% Done                                    \n",
      "Operation completed over 1 objects/532.6 KiB.                                    \n",
      "Copying gs://atari-replay-datasets/dqn/Seaquest/1/replay_logs/$store$_reward_ckpt.42.gz...\n",
      "- [1/1 files][ 88.8 KiB/ 88.8 KiB] 100% Done                                    \n",
      "Operation completed over 1 objects/88.8 KiB.                                     \n",
      "Copying gs://atari-replay-datasets/dqn/Seaquest/1/replay_logs/$store$_terminal_ckpt.42.gz...\n",
      "- [1/1 files][  1.9 KiB/  1.9 KiB] 100% Done                                    \n",
      "Operation completed over 1 objects/1.9 KiB.                                      \n"
     ]
    },
    {
     "name": "stdout",
     "output_type": "stream",
     "text": [
      "loading /home/shenshuo/.d4rl/datasets/Seaquest/1/42/observation.gz...\n",
      "loading /home/shenshuo/.d4rl/datasets/Seaquest/1/42/action.gz...\n",
      "loading /home/shenshuo/.d4rl/datasets/Seaquest/1/42/reward.gz...\n",
      "loading /home/shenshuo/.d4rl/datasets/Seaquest/1/42/terminal.gz...\n"
     ]
    },
    {
     "name": "stderr",
     "output_type": "stream",
     "text": [
      "Copying gs://atari-replay-datasets/dqn/Seaquest/1/replay_logs/$store$_observation_ckpt.43.gz...\n",
      "| [1/1 files][144.0 MiB/144.0 MiB] 100% Done                                    \n",
      "Operation completed over 1 objects/144.0 MiB.                                    \n",
      "Copying gs://atari-replay-datasets/dqn/Seaquest/1/replay_logs/$store$_action_ckpt.43.gz...\n",
      "- [1/1 files][531.3 KiB/531.3 KiB] 100% Done                                    \n",
      "Operation completed over 1 objects/531.3 KiB.                                    \n",
      "Copying gs://atari-replay-datasets/dqn/Seaquest/1/replay_logs/$store$_reward_ckpt.43.gz...\n",
      "- [1/1 files][ 88.6 KiB/ 88.6 KiB] 100% Done                                    \n",
      "Operation completed over 1 objects/88.6 KiB.                                     \n",
      "Copying gs://atari-replay-datasets/dqn/Seaquest/1/replay_logs/$store$_terminal_ckpt.43.gz...\n",
      "- [1/1 files][  1.9 KiB/  1.9 KiB] 100% Done                                    \n",
      "Operation completed over 1 objects/1.9 KiB.                                      \n"
     ]
    },
    {
     "name": "stdout",
     "output_type": "stream",
     "text": [
      "loading /home/shenshuo/.d4rl/datasets/Seaquest/1/43/observation.gz...\n",
      "loading /home/shenshuo/.d4rl/datasets/Seaquest/1/43/action.gz...\n",
      "loading /home/shenshuo/.d4rl/datasets/Seaquest/1/43/reward.gz...\n",
      "loading /home/shenshuo/.d4rl/datasets/Seaquest/1/43/terminal.gz...\n"
     ]
    },
    {
     "name": "stderr",
     "output_type": "stream",
     "text": [
      "Copying gs://atari-replay-datasets/dqn/Seaquest/1/replay_logs/$store$_observation_ckpt.44.gz...\n",
      "/ [1/1 files][144.2 MiB/144.2 MiB] 100% Done                                    \n",
      "Operation completed over 1 objects/144.2 MiB.                                    \n",
      "Copying gs://atari-replay-datasets/dqn/Seaquest/1/replay_logs/$store$_action_ckpt.44.gz...\n",
      "- [1/1 files][534.8 KiB/534.8 KiB] 100% Done                                    \n",
      "Operation completed over 1 objects/534.8 KiB.                                    \n",
      "Copying gs://atari-replay-datasets/dqn/Seaquest/1/replay_logs/$store$_reward_ckpt.44.gz...\n",
      "- [1/1 files][ 89.9 KiB/ 89.9 KiB] 100% Done                                    \n",
      "Operation completed over 1 objects/89.9 KiB.                                     \n",
      "Copying gs://atari-replay-datasets/dqn/Seaquest/1/replay_logs/$store$_terminal_ckpt.44.gz...\n",
      "- [1/1 files][  1.9 KiB/  1.9 KiB] 100% Done                                    \n",
      "Operation completed over 1 objects/1.9 KiB.                                      \n"
     ]
    },
    {
     "name": "stdout",
     "output_type": "stream",
     "text": [
      "loading /home/shenshuo/.d4rl/datasets/Seaquest/1/44/observation.gz...\n",
      "loading /home/shenshuo/.d4rl/datasets/Seaquest/1/44/action.gz...\n",
      "loading /home/shenshuo/.d4rl/datasets/Seaquest/1/44/reward.gz...\n",
      "loading /home/shenshuo/.d4rl/datasets/Seaquest/1/44/terminal.gz...\n"
     ]
    },
    {
     "name": "stderr",
     "output_type": "stream",
     "text": [
      "Copying gs://atari-replay-datasets/dqn/Seaquest/1/replay_logs/$store$_observation_ckpt.45.gz...\n",
      "| [1/1 files][143.8 MiB/143.8 MiB] 100% Done                                    \n",
      "Operation completed over 1 objects/143.8 MiB.                                    \n",
      "Copying gs://atari-replay-datasets/dqn/Seaquest/1/replay_logs/$store$_action_ckpt.45.gz...\n",
      "- [1/1 files][535.2 KiB/535.2 KiB] 100% Done                                    \n",
      "Operation completed over 1 objects/535.2 KiB.                                    \n",
      "Copying gs://atari-replay-datasets/dqn/Seaquest/1/replay_logs/$store$_reward_ckpt.45.gz...\n",
      "- [1/1 files][ 90.9 KiB/ 90.9 KiB] 100% Done                                    \n",
      "Operation completed over 1 objects/90.9 KiB.                                     \n",
      "Copying gs://atari-replay-datasets/dqn/Seaquest/1/replay_logs/$store$_terminal_ckpt.45.gz...\n",
      "- [1/1 files][  1.8 KiB/  1.8 KiB] 100% Done                                    \n",
      "Operation completed over 1 objects/1.8 KiB.                                      \n"
     ]
    },
    {
     "name": "stdout",
     "output_type": "stream",
     "text": [
      "loading /home/shenshuo/.d4rl/datasets/Seaquest/1/45/observation.gz...\n",
      "loading /home/shenshuo/.d4rl/datasets/Seaquest/1/45/action.gz...\n",
      "loading /home/shenshuo/.d4rl/datasets/Seaquest/1/45/reward.gz...\n",
      "loading /home/shenshuo/.d4rl/datasets/Seaquest/1/45/terminal.gz...\n"
     ]
    },
    {
     "name": "stderr",
     "output_type": "stream",
     "text": [
      "Copying gs://atari-replay-datasets/dqn/Seaquest/1/replay_logs/$store$_observation_ckpt.46.gz...\n",
      "- [1/1 files][142.4 MiB/142.4 MiB] 100% Done                                    \n",
      "Operation completed over 1 objects/142.4 MiB.                                    \n",
      "Copying gs://atari-replay-datasets/dqn/Seaquest/1/replay_logs/$store$_action_ckpt.46.gz...\n",
      "- [1/1 files][530.3 KiB/530.3 KiB] 100% Done                                    \n",
      "Operation completed over 1 objects/530.3 KiB.                                    \n",
      "Copying gs://atari-replay-datasets/dqn/Seaquest/1/replay_logs/$store$_reward_ckpt.46.gz...\n",
      "- [1/1 files][ 89.6 KiB/ 89.6 KiB] 100% Done                                    \n",
      "Operation completed over 1 objects/89.6 KiB.                                     \n",
      "Copying gs://atari-replay-datasets/dqn/Seaquest/1/replay_logs/$store$_terminal_ckpt.46.gz...\n",
      "- [1/1 files][  1.9 KiB/  1.9 KiB] 100% Done                                    \n",
      "Operation completed over 1 objects/1.9 KiB.                                      \n"
     ]
    },
    {
     "name": "stdout",
     "output_type": "stream",
     "text": [
      "loading /home/shenshuo/.d4rl/datasets/Seaquest/1/46/observation.gz...\n",
      "loading /home/shenshuo/.d4rl/datasets/Seaquest/1/46/action.gz...\n",
      "loading /home/shenshuo/.d4rl/datasets/Seaquest/1/46/reward.gz...\n",
      "loading /home/shenshuo/.d4rl/datasets/Seaquest/1/46/terminal.gz...\n"
     ]
    },
    {
     "name": "stderr",
     "output_type": "stream",
     "text": [
      "Copying gs://atari-replay-datasets/dqn/Seaquest/1/replay_logs/$store$_observation_ckpt.47.gz...\n",
      "\\ [1/1 files][143.0 MiB/143.0 MiB] 100% Done   8.9 MiB/s ETA 00:00:00           \n",
      "Operation completed over 1 objects/143.0 MiB.                                    \n",
      "Copying gs://atari-replay-datasets/dqn/Seaquest/1/replay_logs/$store$_action_ckpt.47.gz...\n",
      "- [1/1 files][531.5 KiB/531.5 KiB] 100% Done                                    \n",
      "Operation completed over 1 objects/531.5 KiB.                                    \n",
      "Copying gs://atari-replay-datasets/dqn/Seaquest/1/replay_logs/$store$_reward_ckpt.47.gz...\n",
      "- [1/1 files][ 90.1 KiB/ 90.1 KiB] 100% Done                                    \n",
      "Operation completed over 1 objects/90.1 KiB.                                     \n",
      "Copying gs://atari-replay-datasets/dqn/Seaquest/1/replay_logs/$store$_terminal_ckpt.47.gz...\n",
      "- [1/1 files][  1.9 KiB/  1.9 KiB] 100% Done                                    \n",
      "Operation completed over 1 objects/1.9 KiB.                                      \n"
     ]
    },
    {
     "name": "stdout",
     "output_type": "stream",
     "text": [
      "loading /home/shenshuo/.d4rl/datasets/Seaquest/1/47/observation.gz...\n",
      "loading /home/shenshuo/.d4rl/datasets/Seaquest/1/47/action.gz...\n",
      "loading /home/shenshuo/.d4rl/datasets/Seaquest/1/47/reward.gz...\n",
      "loading /home/shenshuo/.d4rl/datasets/Seaquest/1/47/terminal.gz...\n"
     ]
    },
    {
     "name": "stderr",
     "output_type": "stream",
     "text": [
      "Copying gs://atari-replay-datasets/dqn/Seaquest/1/replay_logs/$store$_observation_ckpt.48.gz...\n",
      "\\ [1/1 files][143.5 MiB/143.5 MiB] 100% Done                                    \n",
      "Operation completed over 1 objects/143.5 MiB.                                    \n",
      "Copying gs://atari-replay-datasets/dqn/Seaquest/1/replay_logs/$store$_action_ckpt.48.gz...\n",
      "- [1/1 files][532.6 KiB/532.6 KiB] 100% Done                                    \n",
      "Operation completed over 1 objects/532.6 KiB.                                    \n",
      "Copying gs://atari-replay-datasets/dqn/Seaquest/1/replay_logs/$store$_reward_ckpt.48.gz...\n",
      "- [1/1 files][ 90.3 KiB/ 90.3 KiB] 100% Done                                    \n",
      "Operation completed over 1 objects/90.3 KiB.                                     \n",
      "Copying gs://atari-replay-datasets/dqn/Seaquest/1/replay_logs/$store$_terminal_ckpt.48.gz...\n",
      "- [1/1 files][  1.9 KiB/  1.9 KiB] 100% Done                                    \n",
      "Operation completed over 1 objects/1.9 KiB.                                      \n"
     ]
    },
    {
     "name": "stdout",
     "output_type": "stream",
     "text": [
      "loading /home/shenshuo/.d4rl/datasets/Seaquest/1/48/observation.gz...\n",
      "loading /home/shenshuo/.d4rl/datasets/Seaquest/1/48/action.gz...\n",
      "loading /home/shenshuo/.d4rl/datasets/Seaquest/1/48/reward.gz...\n",
      "loading /home/shenshuo/.d4rl/datasets/Seaquest/1/48/terminal.gz...\n"
     ]
    },
    {
     "name": "stderr",
     "output_type": "stream",
     "text": [
      "Copying gs://atari-replay-datasets/dqn/Seaquest/1/replay_logs/$store$_observation_ckpt.49.gz...\n",
      "- [1/1 files][143.5 MiB/143.5 MiB] 100% Done                                    \n",
      "Operation completed over 1 objects/143.5 MiB.                                    \n",
      "Copying gs://atari-replay-datasets/dqn/Seaquest/1/replay_logs/$store$_action_ckpt.49.gz...\n",
      "- [1/1 files][532.5 KiB/532.5 KiB] 100% Done                                    \n",
      "Operation completed over 1 objects/532.5 KiB.                                    \n",
      "Copying gs://atari-replay-datasets/dqn/Seaquest/1/replay_logs/$store$_reward_ckpt.49.gz...\n",
      "- [1/1 files][ 91.4 KiB/ 91.4 KiB] 100% Done                                    \n",
      "Operation completed over 1 objects/91.4 KiB.                                     \n",
      "Copying gs://atari-replay-datasets/dqn/Seaquest/1/replay_logs/$store$_terminal_ckpt.49.gz...\n",
      "- [1/1 files][  1.9 KiB/  1.9 KiB] 100% Done                                    \n",
      "Operation completed over 1 objects/1.9 KiB.                                      \n"
     ]
    },
    {
     "name": "stdout",
     "output_type": "stream",
     "text": [
      "loading /home/shenshuo/.d4rl/datasets/Seaquest/1/49/observation.gz...\n",
      "loading /home/shenshuo/.d4rl/datasets/Seaquest/1/49/action.gz...\n",
      "loading /home/shenshuo/.d4rl/datasets/Seaquest/1/49/reward.gz...\n",
      "loading /home/shenshuo/.d4rl/datasets/Seaquest/1/49/terminal.gz...\n"
     ]
    },
    {
     "name": "stderr",
     "output_type": "stream",
     "text": [
      "Copying gs://atari-replay-datasets/dqn/Seaquest/1/replay_logs/$store$_observation_ckpt.50.gz...\n",
      "/ [1/1 files][143.7 MiB/143.7 MiB] 100% Done                                    \n",
      "Operation completed over 1 objects/143.7 MiB.                                    \n",
      "Copying gs://atari-replay-datasets/dqn/Seaquest/1/replay_logs/$store$_action_ckpt.50.gz...\n",
      "- [1/1 files][533.4 KiB/533.4 KiB] 100% Done                                    \n",
      "Operation completed over 1 objects/533.4 KiB.                                    \n",
      "Copying gs://atari-replay-datasets/dqn/Seaquest/1/replay_logs/$store$_reward_ckpt.50.gz...\n",
      "- [1/1 files][ 92.2 KiB/ 92.2 KiB] 100% Done                                    \n",
      "Operation completed over 1 objects/92.2 KiB.                                     \n",
      "Copying gs://atari-replay-datasets/dqn/Seaquest/1/replay_logs/$store$_terminal_ckpt.50.gz...\n",
      "- [1/1 files][  1.8 KiB/  1.8 KiB] 100% Done                                    \n",
      "Operation completed over 1 objects/1.8 KiB.                                      \n"
     ]
    },
    {
     "name": "stdout",
     "output_type": "stream",
     "text": [
      "loading /home/shenshuo/.d4rl/datasets/Seaquest/1/50/observation.gz...\n",
      "loading /home/shenshuo/.d4rl/datasets/Seaquest/1/50/action.gz...\n",
      "loading /home/shenshuo/.d4rl/datasets/Seaquest/1/50/reward.gz...\n",
      "loading /home/shenshuo/.d4rl/datasets/Seaquest/1/50/terminal.gz...\n"
     ]
    }
   ],
   "source": [
    "for i in range(1, 51, 1):\n",
    "    env_id = 'SeaquestNoFrameskip-V4'\n",
    "    offline_dataset_id = 'epoch-' + str(i) + '-v0'  \n",
    "    dataset = ExperienceReplayDataset(env_id , offline_dataset_id)\n",
    "    # data_loader = iter(torch.utils.data.DataLoader(dataset, batch_size=32, num_workers=2))"
   ]
  },
  {
   "cell_type": "code",
   "execution_count": null,
   "id": "82c191ae",
   "metadata": {},
   "outputs": [
    {
     "name": "stdout",
     "output_type": "stream",
     "text": [
      "loading /home/shenshuo/.d4rl/datasets/Breakout/1/1/observation.gz...\n",
      "loading /home/shenshuo/.d4rl/datasets/Breakout/1/1/action.gz...\n",
      "loading /home/shenshuo/.d4rl/datasets/Breakout/1/1/reward.gz...\n",
      "loading /home/shenshuo/.d4rl/datasets/Breakout/1/1/terminal.gz...\n",
      "loading /home/shenshuo/.d4rl/datasets/Breakout/1/2/observation.gz...\n",
      "loading /home/shenshuo/.d4rl/datasets/Breakout/1/2/action.gz...\n",
      "loading /home/shenshuo/.d4rl/datasets/Breakout/1/2/reward.gz...\n",
      "loading /home/shenshuo/.d4rl/datasets/Breakout/1/2/terminal.gz...\n",
      "loading /home/shenshuo/.d4rl/datasets/Breakout/1/3/observation.gz...\n",
      "loading /home/shenshuo/.d4rl/datasets/Breakout/1/3/action.gz...\n",
      "loading /home/shenshuo/.d4rl/datasets/Breakout/1/3/reward.gz...\n",
      "loading /home/shenshuo/.d4rl/datasets/Breakout/1/3/terminal.gz...\n",
      "loading /home/shenshuo/.d4rl/datasets/Breakout/1/4/observation.gz...\n",
      "loading /home/shenshuo/.d4rl/datasets/Breakout/1/4/action.gz...\n",
      "loading /home/shenshuo/.d4rl/datasets/Breakout/1/4/reward.gz...\n",
      "loading /home/shenshuo/.d4rl/datasets/Breakout/1/4/terminal.gz...\n",
      "loading /home/shenshuo/.d4rl/datasets/Breakout/1/5/observation.gz...\n",
      "loading /home/shenshuo/.d4rl/datasets/Breakout/1/5/action.gz...\n",
      "loading /home/shenshuo/.d4rl/datasets/Breakout/1/5/reward.gz...\n",
      "loading /home/shenshuo/.d4rl/datasets/Breakout/1/5/terminal.gz...\n",
      "loading /home/shenshuo/.d4rl/datasets/Breakout/1/6/observation.gz...\n",
      "loading /home/shenshuo/.d4rl/datasets/Breakout/1/6/action.gz...\n",
      "loading /home/shenshuo/.d4rl/datasets/Breakout/1/6/reward.gz...\n",
      "loading /home/shenshuo/.d4rl/datasets/Breakout/1/6/terminal.gz...\n",
      "loading /home/shenshuo/.d4rl/datasets/Breakout/1/7/observation.gz...\n",
      "loading /home/shenshuo/.d4rl/datasets/Breakout/1/7/action.gz...\n",
      "loading /home/shenshuo/.d4rl/datasets/Breakout/1/7/reward.gz...\n",
      "loading /home/shenshuo/.d4rl/datasets/Breakout/1/7/terminal.gz...\n",
      "loading /home/shenshuo/.d4rl/datasets/Breakout/1/8/observation.gz...\n",
      "loading /home/shenshuo/.d4rl/datasets/Breakout/1/8/action.gz...\n",
      "loading /home/shenshuo/.d4rl/datasets/Breakout/1/8/reward.gz...\n",
      "loading /home/shenshuo/.d4rl/datasets/Breakout/1/8/terminal.gz...\n",
      "loading /home/shenshuo/.d4rl/datasets/Breakout/1/9/observation.gz...\n",
      "loading /home/shenshuo/.d4rl/datasets/Breakout/1/9/action.gz...\n",
      "loading /home/shenshuo/.d4rl/datasets/Breakout/1/9/reward.gz...\n",
      "loading /home/shenshuo/.d4rl/datasets/Breakout/1/9/terminal.gz...\n",
      "loading /home/shenshuo/.d4rl/datasets/Breakout/1/10/observation.gz...\n",
      "loading /home/shenshuo/.d4rl/datasets/Breakout/1/10/action.gz...\n",
      "loading /home/shenshuo/.d4rl/datasets/Breakout/1/10/reward.gz...\n",
      "loading /home/shenshuo/.d4rl/datasets/Breakout/1/10/terminal.gz...\n",
      "loading /home/shenshuo/.d4rl/datasets/Breakout/1/11/observation.gz...\n",
      "loading /home/shenshuo/.d4rl/datasets/Breakout/1/11/action.gz...\n",
      "loading /home/shenshuo/.d4rl/datasets/Breakout/1/11/reward.gz...\n",
      "loading /home/shenshuo/.d4rl/datasets/Breakout/1/11/terminal.gz...\n",
      "loading /home/shenshuo/.d4rl/datasets/Breakout/1/12/observation.gz...\n",
      "loading /home/shenshuo/.d4rl/datasets/Breakout/1/12/action.gz...\n",
      "loading /home/shenshuo/.d4rl/datasets/Breakout/1/12/reward.gz...\n",
      "loading /home/shenshuo/.d4rl/datasets/Breakout/1/12/terminal.gz...\n",
      "loading /home/shenshuo/.d4rl/datasets/Breakout/1/13/observation.gz...\n",
      "loading /home/shenshuo/.d4rl/datasets/Breakout/1/13/action.gz...\n",
      "loading /home/shenshuo/.d4rl/datasets/Breakout/1/13/reward.gz...\n",
      "loading /home/shenshuo/.d4rl/datasets/Breakout/1/13/terminal.gz...\n",
      "loading /home/shenshuo/.d4rl/datasets/Breakout/1/14/observation.gz...\n",
      "loading /home/shenshuo/.d4rl/datasets/Breakout/1/14/action.gz...\n",
      "loading /home/shenshuo/.d4rl/datasets/Breakout/1/14/reward.gz...\n",
      "loading /home/shenshuo/.d4rl/datasets/Breakout/1/14/terminal.gz...\n",
      "loading /home/shenshuo/.d4rl/datasets/Breakout/1/15/observation.gz...\n",
      "loading /home/shenshuo/.d4rl/datasets/Breakout/1/15/action.gz...\n",
      "loading /home/shenshuo/.d4rl/datasets/Breakout/1/15/reward.gz...\n",
      "loading /home/shenshuo/.d4rl/datasets/Breakout/1/15/terminal.gz...\n",
      "loading /home/shenshuo/.d4rl/datasets/Breakout/1/16/observation.gz...\n",
      "loading /home/shenshuo/.d4rl/datasets/Breakout/1/16/action.gz...\n",
      "loading /home/shenshuo/.d4rl/datasets/Breakout/1/16/reward.gz...\n",
      "loading /home/shenshuo/.d4rl/datasets/Breakout/1/16/terminal.gz...\n",
      "loading /home/shenshuo/.d4rl/datasets/Breakout/1/17/observation.gz...\n",
      "loading /home/shenshuo/.d4rl/datasets/Breakout/1/17/action.gz...\n",
      "loading /home/shenshuo/.d4rl/datasets/Breakout/1/17/reward.gz...\n",
      "loading /home/shenshuo/.d4rl/datasets/Breakout/1/17/terminal.gz...\n",
      "loading /home/shenshuo/.d4rl/datasets/Breakout/1/18/observation.gz...\n",
      "loading /home/shenshuo/.d4rl/datasets/Breakout/1/18/action.gz...\n",
      "loading /home/shenshuo/.d4rl/datasets/Breakout/1/18/reward.gz...\n",
      "loading /home/shenshuo/.d4rl/datasets/Breakout/1/18/terminal.gz...\n",
      "loading /home/shenshuo/.d4rl/datasets/Breakout/1/19/observation.gz...\n",
      "loading /home/shenshuo/.d4rl/datasets/Breakout/1/19/action.gz...\n",
      "loading /home/shenshuo/.d4rl/datasets/Breakout/1/19/reward.gz...\n",
      "loading /home/shenshuo/.d4rl/datasets/Breakout/1/19/terminal.gz...\n",
      "loading /home/shenshuo/.d4rl/datasets/Breakout/1/20/observation.gz...\n",
      "loading /home/shenshuo/.d4rl/datasets/Breakout/1/20/action.gz...\n",
      "loading /home/shenshuo/.d4rl/datasets/Breakout/1/20/reward.gz...\n",
      "loading /home/shenshuo/.d4rl/datasets/Breakout/1/20/terminal.gz...\n",
      "loading /home/shenshuo/.d4rl/datasets/Breakout/1/21/observation.gz...\n",
      "loading /home/shenshuo/.d4rl/datasets/Breakout/1/21/action.gz...\n",
      "loading /home/shenshuo/.d4rl/datasets/Breakout/1/21/reward.gz...\n",
      "loading /home/shenshuo/.d4rl/datasets/Breakout/1/21/terminal.gz...\n",
      "loading /home/shenshuo/.d4rl/datasets/Breakout/1/22/observation.gz...\n",
      "loading /home/shenshuo/.d4rl/datasets/Breakout/1/22/action.gz...\n",
      "loading /home/shenshuo/.d4rl/datasets/Breakout/1/22/reward.gz...\n",
      "loading /home/shenshuo/.d4rl/datasets/Breakout/1/22/terminal.gz...\n",
      "loading /home/shenshuo/.d4rl/datasets/Breakout/1/23/observation.gz...\n",
      "loading /home/shenshuo/.d4rl/datasets/Breakout/1/23/action.gz...\n",
      "loading /home/shenshuo/.d4rl/datasets/Breakout/1/23/reward.gz...\n",
      "loading /home/shenshuo/.d4rl/datasets/Breakout/1/23/terminal.gz...\n",
      "loading /home/shenshuo/.d4rl/datasets/Breakout/1/24/observation.gz...\n",
      "loading /home/shenshuo/.d4rl/datasets/Breakout/1/24/action.gz...\n",
      "loading /home/shenshuo/.d4rl/datasets/Breakout/1/24/reward.gz...\n",
      "loading /home/shenshuo/.d4rl/datasets/Breakout/1/24/terminal.gz...\n",
      "loading /home/shenshuo/.d4rl/datasets/Breakout/1/25/observation.gz...\n",
      "loading /home/shenshuo/.d4rl/datasets/Breakout/1/25/action.gz...\n",
      "loading /home/shenshuo/.d4rl/datasets/Breakout/1/25/reward.gz...\n",
      "loading /home/shenshuo/.d4rl/datasets/Breakout/1/25/terminal.gz...\n",
      "loading /home/shenshuo/.d4rl/datasets/Breakout/1/26/observation.gz...\n",
      "loading /home/shenshuo/.d4rl/datasets/Breakout/1/26/action.gz...\n",
      "loading /home/shenshuo/.d4rl/datasets/Breakout/1/26/reward.gz...\n",
      "loading /home/shenshuo/.d4rl/datasets/Breakout/1/26/terminal.gz...\n",
      "loading /home/shenshuo/.d4rl/datasets/Breakout/1/27/observation.gz...\n",
      "loading /home/shenshuo/.d4rl/datasets/Breakout/1/27/action.gz...\n",
      "loading /home/shenshuo/.d4rl/datasets/Breakout/1/27/reward.gz...\n",
      "loading /home/shenshuo/.d4rl/datasets/Breakout/1/27/terminal.gz...\n",
      "loading /home/shenshuo/.d4rl/datasets/Breakout/1/28/observation.gz...\n",
      "loading /home/shenshuo/.d4rl/datasets/Breakout/1/28/action.gz...\n",
      "loading /home/shenshuo/.d4rl/datasets/Breakout/1/28/reward.gz...\n",
      "loading /home/shenshuo/.d4rl/datasets/Breakout/1/28/terminal.gz...\n",
      "loading /home/shenshuo/.d4rl/datasets/Breakout/1/29/observation.gz...\n"
     ]
    }
   ],
   "source": [
    "datasets = []\n",
    "start_time = time.time()\n",
    "for i in range(1, 51, 1):\n",
    "    env_id = 'BreakoutNoFrameskip-V4'\n",
    "    offline_dataset_id = 'epoch-' + str(i) + '-v0'  \n",
    "    dataset = ExperienceReplayDataset(env_id , offline_dataset_id)\n",
    "    datasets.append(dataset)\n",
    "end_time = time.time()\n",
    "print(end_time - start_time)"
   ]
  },
  {
   "cell_type": "markdown",
   "id": "f02dc16b",
   "metadata": {},
   "source": [
    "### loading data set time check\n",
    "\n",
    "增加numworker并没有显著加快加载数据集的速度"
   ]
  },
  {
   "cell_type": "code",
   "execution_count": 54,
   "id": "21c5fd47",
   "metadata": {},
   "outputs": [
    {
     "name": "stdout",
     "output_type": "stream",
     "text": [
      "6.270408630371094e-05\n"
     ]
    }
   ],
   "source": [
    "start_time = time.time()\n",
    "end_time = time.time()\n",
    "print(end_time - start_time)"
   ]
  },
  {
   "cell_type": "code",
   "execution_count": 4,
   "id": "4e58a6e8",
   "metadata": {},
   "outputs": [
    {
     "name": "stdout",
     "output_type": "stream",
     "text": [
      "loading /data/shenshuo/.d4rl/datasets/Breakout/1/1/observation.gz...\n",
      "loading /data/shenshuo/.d4rl/datasets/Breakout/1/1/action.gz...\n",
      "loading /data/shenshuo/.d4rl/datasets/Breakout/1/1/reward.gz...\n",
      "loading /data/shenshuo/.d4rl/datasets/Breakout/1/1/terminal.gz...\n",
      "loading /data/shenshuo/.d4rl/datasets/Breakout/1/2/observation.gz...\n",
      "loading /data/shenshuo/.d4rl/datasets/Breakout/1/2/action.gz...\n",
      "loading /data/shenshuo/.d4rl/datasets/Breakout/1/2/reward.gz...\n",
      "loading /data/shenshuo/.d4rl/datasets/Breakout/1/2/terminal.gz...\n",
      "loading /data/shenshuo/.d4rl/datasets/Breakout/1/3/observation.gz...\n",
      "loading /data/shenshuo/.d4rl/datasets/Breakout/1/3/action.gz...\n",
      "loading /data/shenshuo/.d4rl/datasets/Breakout/1/3/reward.gz...\n",
      "loading /data/shenshuo/.d4rl/datasets/Breakout/1/3/terminal.gz...\n",
      "loading /data/shenshuo/.d4rl/datasets/Breakout/1/4/observation.gz...\n",
      "loading /data/shenshuo/.d4rl/datasets/Breakout/1/4/action.gz...\n",
      "loading /data/shenshuo/.d4rl/datasets/Breakout/1/4/reward.gz...\n",
      "loading /data/shenshuo/.d4rl/datasets/Breakout/1/4/terminal.gz...\n",
      "loading /data/shenshuo/.d4rl/datasets/Breakout/1/5/observation.gz...\n",
      "loading /data/shenshuo/.d4rl/datasets/Breakout/1/5/action.gz...\n",
      "loading /data/shenshuo/.d4rl/datasets/Breakout/1/5/reward.gz...\n",
      "loading /data/shenshuo/.d4rl/datasets/Breakout/1/5/terminal.gz...\n",
      "87.39320659637451\n"
     ]
    }
   ],
   "source": [
    "datasets = []\n",
    "start_time = time.time()\n",
    "for i in range(1, 6, 1):\n",
    "    env_id = 'BreakoutNoFrameskip-V4'\n",
    "    offline_dataset_id = 'epoch-' + str(i) + '-v0'  \n",
    "    dataset = ExperienceReplayDataset(env_id , offline_dataset_id)\n",
    "    data_loader = iter(torch.utils.data.DataLoader(dataset, batch_size=32, num_workers=2))\n",
    "end_time = time.time()\n",
    "print(end_time - start_time)"
   ]
  },
  {
   "cell_type": "code",
   "execution_count": 6,
   "id": "c3cea6ab",
   "metadata": {},
   "outputs": [
    {
     "name": "stdout",
     "output_type": "stream",
     "text": [
      "loading /data/shenshuo/.d4rl/datasets/Breakout/1/1/observation.gz...\n",
      "loading /data/shenshuo/.d4rl/datasets/Breakout/1/1/action.gz...\n",
      "loading /data/shenshuo/.d4rl/datasets/Breakout/1/1/reward.gz...\n",
      "loading /data/shenshuo/.d4rl/datasets/Breakout/1/1/terminal.gz...\n",
      "loading /data/shenshuo/.d4rl/datasets/Breakout/1/2/observation.gz...\n",
      "loading /data/shenshuo/.d4rl/datasets/Breakout/1/2/action.gz...\n",
      "loading /data/shenshuo/.d4rl/datasets/Breakout/1/2/reward.gz...\n",
      "loading /data/shenshuo/.d4rl/datasets/Breakout/1/2/terminal.gz...\n",
      "loading /data/shenshuo/.d4rl/datasets/Breakout/1/3/observation.gz...\n",
      "loading /data/shenshuo/.d4rl/datasets/Breakout/1/3/action.gz...\n",
      "loading /data/shenshuo/.d4rl/datasets/Breakout/1/3/reward.gz...\n",
      "loading /data/shenshuo/.d4rl/datasets/Breakout/1/3/terminal.gz...\n",
      "loading /data/shenshuo/.d4rl/datasets/Breakout/1/4/observation.gz...\n",
      "loading /data/shenshuo/.d4rl/datasets/Breakout/1/4/action.gz...\n",
      "loading /data/shenshuo/.d4rl/datasets/Breakout/1/4/reward.gz...\n",
      "loading /data/shenshuo/.d4rl/datasets/Breakout/1/4/terminal.gz...\n",
      "loading /data/shenshuo/.d4rl/datasets/Breakout/1/5/observation.gz...\n",
      "loading /data/shenshuo/.d4rl/datasets/Breakout/1/5/action.gz...\n",
      "loading /data/shenshuo/.d4rl/datasets/Breakout/1/5/reward.gz...\n",
      "loading /data/shenshuo/.d4rl/datasets/Breakout/1/5/terminal.gz...\n",
      "79.1544086933136\n"
     ]
    }
   ],
   "source": [
    "datasets = []\n",
    "start_time = time.time()\n",
    "for i in range(1, 6, 1):\n",
    "    env_id = 'BreakoutNoFrameskip-V4'\n",
    "    offline_dataset_id = 'epoch-' + str(i) + '-v0'  \n",
    "    dataset = ExperienceReplayDataset(env_id , offline_dataset_id)\n",
    "    data_loader = iter(torch.utils.data.DataLoader(dataset, batch_size=32, num_workers=16))\n",
    "end_time = time.time()\n",
    "print(end_time - start_time)"
   ]
  },
  {
   "cell_type": "code",
   "execution_count": null,
   "id": "72203292",
   "metadata": {},
   "outputs": [],
   "source": []
  }
 ],
 "metadata": {
  "kernelspec": {
   "display_name": "Python 3 (ipykernel)",
   "language": "python",
   "name": "python3"
  },
  "language_info": {
   "codemirror_mode": {
    "name": "ipython",
    "version": 3
   },
   "file_extension": ".py",
   "mimetype": "text/x-python",
   "name": "python",
   "nbconvert_exporter": "python",
   "pygments_lexer": "ipython3",
   "version": "3.8.12"
  }
 },
 "nbformat": 4,
 "nbformat_minor": 5
}
