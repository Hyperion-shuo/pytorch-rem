{
 "cells": [
  {
   "cell_type": "code",
   "execution_count": 1,
   "id": "3e5157b8",
   "metadata": {},
   "outputs": [],
   "source": [
    "import torch\n",
    "import numpy as np\n",
    "import sys\n",
    "import os\n",
    "import torch.nn as nn\n",
    "import gym\n",
    "%load_ext autoreload\n",
    "%autoreload 2\n",
    "\n",
    "device = torch.device('cuda:4')"
   ]
  },
  {
   "cell_type": "markdown",
   "id": "b10eb03c",
   "metadata": {},
   "source": [
    "### multi dim matmul check"
   ]
  },
  {
   "cell_type": "code",
   "execution_count": 2,
   "id": "0c773b18",
   "metadata": {},
   "outputs": [
    {
     "data": {
      "text/plain": [
       "tensor([[0., 1., 2., 3., 4.],\n",
       "        [5., 6., 7., 8., 9.]])"
      ]
     },
     "execution_count": 2,
     "metadata": {},
     "output_type": "execute_result"
    }
   ],
   "source": [
    "a = torch.Tensor(np.arange(10))\n",
    "a.reshape(2,5)"
   ]
  },
  {
   "cell_type": "code",
   "execution_count": 3,
   "id": "f7b0f44a",
   "metadata": {},
   "outputs": [
    {
     "data": {
      "text/plain": [
       "tensor([[0., 1., 2., 3., 4.],\n",
       "        [5., 6., 7., 8., 9.]])"
      ]
     },
     "execution_count": 3,
     "metadata": {},
     "output_type": "execute_result"
    }
   ],
   "source": [
    "torch.reshape(a, [2,5])"
   ]
  },
  {
   "cell_type": "code",
   "execution_count": 4,
   "id": "f9191d66",
   "metadata": {},
   "outputs": [
    {
     "data": {
      "text/plain": [
       "tensor([[0., 1., 2., 3., 4.],\n",
       "        [5., 6., 7., 8., 9.]])"
      ]
     },
     "execution_count": 4,
     "metadata": {},
     "output_type": "execute_result"
    }
   ],
   "source": [
    "a = torch.reshape(a, [2,5])\n",
    "a"
   ]
  },
  {
   "cell_type": "code",
   "execution_count": 5,
   "id": "d421a860",
   "metadata": {},
   "outputs": [
    {
     "data": {
      "text/plain": [
       "tensor([2., 7.])"
      ]
     },
     "execution_count": 5,
     "metadata": {},
     "output_type": "execute_result"
    }
   ],
   "source": [
    "torch.mean(a, axis=-1)"
   ]
  },
  {
   "cell_type": "code",
   "execution_count": 6,
   "id": "f9a303a8",
   "metadata": {},
   "outputs": [
    {
     "data": {
      "text/plain": [
       "torch.Size([32, 4])"
      ]
     },
     "execution_count": 6,
     "metadata": {},
     "output_type": "execute_result"
    }
   ],
   "source": [
    "a = torch.randn([32, 4, 200])\n",
    "b = torch.randn([200, 1])\n",
    "c = torch.matmul(a, b)\n",
    "c = c.squeeze()\n",
    "c.shape"
   ]
  },
  {
   "cell_type": "markdown",
   "id": "1d0d6da1",
   "metadata": {},
   "source": [
    "### multihead mixture"
   ]
  },
  {
   "cell_type": "code",
   "execution_count": 6,
   "id": "88d8002d",
   "metadata": {},
   "outputs": [],
   "source": [
    "dim = 10\n",
    "num_cols = 1\n",
    "dtype = torch.float32\n",
    "mat_shape = (dim, dim) if num_cols is None else (dim, num_cols)\n",
    "# mat = torch.rand(mat_shape, dtype=dtype, device=device)\n",
    "mat = torch.tensor([[0.9753],\n",
    "         [0.6686],\n",
    "         [0.8801],\n",
    "         [0.2483],\n",
    "         [0.3483],\n",
    "         [0.3410],\n",
    "         [0.4854],\n",
    "         [0.8116],\n",
    "         [0.8025],\n",
    "         [0.3909]], dtype=dtype, device=device)"
   ]
  },
  {
   "cell_type": "code",
   "execution_count": 7,
   "id": "6a04bd28",
   "metadata": {},
   "outputs": [
    {
     "name": "stdout",
     "output_type": "stream",
     "text": [
      "torch.Size([10, 1])\n",
      "tensor([[5.9520]], device='cuda:4')\n",
      "tensor([[0.1639],\n",
      "        [0.1123],\n",
      "        [0.1479],\n",
      "        [0.0417],\n",
      "        [0.0585],\n",
      "        [0.0573],\n",
      "        [0.0816],\n",
      "        [0.1364],\n",
      "        [0.1348],\n",
      "        [0.0657]], device='cuda:4') tensor(1., device='cuda:4')\n"
     ]
    }
   ],
   "source": [
    "print(mat.shape)\n",
    "norm = torch.norm(mat, p=1, dim=0, keepdim=True)\n",
    "print(norm)\n",
    "mat /= norm\n",
    "print(mat,torch.sum(mat))"
   ]
  },
  {
   "cell_type": "markdown",
   "id": "2ef2ddf2",
   "metadata": {},
   "source": [
    "### MultiHeadQNetwork check"
   ]
  },
  {
   "cell_type": "code",
   "execution_count": 2,
   "id": "b82814d0",
   "metadata": {},
   "outputs": [
    {
     "data": {
      "text/plain": [
       "'/home/shenshuo/workspace'"
      ]
     },
     "execution_count": 2,
     "metadata": {},
     "output_type": "execute_result"
    }
   ],
   "source": [
    "os.getcwd()\n",
    "os.path.dirname(os.path.dirname(os.getcwd()))"
   ]
  },
  {
   "cell_type": "code",
   "execution_count": 14,
   "id": "b58418fc",
   "metadata": {},
   "outputs": [],
   "source": [
    "class Linear0(nn.Linear):\n",
    "    def reset_parameters(self):\n",
    "        nn.init.constant_(self.weight, 0.0)\n",
    "        if self.bias is not None:\n",
    "            nn.init.constant_(self.bias, 0.0)\n",
    "\n",
    "\n",
    "class Scale(nn.Module):\n",
    "    def __init__(self, scale):\n",
    "        super().__init__()\n",
    "        self.scale = scale\n",
    "\n",
    "    def forward(self, x):\n",
    "        return x * self.scale\n",
    "\n",
    "\n",
    "class MultiHeadQNetwork(nn.Module):\n",
    "    def __init__(self, env, frames=4, num_heads=1, transform_strategy='STOCHASTIC', transform_matrix=None):\n",
    "        self.num_heads = num_heads\n",
    "        self.transform_strategy = transform_strategy\n",
    "        self.transform_matrix = transform_matrix\n",
    "        super(MultiHeadQNetwork, self).__init__()\n",
    "        self.network = nn.Sequential(\n",
    "            Scale(1 / 255),\n",
    "            nn.Conv2d(frames, 32, 8, stride=4),\n",
    "            nn.ReLU(),\n",
    "            nn.Conv2d(32, 64, 4, stride=2),\n",
    "            nn.ReLU(),\n",
    "            nn.Conv2d(64, 64, 3, stride=1),\n",
    "            nn.ReLU(),\n",
    "            nn.Flatten(),\n",
    "            nn.Linear(3136, 512),\n",
    "            nn.ReLU(),\n",
    "            Linear0(512, env.action_space.n * num_heads),\n",
    "        )\n",
    "\n",
    "    def forward(self, x, device):\n",
    "        x = torch.Tensor(x)\n",
    "        x.to(device)\n",
    "        unordered_q_heads = self.network(x)\n",
    "        unordered_q_heads = torch.reshape(unordered_q_heads, [-1, env.action_space.n, self.num_heads])\n",
    "        q_heads, q_values = combine_q_functions(unordered_q_heads, self.transform_strategy, transform_matrix)\n",
    "        return q_heads, q_values\n"
   ]
  },
  {
   "cell_type": "code",
   "execution_count": 4,
   "id": "9d71099b",
   "metadata": {},
   "outputs": [],
   "source": [
    "def combine_q_functions(q_functions, transform_strategy, transform_matrix=None):\n",
    "    q_values = torch.mean(q_functions, axis=-1)\n",
    "    if transform_strategy=='STOCHASTIC':\n",
    "        # q_functions input shape: (batch_size, num_actions, num_heads)\n",
    "        # left_stochastic_matrix shape: (num_heads, num_convex_combinations=1(defualt))\n",
    "        # q_functions output shape: (batch_size, num_actions, 1)\n",
    "        q_functions = torch.matmul(q_functions, transform_matrix).squeeze()\n",
    "    elif transform_strategy=='IDENTITY':\n",
    "        pass\n",
    "    else:\n",
    "        raise ValueError(\n",
    "            '{} is not a valid reordering strategy'.format(transform_strategy))\n",
    "    return q_functions, q_values\n",
    "\n",
    "def random_stochastic_matrix(dim, dtype=torch.float32, device=device):\n",
    "    \"\"\"Generates a random left stochastic matrix.\"\"\"\n",
    "    # check dopamine's notebook \n",
    "    # after test this has same result\n",
    "    mat_shape = (dim, 1)\n",
    "    mat = torch.rand(mat_shape, dtype=dtype, device=device)\n",
    "    mat /= torch.norm(mat, p=1, dim=0, keepdim=True)\n",
    "    return mat\n"
   ]
  },
  {
   "cell_type": "code",
   "execution_count": 5,
   "id": "4c8af196",
   "metadata": {},
   "outputs": [
    {
     "data": {
      "text/plain": [
       "torch.Size([200, 1])"
      ]
     },
     "execution_count": 5,
     "metadata": {},
     "output_type": "execute_result"
    }
   ],
   "source": [
    "transform_matrix = random_stochastic_matrix(200, device=device)\n",
    "transform_matrix.shape"
   ]
  },
  {
   "cell_type": "code",
   "execution_count": 15,
   "id": "4988a099",
   "metadata": {},
   "outputs": [
    {
     "data": {
      "text/plain": [
       "Sequential(\n",
       "  (0): Scale()\n",
       "  (1): Conv2d(4, 32, kernel_size=(8, 8), stride=(4, 4))\n",
       "  (2): ReLU()\n",
       "  (3): Conv2d(32, 64, kernel_size=(4, 4), stride=(2, 2))\n",
       "  (4): ReLU()\n",
       "  (5): Conv2d(64, 64, kernel_size=(3, 3), stride=(1, 1))\n",
       "  (6): ReLU()\n",
       "  (7): Flatten(start_dim=1, end_dim=-1)\n",
       "  (8): Linear(in_features=3136, out_features=512, bias=True)\n",
       "  (9): ReLU()\n",
       "  (10): Linear0(in_features=512, out_features=1200, bias=True)\n",
       ")"
      ]
     },
     "execution_count": 15,
     "metadata": {},
     "output_type": "execute_result"
    }
   ],
   "source": [
    "env = gym.make('PongNoFrameskip-v0')\n",
    "q_network = MultiHeadQNetwork(env, num_heads=200, \n",
    "                              transform_matrix=transform_matrix).to(device)\n",
    "q_network.network"
   ]
  },
  {
   "cell_type": "code",
   "execution_count": 16,
   "id": "3c6ecfc9",
   "metadata": {},
   "outputs": [
    {
     "data": {
      "text/plain": [
       "device(type='cuda', index=4)"
      ]
     },
     "execution_count": 16,
     "metadata": {},
     "output_type": "execute_result"
    }
   ],
   "source": [
    "state = torch.rand([32, 4, 84, 84], device=device, dtype=torch.float32)\n",
    "state.device"
   ]
  },
  {
   "cell_type": "code",
   "execution_count": 17,
   "id": "84273654",
   "metadata": {},
   "outputs": [
    {
     "name": "stdout",
     "output_type": "stream",
     "text": [
      "cuda:4\n"
     ]
    },
    {
     "ename": "TypeError",
     "evalue": "expected CPU (got CUDA)",
     "output_type": "error",
     "traceback": [
      "\u001b[0;31m---------------------------------------------------------------------------\u001b[0m",
      "\u001b[0;31mTypeError\u001b[0m                                 Traceback (most recent call last)",
      "\u001b[0;32m/tmp/ipykernel_57138/2071415998.py\u001b[0m in \u001b[0;36m<module>\u001b[0;34m\u001b[0m\n\u001b[1;32m      1\u001b[0m \u001b[0mprint\u001b[0m\u001b[0;34m(\u001b[0m\u001b[0mdevice\u001b[0m\u001b[0;34m)\u001b[0m\u001b[0;34m\u001b[0m\u001b[0;34m\u001b[0m\u001b[0m\n\u001b[0;32m----> 2\u001b[0;31m \u001b[0mq_functions\u001b[0m\u001b[0;34m,\u001b[0m \u001b[0mq_values\u001b[0m \u001b[0;34m=\u001b[0m \u001b[0mq_network\u001b[0m\u001b[0;34m.\u001b[0m\u001b[0mforward\u001b[0m\u001b[0;34m(\u001b[0m\u001b[0mstate\u001b[0m\u001b[0;34m,\u001b[0m \u001b[0mdevice\u001b[0m\u001b[0;34m=\u001b[0m\u001b[0mdevice\u001b[0m\u001b[0;34m)\u001b[0m\u001b[0;34m\u001b[0m\u001b[0;34m\u001b[0m\u001b[0m\n\u001b[0m\u001b[1;32m      3\u001b[0m \u001b[0mq_functions\u001b[0m\u001b[0;34m.\u001b[0m\u001b[0mshape\u001b[0m\u001b[0;34m,\u001b[0m \u001b[0mq_values\u001b[0m\u001b[0;34m.\u001b[0m\u001b[0mshape\u001b[0m\u001b[0;34m\u001b[0m\u001b[0;34m\u001b[0m\u001b[0m\n",
      "\u001b[0;32m/tmp/ipykernel_57138/2781505389.py\u001b[0m in \u001b[0;36mforward\u001b[0;34m(self, x, device)\u001b[0m\n\u001b[1;32m     36\u001b[0m \u001b[0;34m\u001b[0m\u001b[0m\n\u001b[1;32m     37\u001b[0m     \u001b[0;32mdef\u001b[0m \u001b[0mforward\u001b[0m\u001b[0;34m(\u001b[0m\u001b[0mself\u001b[0m\u001b[0;34m,\u001b[0m \u001b[0mx\u001b[0m\u001b[0;34m,\u001b[0m \u001b[0mdevice\u001b[0m\u001b[0;34m)\u001b[0m\u001b[0;34m:\u001b[0m\u001b[0;34m\u001b[0m\u001b[0;34m\u001b[0m\u001b[0m\n\u001b[0;32m---> 38\u001b[0;31m         \u001b[0mx\u001b[0m \u001b[0;34m=\u001b[0m \u001b[0mtorch\u001b[0m\u001b[0;34m.\u001b[0m\u001b[0mTensor\u001b[0m\u001b[0;34m(\u001b[0m\u001b[0mx\u001b[0m\u001b[0;34m)\u001b[0m\u001b[0;34m\u001b[0m\u001b[0;34m\u001b[0m\u001b[0m\n\u001b[0m\u001b[1;32m     39\u001b[0m         \u001b[0mx\u001b[0m\u001b[0;34m.\u001b[0m\u001b[0mto\u001b[0m\u001b[0;34m(\u001b[0m\u001b[0mdevice\u001b[0m\u001b[0;34m)\u001b[0m\u001b[0;34m\u001b[0m\u001b[0;34m\u001b[0m\u001b[0m\n\u001b[1;32m     40\u001b[0m         \u001b[0munordered_q_heads\u001b[0m \u001b[0;34m=\u001b[0m \u001b[0mself\u001b[0m\u001b[0;34m.\u001b[0m\u001b[0mnetwork\u001b[0m\u001b[0;34m(\u001b[0m\u001b[0mx\u001b[0m\u001b[0;34m)\u001b[0m\u001b[0;34m\u001b[0m\u001b[0;34m\u001b[0m\u001b[0m\n",
      "\u001b[0;31mTypeError\u001b[0m: expected CPU (got CUDA)"
     ]
    }
   ],
   "source": [
    "print(device)\n",
    "q_functions, q_values = q_network.forward(state, device=device)\n",
    "q_functions.shape, q_values.shape"
   ]
  },
  {
   "cell_type": "code",
   "execution_count": 9,
   "id": "a8bbf92b",
   "metadata": {},
   "outputs": [
    {
     "data": {
      "text/plain": [
       "torch.Size([32, 1])"
      ]
     },
     "execution_count": 9,
     "metadata": {},
     "output_type": "execute_result"
    }
   ],
   "source": [
    "s_actions = torch.ones(32, device=device)\n",
    "old_val = q_functions.gather(1, s_actions.long().view(-1, 1))\n",
    "old_val.shape"
   ]
  },
  {
   "cell_type": "code",
   "execution_count": 75,
   "id": "76452189",
   "metadata": {},
   "outputs": [
    {
     "name": "stdout",
     "output_type": "stream",
     "text": [
      "<bound method Module.parameters of MultiHeadQNetwork(\n",
      "  (network): Sequential(\n",
      "    (0): Scale()\n",
      "    (1): Conv2d(4, 32, kernel_size=(8, 8), stride=(4, 4))\n",
      "    (2): ReLU()\n",
      "    (3): Conv2d(32, 64, kernel_size=(4, 4), stride=(2, 2))\n",
      "    (4): ReLU()\n",
      "    (5): Conv2d(64, 64, kernel_size=(3, 3), stride=(1, 1))\n",
      "    (6): ReLU()\n",
      "    (7): Flatten(start_dim=1, end_dim=-1)\n",
      "    (8): Linear(in_features=3136, out_features=512, bias=True)\n",
      "    (9): ReLU()\n",
      "    (10): Linear0(in_features=512, out_features=1200, bias=True)\n",
      "  )\n",
      ")>\n"
     ]
    }
   ],
   "source": [
    "print(q_network.parameters)"
   ]
  },
  {
   "cell_type": "code",
   "execution_count": 79,
   "id": "da468e7a",
   "metadata": {},
   "outputs": [
    {
     "name": "stdout",
     "output_type": "stream",
     "text": [
      "network.1.weight\n",
      "network.1.bias\n",
      "network.3.weight\n",
      "network.3.bias\n",
      "network.5.weight\n",
      "network.5.bias\n",
      "network.8.weight\n",
      "network.8.bias\n",
      "network.10.weight\n",
      "network.10.bias\n"
     ]
    }
   ],
   "source": [
    "for k ,v in q_network.state_dict().items():\n",
    "    print(k)"
   ]
  },
  {
   "cell_type": "code",
   "execution_count": 88,
   "id": "8712d7eb",
   "metadata": {},
   "outputs": [
    {
     "data": {
      "text/plain": [
       "('STOCHASTIC', torch.Size([200, 1]))"
      ]
     },
     "execution_count": 88,
     "metadata": {},
     "output_type": "execute_result"
    }
   ],
   "source": [
    "q_network.transform_strategy,q_network.transform_matrix.shape\n"
   ]
  },
  {
   "cell_type": "code",
   "execution_count": 22,
   "id": "08a7a353",
   "metadata": {},
   "outputs": [
    {
     "data": {
      "text/plain": [
       "True"
      ]
     },
     "execution_count": 22,
     "metadata": {},
     "output_type": "execute_result"
    }
   ],
   "source": [
    "a = np.ones(10)\n",
    "type(a) == np.ndarray"
   ]
  },
  {
   "cell_type": "code",
   "execution_count": null,
   "id": "2696e3c5",
   "metadata": {},
   "outputs": [],
   "source": []
  }
 ],
 "metadata": {
  "kernelspec": {
   "display_name": "Python 3 (ipykernel)",
   "language": "python",
   "name": "python3"
  },
  "language_info": {
   "codemirror_mode": {
    "name": "ipython",
    "version": 3
   },
   "file_extension": ".py",
   "mimetype": "text/x-python",
   "name": "python",
   "nbconvert_exporter": "python",
   "pygments_lexer": "ipython3",
   "version": "3.8.12"
  }
 },
 "nbformat": 4,
 "nbformat_minor": 5
}
