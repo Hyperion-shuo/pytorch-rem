{
 "cells": [
  {
   "cell_type": "code",
   "execution_count": 1,
   "id": "9e00f93f",
   "metadata": {},
   "outputs": [],
   "source": [
    "%load_ext autoreload\n",
    "%autoreload 2\n",
    "\n",
    "import gym\n",
    "import numpy as np\n",
    "from gym import spaces\n",
    "import torch\n",
    "import d4rl_atari\n",
    "import re\n",
    "from torch.utils.data.dataset import IterableDataset"
   ]
  },
  {
   "cell_type": "code",
   "execution_count": 2,
   "id": "8f83be71",
   "metadata": {},
   "outputs": [],
   "source": [
    "class ExperienceReplayDataset(IterableDataset):\n",
    "    def __init__(self, env_id, offline_dataset_id):\n",
    "        offline_env_id = (\n",
    "        re.sub(r\"(?<!^)(?=[A-Z])\", \"-\", env_id).lower().replace(\"no-frameskip--v4\", \"\") + offline_dataset_id\n",
    "        )\n",
    "        self.dataset_env = gym.make(offline_env_id, stack=True)\n",
    "        self.dataset = self.dataset_env.get_dataset()\n",
    "\n",
    "#     def __iter__(self):\n",
    "#         while True:\n",
    "#             idx = np.random.choice(len(self.dataset[\"observations\"]) - 1)\n",
    "#             yield self.dataset[\"observations\"][idx], self.dataset[\"actions\"][idx], self.dataset[\"rewards\"][idx], self.dataset[\n",
    "#                 \"observations\"\n",
    "#             ][idx + 1], self.dataset[\"terminals\"][idx]"
   ]
  },
  {
   "cell_type": "code",
   "execution_count": 3,
   "id": "282f2d30",
   "metadata": {},
   "outputs": [
    {
     "name": "stderr",
     "output_type": "stream",
     "text": [
      "Copying gs://atari-replay-datasets/dqn/Qbert/1/replay_logs/$store$_observation_ckpt.1.gz...\n",
      "- [1/1 files][ 98.6 MiB/ 98.6 MiB] 100% Done                                    \n",
      "Operation completed over 1 objects/98.6 MiB.                                     \n",
      "Copying gs://atari-replay-datasets/dqn/Qbert/1/replay_logs/$store$_action_ckpt.1.gz...\n",
      "- [1/1 files][322.6 KiB/322.6 KiB] 100% Done                                    \n",
      "Operation completed over 1 objects/322.6 KiB.                                    \n",
      "Copying gs://atari-replay-datasets/dqn/Qbert/1/replay_logs/$store$_reward_ckpt.1.gz...\n",
      "- [1/1 files][ 29.8 KiB/ 29.8 KiB] 100% Done                                    \n",
      "Operation completed over 1 objects/29.8 KiB.                                     \n",
      "Copying gs://atari-replay-datasets/dqn/Qbert/1/replay_logs/$store$_terminal_ckpt.1.gz...\n",
      "- [1/1 files][  2.7 KiB/  2.7 KiB] 100% Done                                    \n",
      "Operation completed over 1 objects/2.7 KiB.                                      \n"
     ]
    },
    {
     "name": "stdout",
     "output_type": "stream",
     "text": [
      "loading /home/shenshuo/.d4rl/datasets/Qbert/1/1/observation.gz...\n",
      "loading /home/shenshuo/.d4rl/datasets/Qbert/1/1/action.gz...\n",
      "loading /home/shenshuo/.d4rl/datasets/Qbert/1/1/reward.gz...\n",
      "loading /home/shenshuo/.d4rl/datasets/Qbert/1/1/terminal.gz...\n"
     ]
    },
    {
     "name": "stderr",
     "output_type": "stream",
     "text": [
      "Copying gs://atari-replay-datasets/dqn/Qbert/1/replay_logs/$store$_observation_ckpt.2.gz...\n",
      "\\ [1/1 files][104.4 MiB/104.4 MiB] 100% Done                                    \n",
      "Operation completed over 1 objects/104.4 MiB.                                    \n",
      "Copying gs://atari-replay-datasets/dqn/Qbert/1/replay_logs/$store$_action_ckpt.2.gz...\n",
      "- [1/1 files][314.5 KiB/314.5 KiB] 100% Done                                    \n",
      "Operation completed over 1 objects/314.5 KiB.                                    \n",
      "Copying gs://atari-replay-datasets/dqn/Qbert/1/replay_logs/$store$_reward_ckpt.2.gz...\n",
      "- [1/1 files][ 31.7 KiB/ 31.7 KiB] 100% Done                                    \n",
      "Operation completed over 1 objects/31.7 KiB.                                     \n",
      "Copying gs://atari-replay-datasets/dqn/Qbert/1/replay_logs/$store$_terminal_ckpt.2.gz...\n",
      "/ [1/1 files][  2.8 KiB/  2.8 KiB] 100% Done                                    \n",
      "Operation completed over 1 objects/2.8 KiB.                                      \n"
     ]
    },
    {
     "name": "stdout",
     "output_type": "stream",
     "text": [
      "loading /home/shenshuo/.d4rl/datasets/Qbert/1/2/observation.gz...\n",
      "loading /home/shenshuo/.d4rl/datasets/Qbert/1/2/action.gz...\n",
      "loading /home/shenshuo/.d4rl/datasets/Qbert/1/2/reward.gz...\n",
      "loading /home/shenshuo/.d4rl/datasets/Qbert/1/2/terminal.gz...\n"
     ]
    },
    {
     "name": "stderr",
     "output_type": "stream",
     "text": [
      "Copying gs://atari-replay-datasets/dqn/Qbert/1/replay_logs/$store$_observation_ckpt.3.gz...\n",
      "- [1/1 files][ 96.7 MiB/ 96.7 MiB] 100% Done                                    \n",
      "Operation completed over 1 objects/96.7 MiB.                                     \n",
      "Copying gs://atari-replay-datasets/dqn/Qbert/1/replay_logs/$store$_action_ckpt.3.gz...\n",
      "- [1/1 files][252.7 KiB/252.7 KiB] 100% Done                                    \n",
      "Operation completed over 1 objects/252.7 KiB.                                    \n",
      "Copying gs://atari-replay-datasets/dqn/Qbert/1/replay_logs/$store$_reward_ckpt.3.gz...\n",
      "- [1/1 files][ 28.7 KiB/ 28.7 KiB] 100% Done                                    \n",
      "Operation completed over 1 objects/28.7 KiB.                                     \n",
      "Copying gs://atari-replay-datasets/dqn/Qbert/1/replay_logs/$store$_terminal_ckpt.3.gz...\n",
      "- [1/1 files][  2.9 KiB/  2.9 KiB] 100% Done                                    \n",
      "Operation completed over 1 objects/2.9 KiB.                                      \n"
     ]
    },
    {
     "name": "stdout",
     "output_type": "stream",
     "text": [
      "loading /home/shenshuo/.d4rl/datasets/Qbert/1/3/observation.gz...\n",
      "loading /home/shenshuo/.d4rl/datasets/Qbert/1/3/action.gz...\n",
      "loading /home/shenshuo/.d4rl/datasets/Qbert/1/3/reward.gz...\n",
      "loading /home/shenshuo/.d4rl/datasets/Qbert/1/3/terminal.gz...\n"
     ]
    },
    {
     "name": "stderr",
     "output_type": "stream",
     "text": [
      "Copying gs://atari-replay-datasets/dqn/Qbert/1/replay_logs/$store$_observation_ckpt.4.gz...\n",
      "\\ [1/1 files][113.5 MiB/113.5 MiB] 100% Done                                    \n",
      "Operation completed over 1 objects/113.5 MiB.                                    \n",
      "Copying gs://atari-replay-datasets/dqn/Qbert/1/replay_logs/$store$_action_ckpt.4.gz...\n",
      "- [1/1 files][276.8 KiB/276.8 KiB] 100% Done                                    \n",
      "Operation completed over 1 objects/276.8 KiB.                                    \n",
      "Copying gs://atari-replay-datasets/dqn/Qbert/1/replay_logs/$store$_reward_ckpt.4.gz...\n",
      "- [1/1 files][ 34.6 KiB/ 34.6 KiB] 100% Done                                    \n",
      "Operation completed over 1 objects/34.6 KiB.                                     \n",
      "Copying gs://atari-replay-datasets/dqn/Qbert/1/replay_logs/$store$_terminal_ckpt.4.gz...\n",
      "- [1/1 files][  2.6 KiB/  2.6 KiB] 100% Done                                    \n",
      "Operation completed over 1 objects/2.6 KiB.                                      \n"
     ]
    },
    {
     "name": "stdout",
     "output_type": "stream",
     "text": [
      "loading /home/shenshuo/.d4rl/datasets/Qbert/1/4/observation.gz...\n",
      "loading /home/shenshuo/.d4rl/datasets/Qbert/1/4/action.gz...\n",
      "loading /home/shenshuo/.d4rl/datasets/Qbert/1/4/reward.gz...\n",
      "loading /home/shenshuo/.d4rl/datasets/Qbert/1/4/terminal.gz...\n"
     ]
    },
    {
     "name": "stderr",
     "output_type": "stream",
     "text": [
      "Copying gs://atari-replay-datasets/dqn/Qbert/1/replay_logs/$store$_observation_ckpt.5.gz...\n",
      "\\ [1/1 files][118.2 MiB/118.2 MiB] 100% Done                                    \n",
      "Operation completed over 1 objects/118.2 MiB.                                    \n",
      "Copying gs://atari-replay-datasets/dqn/Qbert/1/replay_logs/$store$_action_ckpt.5.gz...\n",
      "- [1/1 files][289.9 KiB/289.9 KiB] 100% Done                                    \n",
      "Operation completed over 1 objects/289.9 KiB.                                    \n",
      "Copying gs://atari-replay-datasets/dqn/Qbert/1/replay_logs/$store$_reward_ckpt.5.gz...\n",
      "- [1/1 files][ 35.7 KiB/ 35.7 KiB] 100% Done                                    \n",
      "Operation completed over 1 objects/35.7 KiB.                                     \n",
      "Copying gs://atari-replay-datasets/dqn/Qbert/1/replay_logs/$store$_terminal_ckpt.5.gz...\n",
      "- [1/1 files][  2.5 KiB/  2.5 KiB] 100% Done                                    \n",
      "Operation completed over 1 objects/2.5 KiB.                                      \n"
     ]
    },
    {
     "name": "stdout",
     "output_type": "stream",
     "text": [
      "loading /home/shenshuo/.d4rl/datasets/Qbert/1/5/observation.gz...\n",
      "loading /home/shenshuo/.d4rl/datasets/Qbert/1/5/action.gz...\n",
      "loading /home/shenshuo/.d4rl/datasets/Qbert/1/5/reward.gz...\n",
      "loading /home/shenshuo/.d4rl/datasets/Qbert/1/5/terminal.gz...\n"
     ]
    },
    {
     "name": "stderr",
     "output_type": "stream",
     "text": [
      "Copying gs://atari-replay-datasets/dqn/Qbert/1/replay_logs/$store$_observation_ckpt.6.gz...\n",
      "- [1/1 files][119.8 MiB/119.8 MiB] 100% Done                                    \n",
      "Operation completed over 1 objects/119.8 MiB.                                    \n",
      "Copying gs://atari-replay-datasets/dqn/Qbert/1/replay_logs/$store$_action_ckpt.6.gz...\n",
      "- [1/1 files][288.7 KiB/288.7 KiB] 100% Done                                    \n",
      "Operation completed over 1 objects/288.7 KiB.                                    \n",
      "Copying gs://atari-replay-datasets/dqn/Qbert/1/replay_logs/$store$_reward_ckpt.6.gz...\n",
      "- [1/1 files][ 37.9 KiB/ 37.9 KiB] 100% Done                                    \n",
      "Operation completed over 1 objects/37.9 KiB.                                     \n",
      "Copying gs://atari-replay-datasets/dqn/Qbert/1/replay_logs/$store$_terminal_ckpt.6.gz...\n",
      "- [1/1 files][  2.5 KiB/  2.5 KiB] 100% Done                                    \n",
      "Operation completed over 1 objects/2.5 KiB.                                      \n"
     ]
    },
    {
     "name": "stdout",
     "output_type": "stream",
     "text": [
      "loading /home/shenshuo/.d4rl/datasets/Qbert/1/6/observation.gz...\n",
      "loading /home/shenshuo/.d4rl/datasets/Qbert/1/6/action.gz...\n",
      "loading /home/shenshuo/.d4rl/datasets/Qbert/1/6/reward.gz...\n",
      "loading /home/shenshuo/.d4rl/datasets/Qbert/1/6/terminal.gz...\n"
     ]
    },
    {
     "name": "stderr",
     "output_type": "stream",
     "text": [
      "Copying gs://atari-replay-datasets/dqn/Qbert/1/replay_logs/$store$_observation_ckpt.7.gz...\n",
      "- [1/1 files][127.6 MiB/127.6 MiB] 100% Done                                    \n",
      "Operation completed over 1 objects/127.6 MiB.                                    \n",
      "Copying gs://atari-replay-datasets/dqn/Qbert/1/replay_logs/$store$_action_ckpt.7.gz...\n",
      "- [1/1 files][299.8 KiB/299.8 KiB] 100% Done                                    \n",
      "Operation completed over 1 objects/299.8 KiB.                                    \n",
      "Copying gs://atari-replay-datasets/dqn/Qbert/1/replay_logs/$store$_reward_ckpt.7.gz...\n",
      "- [1/1 files][ 40.0 KiB/ 40.0 KiB] 100% Done                                    \n",
      "Operation completed over 1 objects/40.0 KiB.                                     \n",
      "Copying gs://atari-replay-datasets/dqn/Qbert/1/replay_logs/$store$_terminal_ckpt.7.gz...\n",
      "- [1/1 files][  2.5 KiB/  2.5 KiB] 100% Done                                    \n",
      "Operation completed over 1 objects/2.5 KiB.                                      \n"
     ]
    },
    {
     "name": "stdout",
     "output_type": "stream",
     "text": [
      "loading /home/shenshuo/.d4rl/datasets/Qbert/1/7/observation.gz...\n",
      "loading /home/shenshuo/.d4rl/datasets/Qbert/1/7/action.gz...\n",
      "loading /home/shenshuo/.d4rl/datasets/Qbert/1/7/reward.gz...\n",
      "loading /home/shenshuo/.d4rl/datasets/Qbert/1/7/terminal.gz...\n"
     ]
    },
    {
     "name": "stderr",
     "output_type": "stream",
     "text": [
      "Copying gs://atari-replay-datasets/dqn/Qbert/1/replay_logs/$store$_observation_ckpt.8.gz...\n",
      "| [1/1 files][128.4 MiB/128.4 MiB] 100% Done                                    \n",
      "Operation completed over 1 objects/128.4 MiB.                                    \n",
      "Copying gs://atari-replay-datasets/dqn/Qbert/1/replay_logs/$store$_action_ckpt.8.gz...\n",
      "- [1/1 files][293.4 KiB/293.4 KiB] 100% Done                                    \n",
      "Operation completed over 1 objects/293.4 KiB.                                    \n",
      "Copying gs://atari-replay-datasets/dqn/Qbert/1/replay_logs/$store$_reward_ckpt.8.gz...\n",
      "- [1/1 files][ 40.7 KiB/ 40.7 KiB] 100% Done                                    \n",
      "Operation completed over 1 objects/40.7 KiB.                                     \n",
      "Copying gs://atari-replay-datasets/dqn/Qbert/1/replay_logs/$store$_terminal_ckpt.8.gz...\n",
      "/ [1/1 files][  2.4 KiB/  2.4 KiB] 100% Done                                    \n",
      "Operation completed over 1 objects/2.4 KiB.                                      \n"
     ]
    },
    {
     "name": "stdout",
     "output_type": "stream",
     "text": [
      "loading /home/shenshuo/.d4rl/datasets/Qbert/1/8/observation.gz...\n",
      "loading /home/shenshuo/.d4rl/datasets/Qbert/1/8/action.gz...\n",
      "loading /home/shenshuo/.d4rl/datasets/Qbert/1/8/reward.gz...\n",
      "loading /home/shenshuo/.d4rl/datasets/Qbert/1/8/terminal.gz...\n"
     ]
    },
    {
     "name": "stderr",
     "output_type": "stream",
     "text": [
      "Copying gs://atari-replay-datasets/dqn/Qbert/1/replay_logs/$store$_observation_ckpt.9.gz...\n",
      "\\ [1/1 files][130.1 MiB/130.1 MiB] 100% Done                                    \n",
      "Operation completed over 1 objects/130.1 MiB.                                    \n",
      "Copying gs://atari-replay-datasets/dqn/Qbert/1/replay_logs/$store$_action_ckpt.9.gz...\n",
      "- [1/1 files][295.5 KiB/295.5 KiB] 100% Done                                    \n",
      "Operation completed over 1 objects/295.5 KiB.                                    \n",
      "Copying gs://atari-replay-datasets/dqn/Qbert/1/replay_logs/$store$_reward_ckpt.9.gz...\n",
      "- [1/1 files][ 41.7 KiB/ 41.7 KiB] 100% Done                                    \n",
      "Operation completed over 1 objects/41.7 KiB.                                     \n",
      "Copying gs://atari-replay-datasets/dqn/Qbert/1/replay_logs/$store$_terminal_ckpt.9.gz...\n",
      "- [1/1 files][  2.4 KiB/  2.4 KiB] 100% Done                                    \n",
      "Operation completed over 1 objects/2.4 KiB.                                      \n"
     ]
    },
    {
     "name": "stdout",
     "output_type": "stream",
     "text": [
      "loading /home/shenshuo/.d4rl/datasets/Qbert/1/9/observation.gz...\n",
      "loading /home/shenshuo/.d4rl/datasets/Qbert/1/9/action.gz...\n",
      "loading /home/shenshuo/.d4rl/datasets/Qbert/1/9/reward.gz...\n",
      "loading /home/shenshuo/.d4rl/datasets/Qbert/1/9/terminal.gz...\n"
     ]
    },
    {
     "name": "stderr",
     "output_type": "stream",
     "text": [
      "Copying gs://atari-replay-datasets/dqn/Qbert/1/replay_logs/$store$_observation_ckpt.10.gz...\n",
      "- [1/1 files][131.4 MiB/131.4 MiB] 100% Done                                    \n",
      "Operation completed over 1 objects/131.4 MiB.                                    \n",
      "Copying gs://atari-replay-datasets/dqn/Qbert/1/replay_logs/$store$_action_ckpt.10.gz...\n",
      "- [1/1 files][297.2 KiB/297.2 KiB] 100% Done                                    \n",
      "Operation completed over 1 objects/297.2 KiB.                                    \n",
      "Copying gs://atari-replay-datasets/dqn/Qbert/1/replay_logs/$store$_reward_ckpt.10.gz...\n",
      "- [1/1 files][ 42.4 KiB/ 42.4 KiB] 100% Done                                    \n",
      "Operation completed over 1 objects/42.4 KiB.                                     \n",
      "Copying gs://atari-replay-datasets/dqn/Qbert/1/replay_logs/$store$_terminal_ckpt.10.gz...\n",
      "- [1/1 files][  2.4 KiB/  2.4 KiB] 100% Done                                    \n",
      "Operation completed over 1 objects/2.4 KiB.                                      \n"
     ]
    },
    {
     "name": "stdout",
     "output_type": "stream",
     "text": [
      "loading /home/shenshuo/.d4rl/datasets/Qbert/1/10/observation.gz...\n",
      "loading /home/shenshuo/.d4rl/datasets/Qbert/1/10/action.gz...\n",
      "loading /home/shenshuo/.d4rl/datasets/Qbert/1/10/reward.gz...\n",
      "loading /home/shenshuo/.d4rl/datasets/Qbert/1/10/terminal.gz...\n"
     ]
    },
    {
     "name": "stderr",
     "output_type": "stream",
     "text": [
      "Copying gs://atari-replay-datasets/dqn/Qbert/1/replay_logs/$store$_observation_ckpt.11.gz...\n",
      "\\ [1/1 files][133.0 MiB/133.0 MiB] 100% Done                                    \n",
      "Operation completed over 1 objects/133.0 MiB.                                    \n",
      "Copying gs://atari-replay-datasets/dqn/Qbert/1/replay_logs/$store$_action_ckpt.11.gz...\n",
      "- [1/1 files][296.2 KiB/296.2 KiB] 100% Done                                    \n",
      "Operation completed over 1 objects/296.2 KiB.                                    \n",
      "Copying gs://atari-replay-datasets/dqn/Qbert/1/replay_logs/$store$_reward_ckpt.11.gz...\n",
      "- [1/1 files][ 42.6 KiB/ 42.6 KiB] 100% Done                                    \n",
      "Operation completed over 1 objects/42.6 KiB.                                     \n",
      "Copying gs://atari-replay-datasets/dqn/Qbert/1/replay_logs/$store$_terminal_ckpt.11.gz...\n",
      "- [1/1 files][  2.3 KiB/  2.3 KiB] 100% Done                                    \n",
      "Operation completed over 1 objects/2.3 KiB.                                      \n"
     ]
    },
    {
     "name": "stdout",
     "output_type": "stream",
     "text": [
      "loading /home/shenshuo/.d4rl/datasets/Qbert/1/11/observation.gz...\n",
      "loading /home/shenshuo/.d4rl/datasets/Qbert/1/11/action.gz...\n",
      "loading /home/shenshuo/.d4rl/datasets/Qbert/1/11/reward.gz...\n",
      "loading /home/shenshuo/.d4rl/datasets/Qbert/1/11/terminal.gz...\n"
     ]
    },
    {
     "name": "stderr",
     "output_type": "stream",
     "text": [
      "Copying gs://atari-replay-datasets/dqn/Qbert/1/replay_logs/$store$_observation_ckpt.12.gz...\n",
      "/ [1/1 files][133.0 MiB/133.0 MiB] 100% Done                                    \n",
      "Operation completed over 1 objects/133.0 MiB.                                    \n",
      "Copying gs://atari-replay-datasets/dqn/Qbert/1/replay_logs/$store$_action_ckpt.12.gz...\n",
      "- [1/1 files][296.1 KiB/296.1 KiB] 100% Done                                    \n",
      "Operation completed over 1 objects/296.1 KiB.                                    \n",
      "Copying gs://atari-replay-datasets/dqn/Qbert/1/replay_logs/$store$_reward_ckpt.12.gz...\n",
      "- [1/1 files][ 43.6 KiB/ 43.6 KiB] 100% Done                                    \n",
      "Operation completed over 1 objects/43.6 KiB.                                     \n",
      "Copying gs://atari-replay-datasets/dqn/Qbert/1/replay_logs/$store$_terminal_ckpt.12.gz...\n",
      "/ [1/1 files][  2.3 KiB/  2.3 KiB] 100% Done                                    \n",
      "Operation completed over 1 objects/2.3 KiB.                                      \n"
     ]
    },
    {
     "name": "stdout",
     "output_type": "stream",
     "text": [
      "loading /home/shenshuo/.d4rl/datasets/Qbert/1/12/observation.gz...\n",
      "loading /home/shenshuo/.d4rl/datasets/Qbert/1/12/action.gz...\n",
      "loading /home/shenshuo/.d4rl/datasets/Qbert/1/12/reward.gz...\n",
      "loading /home/shenshuo/.d4rl/datasets/Qbert/1/12/terminal.gz...\n"
     ]
    },
    {
     "name": "stderr",
     "output_type": "stream",
     "text": [
      "Copying gs://atari-replay-datasets/dqn/Qbert/1/replay_logs/$store$_observation_ckpt.13.gz...\n",
      "\\ [1/1 files][134.2 MiB/134.2 MiB] 100% Done                                    \n",
      "Operation completed over 1 objects/134.2 MiB.                                    \n",
      "Copying gs://atari-replay-datasets/dqn/Qbert/1/replay_logs/$store$_action_ckpt.13.gz...\n",
      "- [1/1 files][297.5 KiB/297.5 KiB] 100% Done                                    \n",
      "Operation completed over 1 objects/297.5 KiB.                                    \n",
      "Copying gs://atari-replay-datasets/dqn/Qbert/1/replay_logs/$store$_reward_ckpt.13.gz...\n",
      "- [1/1 files][ 43.1 KiB/ 43.1 KiB] 100% Done                                    \n",
      "Operation completed over 1 objects/43.1 KiB.                                     \n",
      "Copying gs://atari-replay-datasets/dqn/Qbert/1/replay_logs/$store$_terminal_ckpt.13.gz...\n",
      "/ [1/1 files][  2.3 KiB/  2.3 KiB] 100% Done                                    \n",
      "Operation completed over 1 objects/2.3 KiB.                                      \n"
     ]
    },
    {
     "name": "stdout",
     "output_type": "stream",
     "text": [
      "loading /home/shenshuo/.d4rl/datasets/Qbert/1/13/observation.gz...\n",
      "loading /home/shenshuo/.d4rl/datasets/Qbert/1/13/action.gz...\n",
      "loading /home/shenshuo/.d4rl/datasets/Qbert/1/13/reward.gz...\n",
      "loading /home/shenshuo/.d4rl/datasets/Qbert/1/13/terminal.gz...\n"
     ]
    },
    {
     "name": "stderr",
     "output_type": "stream",
     "text": [
      "Copying gs://atari-replay-datasets/dqn/Qbert/1/replay_logs/$store$_observation_ckpt.14.gz...\n",
      "\\ [1/1 files][134.5 MiB/134.5 MiB] 100% Done                                    \n",
      "Operation completed over 1 objects/134.5 MiB.                                    \n",
      "Copying gs://atari-replay-datasets/dqn/Qbert/1/replay_logs/$store$_action_ckpt.14.gz...\n",
      "- [1/1 files][299.2 KiB/299.2 KiB] 100% Done                                    \n",
      "Operation completed over 1 objects/299.2 KiB.                                    \n",
      "Copying gs://atari-replay-datasets/dqn/Qbert/1/replay_logs/$store$_reward_ckpt.14.gz...\n",
      "- [1/1 files][ 43.4 KiB/ 43.4 KiB] 100% Done                                    \n",
      "Operation completed over 1 objects/43.4 KiB.                                     \n",
      "Copying gs://atari-replay-datasets/dqn/Qbert/1/replay_logs/$store$_terminal_ckpt.14.gz...\n",
      "- [1/1 files][  2.3 KiB/  2.3 KiB] 100% Done                                    \n",
      "Operation completed over 1 objects/2.3 KiB.                                      \n"
     ]
    },
    {
     "name": "stdout",
     "output_type": "stream",
     "text": [
      "loading /home/shenshuo/.d4rl/datasets/Qbert/1/14/observation.gz...\n",
      "loading /home/shenshuo/.d4rl/datasets/Qbert/1/14/action.gz...\n",
      "loading /home/shenshuo/.d4rl/datasets/Qbert/1/14/reward.gz...\n",
      "loading /home/shenshuo/.d4rl/datasets/Qbert/1/14/terminal.gz...\n"
     ]
    },
    {
     "name": "stderr",
     "output_type": "stream",
     "text": [
      "Copying gs://atari-replay-datasets/dqn/Qbert/1/replay_logs/$store$_observation_ckpt.15.gz...\n",
      "\\ [1/1 files][134.9 MiB/134.9 MiB] 100% Done                                    \n",
      "Operation completed over 1 objects/134.9 MiB.                                    \n",
      "Copying gs://atari-replay-datasets/dqn/Qbert/1/replay_logs/$store$_action_ckpt.15.gz...\n",
      "- [1/1 files][296.1 KiB/296.1 KiB] 100% Done                                    \n",
      "Operation completed over 1 objects/296.1 KiB.                                    \n",
      "Copying gs://atari-replay-datasets/dqn/Qbert/1/replay_logs/$store$_reward_ckpt.15.gz...\n",
      "- [1/1 files][ 43.4 KiB/ 43.4 KiB] 100% Done                                    \n",
      "Operation completed over 1 objects/43.4 KiB.                                     \n",
      "Copying gs://atari-replay-datasets/dqn/Qbert/1/replay_logs/$store$_terminal_ckpt.15.gz...\n",
      "/ [1/1 files][  2.3 KiB/  2.3 KiB] 100% Done                                    \n",
      "Operation completed over 1 objects/2.3 KiB.                                      \n"
     ]
    },
    {
     "name": "stdout",
     "output_type": "stream",
     "text": [
      "loading /home/shenshuo/.d4rl/datasets/Qbert/1/15/observation.gz...\n",
      "loading /home/shenshuo/.d4rl/datasets/Qbert/1/15/action.gz...\n",
      "loading /home/shenshuo/.d4rl/datasets/Qbert/1/15/reward.gz...\n",
      "loading /home/shenshuo/.d4rl/datasets/Qbert/1/15/terminal.gz...\n"
     ]
    },
    {
     "name": "stderr",
     "output_type": "stream",
     "text": [
      "Copying gs://atari-replay-datasets/dqn/Qbert/1/replay_logs/$store$_observation_ckpt.16.gz...\n",
      "\\ [1/1 files][134.2 MiB/134.2 MiB] 100% Done                                    \n",
      "Operation completed over 1 objects/134.2 MiB.                                    \n",
      "Copying gs://atari-replay-datasets/dqn/Qbert/1/replay_logs/$store$_action_ckpt.16.gz...\n",
      "- [1/1 files][296.9 KiB/296.9 KiB] 100% Done                                    \n",
      "Operation completed over 1 objects/296.9 KiB.                                    \n",
      "Copying gs://atari-replay-datasets/dqn/Qbert/1/replay_logs/$store$_reward_ckpt.16.gz...\n",
      "- [1/1 files][ 42.9 KiB/ 42.9 KiB] 100% Done                                    \n",
      "Operation completed over 1 objects/42.9 KiB.                                     \n",
      "Copying gs://atari-replay-datasets/dqn/Qbert/1/replay_logs/$store$_terminal_ckpt.16.gz...\n",
      "/ [1/1 files][  2.3 KiB/  2.3 KiB] 100% Done                                    \n",
      "Operation completed over 1 objects/2.3 KiB.                                      \n"
     ]
    },
    {
     "name": "stdout",
     "output_type": "stream",
     "text": [
      "loading /home/shenshuo/.d4rl/datasets/Qbert/1/16/observation.gz...\n",
      "loading /home/shenshuo/.d4rl/datasets/Qbert/1/16/action.gz...\n",
      "loading /home/shenshuo/.d4rl/datasets/Qbert/1/16/reward.gz...\n",
      "loading /home/shenshuo/.d4rl/datasets/Qbert/1/16/terminal.gz...\n"
     ]
    },
    {
     "name": "stderr",
     "output_type": "stream",
     "text": [
      "Copying gs://atari-replay-datasets/dqn/Qbert/1/replay_logs/$store$_observation_ckpt.17.gz...\n",
      "| [1/1 files][135.6 MiB/135.6 MiB] 100% Done                                    \n",
      "Operation completed over 1 objects/135.6 MiB.                                    \n",
      "Copying gs://atari-replay-datasets/dqn/Qbert/1/replay_logs/$store$_action_ckpt.17.gz...\n",
      "- [1/1 files][298.8 KiB/298.8 KiB] 100% Done                                    \n",
      "Operation completed over 1 objects/298.8 KiB.                                    \n",
      "Copying gs://atari-replay-datasets/dqn/Qbert/1/replay_logs/$store$_reward_ckpt.17.gz...\n",
      "- [1/1 files][ 43.2 KiB/ 43.2 KiB] 100% Done                                    \n",
      "Operation completed over 1 objects/43.2 KiB.                                     \n",
      "Copying gs://atari-replay-datasets/dqn/Qbert/1/replay_logs/$store$_terminal_ckpt.17.gz...\n",
      "- [1/1 files][  2.3 KiB/  2.3 KiB] 100% Done                                    \n",
      "Operation completed over 1 objects/2.3 KiB.                                      \n"
     ]
    },
    {
     "name": "stdout",
     "output_type": "stream",
     "text": [
      "loading /home/shenshuo/.d4rl/datasets/Qbert/1/17/observation.gz...\n",
      "loading /home/shenshuo/.d4rl/datasets/Qbert/1/17/action.gz...\n",
      "loading /home/shenshuo/.d4rl/datasets/Qbert/1/17/reward.gz...\n",
      "loading /home/shenshuo/.d4rl/datasets/Qbert/1/17/terminal.gz...\n"
     ]
    },
    {
     "name": "stderr",
     "output_type": "stream",
     "text": [
      "Copying gs://atari-replay-datasets/dqn/Qbert/1/replay_logs/$store$_observation_ckpt.18.gz...\n",
      "| [1/1 files][135.1 MiB/135.1 MiB] 100% Done                                    \n",
      "Operation completed over 1 objects/135.1 MiB.                                    \n",
      "Copying gs://atari-replay-datasets/dqn/Qbert/1/replay_logs/$store$_action_ckpt.18.gz...\n",
      "- [1/1 files][296.0 KiB/296.0 KiB] 100% Done                                    \n",
      "Operation completed over 1 objects/296.0 KiB.                                    \n",
      "Copying gs://atari-replay-datasets/dqn/Qbert/1/replay_logs/$store$_reward_ckpt.18.gz...\n",
      "- [1/1 files][ 43.4 KiB/ 43.4 KiB] 100% Done                                    \n",
      "Operation completed over 1 objects/43.4 KiB.                                     \n",
      "Copying gs://atari-replay-datasets/dqn/Qbert/1/replay_logs/$store$_terminal_ckpt.18.gz...\n",
      "- [1/1 files][  2.3 KiB/  2.3 KiB] 100% Done                                    \n",
      "Operation completed over 1 objects/2.3 KiB.                                      \n"
     ]
    },
    {
     "name": "stdout",
     "output_type": "stream",
     "text": [
      "loading /home/shenshuo/.d4rl/datasets/Qbert/1/18/observation.gz...\n",
      "loading /home/shenshuo/.d4rl/datasets/Qbert/1/18/action.gz...\n",
      "loading /home/shenshuo/.d4rl/datasets/Qbert/1/18/reward.gz...\n",
      "loading /home/shenshuo/.d4rl/datasets/Qbert/1/18/terminal.gz...\n"
     ]
    },
    {
     "name": "stderr",
     "output_type": "stream",
     "text": [
      "Copying gs://atari-replay-datasets/dqn/Qbert/1/replay_logs/$store$_observation_ckpt.19.gz...\n",
      "- [1/1 files][136.0 MiB/136.0 MiB] 100% Done                                    \n",
      "Operation completed over 1 objects/136.0 MiB.                                    \n",
      "Copying gs://atari-replay-datasets/dqn/Qbert/1/replay_logs/$store$_action_ckpt.19.gz...\n",
      "- [1/1 files][294.8 KiB/294.8 KiB] 100% Done                                    \n",
      "Operation completed over 1 objects/294.8 KiB.                                    \n",
      "Copying gs://atari-replay-datasets/dqn/Qbert/1/replay_logs/$store$_reward_ckpt.19.gz...\n",
      "- [1/1 files][ 43.5 KiB/ 43.5 KiB] 100% Done                                    \n",
      "Operation completed over 1 objects/43.5 KiB.                                     \n",
      "Copying gs://atari-replay-datasets/dqn/Qbert/1/replay_logs/$store$_terminal_ckpt.19.gz...\n",
      "- [1/1 files][  2.2 KiB/  2.2 KiB] 100% Done                                    \n",
      "Operation completed over 1 objects/2.2 KiB.                                      \n"
     ]
    },
    {
     "name": "stdout",
     "output_type": "stream",
     "text": [
      "loading /home/shenshuo/.d4rl/datasets/Qbert/1/19/observation.gz...\n",
      "loading /home/shenshuo/.d4rl/datasets/Qbert/1/19/action.gz...\n",
      "loading /home/shenshuo/.d4rl/datasets/Qbert/1/19/reward.gz...\n",
      "loading /home/shenshuo/.d4rl/datasets/Qbert/1/19/terminal.gz...\n"
     ]
    },
    {
     "name": "stderr",
     "output_type": "stream",
     "text": [
      "Copying gs://atari-replay-datasets/dqn/Qbert/1/replay_logs/$store$_observation_ckpt.20.gz...\n",
      "- [1/1 files][135.3 MiB/135.3 MiB] 100% Done                                    \n",
      "Operation completed over 1 objects/135.3 MiB.                                    \n",
      "Copying gs://atari-replay-datasets/dqn/Qbert/1/replay_logs/$store$_action_ckpt.20.gz...\n",
      "- [1/1 files][295.5 KiB/295.5 KiB] 100% Done                                    \n",
      "Operation completed over 1 objects/295.5 KiB.                                    \n",
      "Copying gs://atari-replay-datasets/dqn/Qbert/1/replay_logs/$store$_reward_ckpt.20.gz...\n",
      "- [1/1 files][ 43.7 KiB/ 43.7 KiB] 100% Done                                    \n",
      "Operation completed over 1 objects/43.7 KiB.                                     \n",
      "Copying gs://atari-replay-datasets/dqn/Qbert/1/replay_logs/$store$_terminal_ckpt.20.gz...\n",
      "- [1/1 files][  2.3 KiB/  2.3 KiB] 100% Done                                    \n",
      "Operation completed over 1 objects/2.3 KiB.                                      \n"
     ]
    },
    {
     "name": "stdout",
     "output_type": "stream",
     "text": [
      "loading /home/shenshuo/.d4rl/datasets/Qbert/1/20/observation.gz...\n",
      "loading /home/shenshuo/.d4rl/datasets/Qbert/1/20/action.gz...\n",
      "loading /home/shenshuo/.d4rl/datasets/Qbert/1/20/reward.gz...\n",
      "loading /home/shenshuo/.d4rl/datasets/Qbert/1/20/terminal.gz...\n"
     ]
    },
    {
     "name": "stderr",
     "output_type": "stream",
     "text": [
      "Copying gs://atari-replay-datasets/dqn/Qbert/1/replay_logs/$store$_observation_ckpt.21.gz...\n",
      "/ [1/1 files][135.3 MiB/135.3 MiB] 100% Done                                    \n",
      "Operation completed over 1 objects/135.3 MiB.                                    \n",
      "Copying gs://atari-replay-datasets/dqn/Qbert/1/replay_logs/$store$_action_ckpt.21.gz...\n",
      "- [1/1 files][293.8 KiB/293.8 KiB] 100% Done                                    \n",
      "Operation completed over 1 objects/293.8 KiB.                                    \n",
      "Copying gs://atari-replay-datasets/dqn/Qbert/1/replay_logs/$store$_reward_ckpt.21.gz...\n",
      "- [1/1 files][ 43.6 KiB/ 43.6 KiB] 100% Done                                    \n",
      "Operation completed over 1 objects/43.6 KiB.                                     \n",
      "Copying gs://atari-replay-datasets/dqn/Qbert/1/replay_logs/$store$_terminal_ckpt.21.gz...\n",
      "- [1/1 files][  2.2 KiB/  2.2 KiB] 100% Done                                    \n",
      "Operation completed over 1 objects/2.2 KiB.                                      \n"
     ]
    },
    {
     "name": "stdout",
     "output_type": "stream",
     "text": [
      "loading /home/shenshuo/.d4rl/datasets/Qbert/1/21/observation.gz...\n",
      "loading /home/shenshuo/.d4rl/datasets/Qbert/1/21/action.gz...\n",
      "loading /home/shenshuo/.d4rl/datasets/Qbert/1/21/reward.gz...\n",
      "loading /home/shenshuo/.d4rl/datasets/Qbert/1/21/terminal.gz...\n"
     ]
    },
    {
     "name": "stderr",
     "output_type": "stream",
     "text": [
      "Copying gs://atari-replay-datasets/dqn/Qbert/1/replay_logs/$store$_observation_ckpt.22.gz...\n",
      "| [1/1 files][134.8 MiB/134.8 MiB] 100% Done                                    \n",
      "Operation completed over 1 objects/134.8 MiB.                                    \n",
      "Copying gs://atari-replay-datasets/dqn/Qbert/1/replay_logs/$store$_action_ckpt.22.gz...\n",
      "- [1/1 files][295.1 KiB/295.1 KiB] 100% Done                                    \n",
      "Operation completed over 1 objects/295.1 KiB.                                    \n",
      "Copying gs://atari-replay-datasets/dqn/Qbert/1/replay_logs/$store$_reward_ckpt.22.gz...\n",
      "- [1/1 files][ 43.8 KiB/ 43.8 KiB] 100% Done                                    \n",
      "Operation completed over 1 objects/43.8 KiB.                                     \n",
      "Copying gs://atari-replay-datasets/dqn/Qbert/1/replay_logs/$store$_terminal_ckpt.22.gz...\n",
      "/ [1/1 files][  2.2 KiB/  2.2 KiB] 100% Done                                    \n",
      "Operation completed over 1 objects/2.2 KiB.                                      \n"
     ]
    },
    {
     "name": "stdout",
     "output_type": "stream",
     "text": [
      "loading /home/shenshuo/.d4rl/datasets/Qbert/1/22/observation.gz...\n",
      "loading /home/shenshuo/.d4rl/datasets/Qbert/1/22/action.gz...\n",
      "loading /home/shenshuo/.d4rl/datasets/Qbert/1/22/reward.gz...\n",
      "loading /home/shenshuo/.d4rl/datasets/Qbert/1/22/terminal.gz...\n"
     ]
    },
    {
     "name": "stderr",
     "output_type": "stream",
     "text": [
      "Copying gs://atari-replay-datasets/dqn/Qbert/1/replay_logs/$store$_observation_ckpt.23.gz...\n",
      "| [1/1 files][135.4 MiB/135.4 MiB] 100% Done                                    \n",
      "Operation completed over 1 objects/135.4 MiB.                                    \n",
      "Copying gs://atari-replay-datasets/dqn/Qbert/1/replay_logs/$store$_action_ckpt.23.gz...\n",
      "- [1/1 files][297.7 KiB/297.7 KiB] 100% Done                                    \n",
      "Operation completed over 1 objects/297.7 KiB.                                    \n",
      "Copying gs://atari-replay-datasets/dqn/Qbert/1/replay_logs/$store$_reward_ckpt.23.gz...\n",
      "- [1/1 files][ 43.8 KiB/ 43.8 KiB] 100% Done                                    \n",
      "Operation completed over 1 objects/43.8 KiB.                                     \n",
      "Copying gs://atari-replay-datasets/dqn/Qbert/1/replay_logs/$store$_terminal_ckpt.23.gz...\n",
      "- [1/1 files][  2.2 KiB/  2.2 KiB] 100% Done                                    \n",
      "Operation completed over 1 objects/2.2 KiB.                                      \n"
     ]
    },
    {
     "name": "stdout",
     "output_type": "stream",
     "text": [
      "loading /home/shenshuo/.d4rl/datasets/Qbert/1/23/observation.gz...\n",
      "loading /home/shenshuo/.d4rl/datasets/Qbert/1/23/action.gz...\n",
      "loading /home/shenshuo/.d4rl/datasets/Qbert/1/23/reward.gz...\n",
      "loading /home/shenshuo/.d4rl/datasets/Qbert/1/23/terminal.gz...\n"
     ]
    },
    {
     "name": "stderr",
     "output_type": "stream",
     "text": [
      "Copying gs://atari-replay-datasets/dqn/Qbert/1/replay_logs/$store$_observation_ckpt.24.gz...\n",
      "| [1/1 files][135.4 MiB/135.4 MiB] 100% Done                                    \n",
      "Operation completed over 1 objects/135.4 MiB.                                    \n",
      "Copying gs://atari-replay-datasets/dqn/Qbert/1/replay_logs/$store$_action_ckpt.24.gz...\n",
      "- [1/1 files][297.8 KiB/297.8 KiB] 100% Done                                    \n",
      "Operation completed over 1 objects/297.8 KiB.                                    \n",
      "Copying gs://atari-replay-datasets/dqn/Qbert/1/replay_logs/$store$_reward_ckpt.24.gz...\n",
      "- [1/1 files][ 44.3 KiB/ 44.3 KiB] 100% Done                                    \n",
      "Operation completed over 1 objects/44.3 KiB.                                     \n",
      "Copying gs://atari-replay-datasets/dqn/Qbert/1/replay_logs/$store$_terminal_ckpt.24.gz...\n",
      "- [1/1 files][  2.2 KiB/  2.2 KiB] 100% Done                                    \n",
      "Operation completed over 1 objects/2.2 KiB.                                      \n"
     ]
    },
    {
     "name": "stdout",
     "output_type": "stream",
     "text": [
      "loading /home/shenshuo/.d4rl/datasets/Qbert/1/24/observation.gz...\n",
      "loading /home/shenshuo/.d4rl/datasets/Qbert/1/24/action.gz...\n",
      "loading /home/shenshuo/.d4rl/datasets/Qbert/1/24/reward.gz...\n",
      "loading /home/shenshuo/.d4rl/datasets/Qbert/1/24/terminal.gz...\n"
     ]
    },
    {
     "name": "stderr",
     "output_type": "stream",
     "text": [
      "Copying gs://atari-replay-datasets/dqn/Qbert/1/replay_logs/$store$_observation_ckpt.25.gz...\n",
      "\\ [1/1 files][135.5 MiB/135.5 MiB] 100% Done                                    \n",
      "Operation completed over 1 objects/135.5 MiB.                                    \n",
      "Copying gs://atari-replay-datasets/dqn/Qbert/1/replay_logs/$store$_action_ckpt.25.gz...\n",
      "- [1/1 files][299.0 KiB/299.0 KiB] 100% Done                                    \n",
      "Operation completed over 1 objects/299.0 KiB.                                    \n",
      "Copying gs://atari-replay-datasets/dqn/Qbert/1/replay_logs/$store$_reward_ckpt.25.gz...\n",
      "- [1/1 files][ 44.2 KiB/ 44.2 KiB] 100% Done                                    \n",
      "Operation completed over 1 objects/44.2 KiB.                                     \n",
      "Copying gs://atari-replay-datasets/dqn/Qbert/1/replay_logs/$store$_terminal_ckpt.25.gz...\n",
      "/ [1/1 files][  2.2 KiB/  2.2 KiB] 100% Done                                    \n",
      "Operation completed over 1 objects/2.2 KiB.                                      \n"
     ]
    },
    {
     "name": "stdout",
     "output_type": "stream",
     "text": [
      "loading /home/shenshuo/.d4rl/datasets/Qbert/1/25/observation.gz...\n",
      "loading /home/shenshuo/.d4rl/datasets/Qbert/1/25/action.gz...\n",
      "loading /home/shenshuo/.d4rl/datasets/Qbert/1/25/reward.gz...\n",
      "loading /home/shenshuo/.d4rl/datasets/Qbert/1/25/terminal.gz...\n"
     ]
    },
    {
     "name": "stderr",
     "output_type": "stream",
     "text": [
      "Copying gs://atari-replay-datasets/dqn/Qbert/1/replay_logs/$store$_observation_ckpt.26.gz...\n",
      "- [1/1 files][135.7 MiB/135.7 MiB] 100% Done                                    \n",
      "Operation completed over 1 objects/135.7 MiB.                                    \n",
      "Copying gs://atari-replay-datasets/dqn/Qbert/1/replay_logs/$store$_action_ckpt.26.gz...\n",
      "- [1/1 files][300.7 KiB/300.7 KiB] 100% Done                                    \n",
      "Operation completed over 1 objects/300.7 KiB.                                    \n",
      "Copying gs://atari-replay-datasets/dqn/Qbert/1/replay_logs/$store$_reward_ckpt.26.gz...\n",
      "- [1/1 files][ 44.6 KiB/ 44.6 KiB] 100% Done                                    \n",
      "Operation completed over 1 objects/44.6 KiB.                                     \n",
      "Copying gs://atari-replay-datasets/dqn/Qbert/1/replay_logs/$store$_terminal_ckpt.26.gz...\n",
      "/ [1/1 files][  2.2 KiB/  2.2 KiB] 100% Done                                    \n",
      "Operation completed over 1 objects/2.2 KiB.                                      \n"
     ]
    },
    {
     "name": "stdout",
     "output_type": "stream",
     "text": [
      "loading /home/shenshuo/.d4rl/datasets/Qbert/1/26/observation.gz...\n",
      "loading /home/shenshuo/.d4rl/datasets/Qbert/1/26/action.gz...\n",
      "loading /home/shenshuo/.d4rl/datasets/Qbert/1/26/reward.gz...\n",
      "loading /home/shenshuo/.d4rl/datasets/Qbert/1/26/terminal.gz...\n"
     ]
    },
    {
     "name": "stderr",
     "output_type": "stream",
     "text": [
      "Copying gs://atari-replay-datasets/dqn/Qbert/1/replay_logs/$store$_observation_ckpt.27.gz...\n",
      "\\ [1/1 files][135.1 MiB/135.1 MiB] 100% Done                                    \n",
      "Operation completed over 1 objects/135.1 MiB.                                    \n",
      "Copying gs://atari-replay-datasets/dqn/Qbert/1/replay_logs/$store$_action_ckpt.27.gz...\n",
      "- [1/1 files][299.0 KiB/299.0 KiB] 100% Done                                    \n",
      "Operation completed over 1 objects/299.0 KiB.                                    \n",
      "Copying gs://atari-replay-datasets/dqn/Qbert/1/replay_logs/$store$_reward_ckpt.27.gz...\n",
      "- [1/1 files][ 44.7 KiB/ 44.7 KiB] 100% Done                                    \n",
      "Operation completed over 1 objects/44.7 KiB.                                     \n",
      "Copying gs://atari-replay-datasets/dqn/Qbert/1/replay_logs/$store$_terminal_ckpt.27.gz...\n",
      "- [1/1 files][  2.2 KiB/  2.2 KiB] 100% Done                                    \n",
      "Operation completed over 1 objects/2.2 KiB.                                      \n"
     ]
    },
    {
     "name": "stdout",
     "output_type": "stream",
     "text": [
      "loading /home/shenshuo/.d4rl/datasets/Qbert/1/27/observation.gz...\n",
      "loading /home/shenshuo/.d4rl/datasets/Qbert/1/27/action.gz...\n",
      "loading /home/shenshuo/.d4rl/datasets/Qbert/1/27/reward.gz...\n",
      "loading /home/shenshuo/.d4rl/datasets/Qbert/1/27/terminal.gz...\n"
     ]
    },
    {
     "name": "stderr",
     "output_type": "stream",
     "text": [
      "Copying gs://atari-replay-datasets/dqn/Qbert/1/replay_logs/$store$_observation_ckpt.28.gz...\n",
      "\\ [1/1 files][134.5 MiB/134.5 MiB] 100% Done                                    \n",
      "Operation completed over 1 objects/134.5 MiB.                                    \n",
      "Copying gs://atari-replay-datasets/dqn/Qbert/1/replay_logs/$store$_action_ckpt.28.gz...\n",
      "- [1/1 files][296.7 KiB/296.7 KiB] 100% Done                                    \n",
      "Operation completed over 1 objects/296.7 KiB.                                    \n",
      "Copying gs://atari-replay-datasets/dqn/Qbert/1/replay_logs/$store$_reward_ckpt.28.gz...\n",
      "- [1/1 files][ 44.7 KiB/ 44.7 KiB] 100% Done                                    \n",
      "Operation completed over 1 objects/44.7 KiB.                                     \n",
      "Copying gs://atari-replay-datasets/dqn/Qbert/1/replay_logs/$store$_terminal_ckpt.28.gz...\n",
      "- [1/1 files][  2.2 KiB/  2.2 KiB] 100% Done                                    \n",
      "Operation completed over 1 objects/2.2 KiB.                                      \n"
     ]
    },
    {
     "name": "stdout",
     "output_type": "stream",
     "text": [
      "loading /home/shenshuo/.d4rl/datasets/Qbert/1/28/observation.gz...\n",
      "loading /home/shenshuo/.d4rl/datasets/Qbert/1/28/action.gz...\n",
      "loading /home/shenshuo/.d4rl/datasets/Qbert/1/28/reward.gz...\n",
      "loading /home/shenshuo/.d4rl/datasets/Qbert/1/28/terminal.gz...\n"
     ]
    },
    {
     "name": "stderr",
     "output_type": "stream",
     "text": [
      "Copying gs://atari-replay-datasets/dqn/Qbert/1/replay_logs/$store$_observation_ckpt.29.gz...\n",
      "| [1/1 files][135.9 MiB/135.9 MiB] 100% Done                                    \n",
      "Operation completed over 1 objects/135.9 MiB.                                    \n",
      "Copying gs://atari-replay-datasets/dqn/Qbert/1/replay_logs/$store$_action_ckpt.29.gz...\n",
      "- [1/1 files][300.0 KiB/300.0 KiB] 100% Done                                    \n",
      "Operation completed over 1 objects/300.0 KiB.                                    \n",
      "Copying gs://atari-replay-datasets/dqn/Qbert/1/replay_logs/$store$_reward_ckpt.29.gz...\n",
      "- [1/1 files][ 44.8 KiB/ 44.8 KiB] 100% Done                                    \n",
      "Operation completed over 1 objects/44.8 KiB.                                     \n",
      "Copying gs://atari-replay-datasets/dqn/Qbert/1/replay_logs/$store$_terminal_ckpt.29.gz...\n",
      "- [1/1 files][  2.2 KiB/  2.2 KiB] 100% Done                                    \n",
      "Operation completed over 1 objects/2.2 KiB.                                      \n"
     ]
    },
    {
     "name": "stdout",
     "output_type": "stream",
     "text": [
      "loading /home/shenshuo/.d4rl/datasets/Qbert/1/29/observation.gz...\n",
      "loading /home/shenshuo/.d4rl/datasets/Qbert/1/29/action.gz...\n",
      "loading /home/shenshuo/.d4rl/datasets/Qbert/1/29/reward.gz...\n",
      "loading /home/shenshuo/.d4rl/datasets/Qbert/1/29/terminal.gz...\n"
     ]
    },
    {
     "name": "stderr",
     "output_type": "stream",
     "text": [
      "Copying gs://atari-replay-datasets/dqn/Qbert/1/replay_logs/$store$_observation_ckpt.30.gz...\n",
      "\\ [1/1 files][134.8 MiB/134.8 MiB] 100% Done                                    \n",
      "Operation completed over 1 objects/134.8 MiB.                                    \n",
      "Copying gs://atari-replay-datasets/dqn/Qbert/1/replay_logs/$store$_action_ckpt.30.gz...\n",
      "- [1/1 files][300.7 KiB/300.7 KiB] 100% Done                                    \n",
      "Operation completed over 1 objects/300.7 KiB.                                    \n",
      "Copying gs://atari-replay-datasets/dqn/Qbert/1/replay_logs/$store$_reward_ckpt.30.gz...\n",
      "- [1/1 files][ 45.0 KiB/ 45.0 KiB] 100% Done                                    \n",
      "Operation completed over 1 objects/45.0 KiB.                                     \n",
      "Copying gs://atari-replay-datasets/dqn/Qbert/1/replay_logs/$store$_terminal_ckpt.30.gz...\n",
      "- [1/1 files][  2.3 KiB/  2.3 KiB] 100% Done                                    \n",
      "Operation completed over 1 objects/2.3 KiB.                                      \n"
     ]
    },
    {
     "name": "stdout",
     "output_type": "stream",
     "text": [
      "loading /home/shenshuo/.d4rl/datasets/Qbert/1/30/observation.gz...\n",
      "loading /home/shenshuo/.d4rl/datasets/Qbert/1/30/action.gz...\n",
      "loading /home/shenshuo/.d4rl/datasets/Qbert/1/30/reward.gz...\n",
      "loading /home/shenshuo/.d4rl/datasets/Qbert/1/30/terminal.gz...\n"
     ]
    },
    {
     "name": "stderr",
     "output_type": "stream",
     "text": [
      "Copying gs://atari-replay-datasets/dqn/Qbert/1/replay_logs/$store$_observation_ckpt.31.gz...\n",
      "\\ [1/1 files][135.4 MiB/135.4 MiB] 100% Done                                    \n",
      "Operation completed over 1 objects/135.4 MiB.                                    \n",
      "Copying gs://atari-replay-datasets/dqn/Qbert/1/replay_logs/$store$_action_ckpt.31.gz...\n",
      "- [1/1 files][300.0 KiB/300.0 KiB] 100% Done                                    \n",
      "Operation completed over 1 objects/300.0 KiB.                                    \n",
      "Copying gs://atari-replay-datasets/dqn/Qbert/1/replay_logs/$store$_reward_ckpt.31.gz...\n",
      "- [1/1 files][ 45.3 KiB/ 45.3 KiB] 100% Done                                    \n",
      "Operation completed over 1 objects/45.3 KiB.                                     \n",
      "Copying gs://atari-replay-datasets/dqn/Qbert/1/replay_logs/$store$_terminal_ckpt.31.gz...\n",
      "- [1/1 files][  2.2 KiB/  2.2 KiB] 100% Done                                    \n",
      "Operation completed over 1 objects/2.2 KiB.                                      \n"
     ]
    },
    {
     "name": "stdout",
     "output_type": "stream",
     "text": [
      "loading /home/shenshuo/.d4rl/datasets/Qbert/1/31/observation.gz...\n",
      "loading /home/shenshuo/.d4rl/datasets/Qbert/1/31/action.gz...\n",
      "loading /home/shenshuo/.d4rl/datasets/Qbert/1/31/reward.gz...\n",
      "loading /home/shenshuo/.d4rl/datasets/Qbert/1/31/terminal.gz...\n"
     ]
    },
    {
     "name": "stderr",
     "output_type": "stream",
     "text": [
      "Copying gs://atari-replay-datasets/dqn/Qbert/1/replay_logs/$store$_observation_ckpt.32.gz...\n",
      "| [1/1 files][134.4 MiB/134.4 MiB] 100% Done                                    \n",
      "Operation completed over 1 objects/134.4 MiB.                                    \n",
      "Copying gs://atari-replay-datasets/dqn/Qbert/1/replay_logs/$store$_action_ckpt.32.gz...\n",
      "- [1/1 files][299.5 KiB/299.5 KiB] 100% Done                                    \n",
      "Operation completed over 1 objects/299.5 KiB.                                    \n",
      "Copying gs://atari-replay-datasets/dqn/Qbert/1/replay_logs/$store$_reward_ckpt.32.gz...\n",
      "- [1/1 files][ 45.2 KiB/ 45.2 KiB] 100% Done                                    \n",
      "Operation completed over 1 objects/45.2 KiB.                                     \n",
      "Copying gs://atari-replay-datasets/dqn/Qbert/1/replay_logs/$store$_terminal_ckpt.32.gz...\n",
      "- [1/1 files][  2.3 KiB/  2.3 KiB] 100% Done                                    \n",
      "Operation completed over 1 objects/2.3 KiB.                                      \n"
     ]
    },
    {
     "name": "stdout",
     "output_type": "stream",
     "text": [
      "loading /home/shenshuo/.d4rl/datasets/Qbert/1/32/observation.gz...\n",
      "loading /home/shenshuo/.d4rl/datasets/Qbert/1/32/action.gz...\n",
      "loading /home/shenshuo/.d4rl/datasets/Qbert/1/32/reward.gz...\n",
      "loading /home/shenshuo/.d4rl/datasets/Qbert/1/32/terminal.gz...\n"
     ]
    },
    {
     "name": "stderr",
     "output_type": "stream",
     "text": [
      "Copying gs://atari-replay-datasets/dqn/Qbert/1/replay_logs/$store$_observation_ckpt.33.gz...\n",
      "\\ [1/1 files][135.3 MiB/135.3 MiB] 100% Done     0.0 B/s                        \n",
      "Operation completed over 1 objects/135.3 MiB.                                    \n",
      "Copying gs://atari-replay-datasets/dqn/Qbert/1/replay_logs/$store$_action_ckpt.33.gz...\n",
      "- [1/1 files][301.1 KiB/301.1 KiB] 100% Done                                    \n",
      "Operation completed over 1 objects/301.1 KiB.                                    \n",
      "Copying gs://atari-replay-datasets/dqn/Qbert/1/replay_logs/$store$_reward_ckpt.33.gz...\n",
      "- [1/1 files][ 45.1 KiB/ 45.1 KiB] 100% Done                                    \n",
      "Operation completed over 1 objects/45.1 KiB.                                     \n",
      "Copying gs://atari-replay-datasets/dqn/Qbert/1/replay_logs/$store$_terminal_ckpt.33.gz...\n",
      "/ [1/1 files][  2.2 KiB/  2.2 KiB] 100% Done                                    \n",
      "Operation completed over 1 objects/2.2 KiB.                                      \n"
     ]
    },
    {
     "name": "stdout",
     "output_type": "stream",
     "text": [
      "loading /home/shenshuo/.d4rl/datasets/Qbert/1/33/observation.gz...\n",
      "loading /home/shenshuo/.d4rl/datasets/Qbert/1/33/action.gz...\n",
      "loading /home/shenshuo/.d4rl/datasets/Qbert/1/33/reward.gz...\n",
      "loading /home/shenshuo/.d4rl/datasets/Qbert/1/33/terminal.gz...\n"
     ]
    },
    {
     "name": "stderr",
     "output_type": "stream",
     "text": [
      "Copying gs://atari-replay-datasets/dqn/Qbert/1/replay_logs/$store$_observation_ckpt.34.gz...\n",
      "\\ [1/1 files][134.0 MiB/134.0 MiB] 100% Done                                    \n",
      "Operation completed over 1 objects/134.0 MiB.                                    \n",
      "Copying gs://atari-replay-datasets/dqn/Qbert/1/replay_logs/$store$_action_ckpt.34.gz...\n",
      "- [1/1 files][299.0 KiB/299.0 KiB] 100% Done                                    \n",
      "Operation completed over 1 objects/299.0 KiB.                                    \n",
      "Copying gs://atari-replay-datasets/dqn/Qbert/1/replay_logs/$store$_reward_ckpt.34.gz...\n",
      "- [1/1 files][ 45.0 KiB/ 45.0 KiB] 100% Done                                    \n",
      "Operation completed over 1 objects/45.0 KiB.                                     \n",
      "Copying gs://atari-replay-datasets/dqn/Qbert/1/replay_logs/$store$_terminal_ckpt.34.gz...\n",
      "/ [1/1 files][  2.3 KiB/  2.3 KiB] 100% Done                                    \n",
      "Operation completed over 1 objects/2.3 KiB.                                      \n"
     ]
    },
    {
     "name": "stdout",
     "output_type": "stream",
     "text": [
      "loading /home/shenshuo/.d4rl/datasets/Qbert/1/34/observation.gz...\n",
      "loading /home/shenshuo/.d4rl/datasets/Qbert/1/34/action.gz...\n",
      "loading /home/shenshuo/.d4rl/datasets/Qbert/1/34/reward.gz...\n",
      "loading /home/shenshuo/.d4rl/datasets/Qbert/1/34/terminal.gz...\n"
     ]
    },
    {
     "name": "stderr",
     "output_type": "stream",
     "text": [
      "Copying gs://atari-replay-datasets/dqn/Qbert/1/replay_logs/$store$_observation_ckpt.35.gz...\n",
      "| [1/1 files][134.0 MiB/134.0 MiB] 100% Done                                    \n",
      "Operation completed over 1 objects/134.0 MiB.                                    \n",
      "Copying gs://atari-replay-datasets/dqn/Qbert/1/replay_logs/$store$_action_ckpt.35.gz...\n",
      "- [1/1 files][299.6 KiB/299.6 KiB] 100% Done                                    \n",
      "Operation completed over 1 objects/299.6 KiB.                                    \n",
      "Copying gs://atari-replay-datasets/dqn/Qbert/1/replay_logs/$store$_reward_ckpt.35.gz...\n",
      "- [1/1 files][ 45.1 KiB/ 45.1 KiB] 100% Done                                    \n",
      "Operation completed over 1 objects/45.1 KiB.                                     \n",
      "Copying gs://atari-replay-datasets/dqn/Qbert/1/replay_logs/$store$_terminal_ckpt.35.gz...\n",
      "- [1/1 files][  2.3 KiB/  2.3 KiB] 100% Done                                    \n",
      "Operation completed over 1 objects/2.3 KiB.                                      \n"
     ]
    },
    {
     "name": "stdout",
     "output_type": "stream",
     "text": [
      "loading /home/shenshuo/.d4rl/datasets/Qbert/1/35/observation.gz...\n",
      "loading /home/shenshuo/.d4rl/datasets/Qbert/1/35/action.gz...\n",
      "loading /home/shenshuo/.d4rl/datasets/Qbert/1/35/reward.gz...\n",
      "loading /home/shenshuo/.d4rl/datasets/Qbert/1/35/terminal.gz...\n"
     ]
    },
    {
     "name": "stderr",
     "output_type": "stream",
     "text": [
      "Copying gs://atari-replay-datasets/dqn/Qbert/1/replay_logs/$store$_observation_ckpt.36.gz...\n",
      "\\ [1/1 files][135.3 MiB/135.3 MiB] 100% Done                                    \n",
      "Operation completed over 1 objects/135.3 MiB.                                    \n",
      "Copying gs://atari-replay-datasets/dqn/Qbert/1/replay_logs/$store$_action_ckpt.36.gz...\n",
      "- [1/1 files][299.6 KiB/299.6 KiB] 100% Done                                    \n",
      "Operation completed over 1 objects/299.6 KiB.                                    \n",
      "Copying gs://atari-replay-datasets/dqn/Qbert/1/replay_logs/$store$_reward_ckpt.36.gz...\n",
      "- [1/1 files][ 45.1 KiB/ 45.1 KiB] 100% Done                                    \n",
      "Operation completed over 1 objects/45.1 KiB.                                     \n",
      "Copying gs://atari-replay-datasets/dqn/Qbert/1/replay_logs/$store$_terminal_ckpt.36.gz...\n",
      "- [1/1 files][  2.3 KiB/  2.3 KiB] 100% Done                                    \n",
      "Operation completed over 1 objects/2.3 KiB.                                      \n"
     ]
    },
    {
     "name": "stdout",
     "output_type": "stream",
     "text": [
      "loading /home/shenshuo/.d4rl/datasets/Qbert/1/36/observation.gz...\n",
      "loading /home/shenshuo/.d4rl/datasets/Qbert/1/36/action.gz...\n",
      "loading /home/shenshuo/.d4rl/datasets/Qbert/1/36/reward.gz...\n",
      "loading /home/shenshuo/.d4rl/datasets/Qbert/1/36/terminal.gz...\n"
     ]
    },
    {
     "name": "stderr",
     "output_type": "stream",
     "text": [
      "Copying gs://atari-replay-datasets/dqn/Qbert/1/replay_logs/$store$_observation_ckpt.37.gz...\n",
      "/ [1/1 files][134.5 MiB/134.5 MiB] 100% Done   5.7 MiB/s ETA 00:00:00           \n",
      "Operation completed over 1 objects/134.5 MiB.                                    \n",
      "Copying gs://atari-replay-datasets/dqn/Qbert/1/replay_logs/$store$_action_ckpt.37.gz...\n",
      "- [1/1 files][299.5 KiB/299.5 KiB] 100% Done                                    \n",
      "Operation completed over 1 objects/299.5 KiB.                                    \n",
      "Copying gs://atari-replay-datasets/dqn/Qbert/1/replay_logs/$store$_reward_ckpt.37.gz...\n",
      "- [1/1 files][ 45.2 KiB/ 45.2 KiB] 100% Done                                    \n",
      "Operation completed over 1 objects/45.2 KiB.                                     \n",
      "Copying gs://atari-replay-datasets/dqn/Qbert/1/replay_logs/$store$_terminal_ckpt.37.gz...\n",
      "- [1/1 files][  2.3 KiB/  2.3 KiB] 100% Done                                    \n",
      "Operation completed over 1 objects/2.3 KiB.                                      \n"
     ]
    },
    {
     "name": "stdout",
     "output_type": "stream",
     "text": [
      "loading /home/shenshuo/.d4rl/datasets/Qbert/1/37/observation.gz...\n",
      "loading /home/shenshuo/.d4rl/datasets/Qbert/1/37/action.gz...\n",
      "loading /home/shenshuo/.d4rl/datasets/Qbert/1/37/reward.gz...\n",
      "loading /home/shenshuo/.d4rl/datasets/Qbert/1/37/terminal.gz...\n"
     ]
    },
    {
     "name": "stderr",
     "output_type": "stream",
     "text": [
      "Copying gs://atari-replay-datasets/dqn/Qbert/1/replay_logs/$store$_observation_ckpt.38.gz...\n",
      "| [1/1 files][135.0 MiB/135.0 MiB] 100% Done                                    \n",
      "Operation completed over 1 objects/135.0 MiB.                                    \n",
      "Copying gs://atari-replay-datasets/dqn/Qbert/1/replay_logs/$store$_action_ckpt.38.gz...\n",
      "- [1/1 files][301.2 KiB/301.2 KiB] 100% Done                                    \n",
      "Operation completed over 1 objects/301.2 KiB.                                    \n",
      "Copying gs://atari-replay-datasets/dqn/Qbert/1/replay_logs/$store$_reward_ckpt.38.gz...\n",
      "- [1/1 files][ 45.2 KiB/ 45.2 KiB] 100% Done                                    \n",
      "Operation completed over 1 objects/45.2 KiB.                                     \n",
      "Copying gs://atari-replay-datasets/dqn/Qbert/1/replay_logs/$store$_terminal_ckpt.38.gz...\n",
      "- [1/1 files][  2.2 KiB/  2.2 KiB] 100% Done                                    \n",
      "Operation completed over 1 objects/2.2 KiB.                                      \n"
     ]
    },
    {
     "name": "stdout",
     "output_type": "stream",
     "text": [
      "loading /home/shenshuo/.d4rl/datasets/Qbert/1/38/observation.gz...\n",
      "loading /home/shenshuo/.d4rl/datasets/Qbert/1/38/action.gz...\n",
      "loading /home/shenshuo/.d4rl/datasets/Qbert/1/38/reward.gz...\n",
      "loading /home/shenshuo/.d4rl/datasets/Qbert/1/38/terminal.gz...\n"
     ]
    },
    {
     "name": "stderr",
     "output_type": "stream",
     "text": [
      "Copying gs://atari-replay-datasets/dqn/Qbert/1/replay_logs/$store$_observation_ckpt.39.gz...\n",
      "\\ [1/1 files][133.8 MiB/133.8 MiB] 100% Done                                    \n",
      "Operation completed over 1 objects/133.8 MiB.                                    \n",
      "Copying gs://atari-replay-datasets/dqn/Qbert/1/replay_logs/$store$_action_ckpt.39.gz...\n",
      "- [1/1 files][300.5 KiB/300.5 KiB] 100% Done                                    \n",
      "Operation completed over 1 objects/300.5 KiB.                                    \n",
      "Copying gs://atari-replay-datasets/dqn/Qbert/1/replay_logs/$store$_reward_ckpt.39.gz...\n",
      "- [1/1 files][ 45.1 KiB/ 45.1 KiB] 100% Done                                    \n",
      "Operation completed over 1 objects/45.1 KiB.                                     \n",
      "Copying gs://atari-replay-datasets/dqn/Qbert/1/replay_logs/$store$_terminal_ckpt.39.gz...\n",
      "- [1/1 files][  2.3 KiB/  2.3 KiB] 100% Done                                    \n",
      "Operation completed over 1 objects/2.3 KiB.                                      \n"
     ]
    },
    {
     "name": "stdout",
     "output_type": "stream",
     "text": [
      "loading /home/shenshuo/.d4rl/datasets/Qbert/1/39/observation.gz...\n",
      "loading /home/shenshuo/.d4rl/datasets/Qbert/1/39/action.gz...\n",
      "loading /home/shenshuo/.d4rl/datasets/Qbert/1/39/reward.gz...\n",
      "loading /home/shenshuo/.d4rl/datasets/Qbert/1/39/terminal.gz...\n"
     ]
    },
    {
     "name": "stderr",
     "output_type": "stream",
     "text": [
      "Copying gs://atari-replay-datasets/dqn/Qbert/1/replay_logs/$store$_observation_ckpt.40.gz...\n",
      "/ [1/1 files][134.3 MiB/134.3 MiB] 100% Done  10.5 MiB/s ETA 00:00:00           \n",
      "Operation completed over 1 objects/134.3 MiB.                                    \n",
      "Copying gs://atari-replay-datasets/dqn/Qbert/1/replay_logs/$store$_action_ckpt.40.gz...\n",
      "- [1/1 files][300.9 KiB/300.9 KiB] 100% Done                                    \n",
      "Operation completed over 1 objects/300.9 KiB.                                    \n",
      "Copying gs://atari-replay-datasets/dqn/Qbert/1/replay_logs/$store$_reward_ckpt.40.gz...\n",
      "- [1/1 files][ 45.2 KiB/ 45.2 KiB] 100% Done                                    \n",
      "Operation completed over 1 objects/45.2 KiB.                                     \n",
      "Copying gs://atari-replay-datasets/dqn/Qbert/1/replay_logs/$store$_terminal_ckpt.40.gz...\n",
      "- [1/1 files][  2.2 KiB/  2.2 KiB] 100% Done                                    \n",
      "Operation completed over 1 objects/2.2 KiB.                                      \n"
     ]
    },
    {
     "name": "stdout",
     "output_type": "stream",
     "text": [
      "loading /home/shenshuo/.d4rl/datasets/Qbert/1/40/observation.gz...\n",
      "loading /home/shenshuo/.d4rl/datasets/Qbert/1/40/action.gz...\n",
      "loading /home/shenshuo/.d4rl/datasets/Qbert/1/40/reward.gz...\n",
      "loading /home/shenshuo/.d4rl/datasets/Qbert/1/40/terminal.gz...\n"
     ]
    },
    {
     "name": "stderr",
     "output_type": "stream",
     "text": [
      "Copying gs://atari-replay-datasets/dqn/Qbert/1/replay_logs/$store$_observation_ckpt.41.gz...\n",
      "| [1/1 files][134.6 MiB/134.6 MiB] 100% Done  12.7 MiB/s ETA 00:00:00           \n",
      "Operation completed over 1 objects/134.6 MiB.                                    \n",
      "Copying gs://atari-replay-datasets/dqn/Qbert/1/replay_logs/$store$_action_ckpt.41.gz...\n",
      "- [1/1 files][301.5 KiB/301.5 KiB] 100% Done                                    \n",
      "Operation completed over 1 objects/301.5 KiB.                                    \n",
      "Copying gs://atari-replay-datasets/dqn/Qbert/1/replay_logs/$store$_reward_ckpt.41.gz...\n",
      "- [1/1 files][ 44.8 KiB/ 44.8 KiB] 100% Done                                    \n",
      "Operation completed over 1 objects/44.8 KiB.                                     \n",
      "Copying gs://atari-replay-datasets/dqn/Qbert/1/replay_logs/$store$_terminal_ckpt.41.gz...\n",
      "/ [1/1 files][  2.3 KiB/  2.3 KiB] 100% Done                                    \n",
      "Operation completed over 1 objects/2.3 KiB.                                      \n"
     ]
    },
    {
     "name": "stdout",
     "output_type": "stream",
     "text": [
      "loading /home/shenshuo/.d4rl/datasets/Qbert/1/41/observation.gz...\n",
      "loading /home/shenshuo/.d4rl/datasets/Qbert/1/41/action.gz...\n",
      "loading /home/shenshuo/.d4rl/datasets/Qbert/1/41/reward.gz...\n",
      "loading /home/shenshuo/.d4rl/datasets/Qbert/1/41/terminal.gz...\n"
     ]
    },
    {
     "name": "stderr",
     "output_type": "stream",
     "text": [
      "Copying gs://atari-replay-datasets/dqn/Qbert/1/replay_logs/$store$_observation_ckpt.42.gz...\n",
      "| [1/1 files][134.4 MiB/134.4 MiB] 100% Done                                    \n",
      "Operation completed over 1 objects/134.4 MiB.                                    \n",
      "Copying gs://atari-replay-datasets/dqn/Qbert/1/replay_logs/$store$_action_ckpt.42.gz...\n",
      "- [1/1 files][299.1 KiB/299.1 KiB] 100% Done                                    \n",
      "Operation completed over 1 objects/299.1 KiB.                                    \n",
      "Copying gs://atari-replay-datasets/dqn/Qbert/1/replay_logs/$store$_reward_ckpt.42.gz...\n",
      "- [1/1 files][ 44.7 KiB/ 44.7 KiB] 100% Done                                    \n",
      "Operation completed over 1 objects/44.7 KiB.                                     \n",
      "Copying gs://atari-replay-datasets/dqn/Qbert/1/replay_logs/$store$_terminal_ckpt.42.gz...\n",
      "- [1/1 files][  2.2 KiB/  2.2 KiB] 100% Done                                    \n",
      "Operation completed over 1 objects/2.2 KiB.                                      \n"
     ]
    },
    {
     "name": "stdout",
     "output_type": "stream",
     "text": [
      "loading /home/shenshuo/.d4rl/datasets/Qbert/1/42/observation.gz...\n",
      "loading /home/shenshuo/.d4rl/datasets/Qbert/1/42/action.gz...\n",
      "loading /home/shenshuo/.d4rl/datasets/Qbert/1/42/reward.gz...\n",
      "loading /home/shenshuo/.d4rl/datasets/Qbert/1/42/terminal.gz...\n"
     ]
    },
    {
     "name": "stderr",
     "output_type": "stream",
     "text": [
      "Copying gs://atari-replay-datasets/dqn/Qbert/1/replay_logs/$store$_observation_ckpt.43.gz...\n",
      "/ [1/1 files][134.2 MiB/134.2 MiB] 100% Done                                    \n",
      "Operation completed over 1 objects/134.2 MiB.                                    \n",
      "Copying gs://atari-replay-datasets/dqn/Qbert/1/replay_logs/$store$_action_ckpt.43.gz...\n",
      "- [1/1 files][299.1 KiB/299.1 KiB] 100% Done                                    \n",
      "Operation completed over 1 objects/299.1 KiB.                                    \n",
      "Copying gs://atari-replay-datasets/dqn/Qbert/1/replay_logs/$store$_reward_ckpt.43.gz...\n",
      "- [1/1 files][ 44.1 KiB/ 44.1 KiB] 100% Done                                    \n",
      "Operation completed over 1 objects/44.1 KiB.                                     \n",
      "Copying gs://atari-replay-datasets/dqn/Qbert/1/replay_logs/$store$_terminal_ckpt.43.gz...\n",
      "- [1/1 files][  2.3 KiB/  2.3 KiB] 100% Done                                    \n",
      "Operation completed over 1 objects/2.3 KiB.                                      \n"
     ]
    },
    {
     "name": "stdout",
     "output_type": "stream",
     "text": [
      "loading /home/shenshuo/.d4rl/datasets/Qbert/1/43/observation.gz...\n",
      "loading /home/shenshuo/.d4rl/datasets/Qbert/1/43/action.gz...\n",
      "loading /home/shenshuo/.d4rl/datasets/Qbert/1/43/reward.gz...\n",
      "loading /home/shenshuo/.d4rl/datasets/Qbert/1/43/terminal.gz...\n"
     ]
    },
    {
     "name": "stderr",
     "output_type": "stream",
     "text": [
      "Copying gs://atari-replay-datasets/dqn/Qbert/1/replay_logs/$store$_observation_ckpt.44.gz...\n",
      "/ [1/1 files][133.9 MiB/133.9 MiB] 100% Done                                    \n",
      "Operation completed over 1 objects/133.9 MiB.                                    \n",
      "Copying gs://atari-replay-datasets/dqn/Qbert/1/replay_logs/$store$_action_ckpt.44.gz...\n",
      "- [1/1 files][298.4 KiB/298.4 KiB] 100% Done                                    \n",
      "Operation completed over 1 objects/298.4 KiB.                                    \n",
      "Copying gs://atari-replay-datasets/dqn/Qbert/1/replay_logs/$store$_reward_ckpt.44.gz...\n",
      "- [1/1 files][ 44.0 KiB/ 44.0 KiB] 100% Done                                    \n",
      "Operation completed over 1 objects/44.0 KiB.                                     \n",
      "Copying gs://atari-replay-datasets/dqn/Qbert/1/replay_logs/$store$_terminal_ckpt.44.gz...\n",
      "/ [1/1 files][  2.3 KiB/  2.3 KiB] 100% Done                                    \n",
      "Operation completed over 1 objects/2.3 KiB.                                      \n"
     ]
    },
    {
     "name": "stdout",
     "output_type": "stream",
     "text": [
      "loading /home/shenshuo/.d4rl/datasets/Qbert/1/44/observation.gz...\n",
      "loading /home/shenshuo/.d4rl/datasets/Qbert/1/44/action.gz...\n",
      "loading /home/shenshuo/.d4rl/datasets/Qbert/1/44/reward.gz...\n",
      "loading /home/shenshuo/.d4rl/datasets/Qbert/1/44/terminal.gz...\n"
     ]
    },
    {
     "name": "stderr",
     "output_type": "stream",
     "text": [
      "Copying gs://atari-replay-datasets/dqn/Qbert/1/replay_logs/$store$_observation_ckpt.45.gz...\n",
      "/ [1/1 files][134.4 MiB/134.4 MiB] 100% Done                                    \n",
      "Operation completed over 1 objects/134.4 MiB.                                    \n",
      "Copying gs://atari-replay-datasets/dqn/Qbert/1/replay_logs/$store$_action_ckpt.45.gz...\n",
      "- [1/1 files][299.8 KiB/299.8 KiB] 100% Done                                    \n",
      "Operation completed over 1 objects/299.8 KiB.                                    \n",
      "Copying gs://atari-replay-datasets/dqn/Qbert/1/replay_logs/$store$_reward_ckpt.45.gz...\n",
      "- [1/1 files][ 43.9 KiB/ 43.9 KiB] 100% Done                                    \n",
      "Operation completed over 1 objects/43.9 KiB.                                     \n",
      "Copying gs://atari-replay-datasets/dqn/Qbert/1/replay_logs/$store$_terminal_ckpt.45.gz...\n",
      "- [1/1 files][  2.2 KiB/  2.2 KiB] 100% Done                                    \n",
      "Operation completed over 1 objects/2.2 KiB.                                      \n"
     ]
    },
    {
     "name": "stdout",
     "output_type": "stream",
     "text": [
      "loading /home/shenshuo/.d4rl/datasets/Qbert/1/45/observation.gz...\n",
      "loading /home/shenshuo/.d4rl/datasets/Qbert/1/45/action.gz...\n",
      "loading /home/shenshuo/.d4rl/datasets/Qbert/1/45/reward.gz...\n",
      "loading /home/shenshuo/.d4rl/datasets/Qbert/1/45/terminal.gz...\n"
     ]
    },
    {
     "name": "stderr",
     "output_type": "stream",
     "text": [
      "Copying gs://atari-replay-datasets/dqn/Qbert/1/replay_logs/$store$_observation_ckpt.46.gz...\n",
      "/ [1/1 files][135.5 MiB/135.5 MiB] 100% Done                                    \n",
      "Operation completed over 1 objects/135.5 MiB.                                    \n",
      "Copying gs://atari-replay-datasets/dqn/Qbert/1/replay_logs/$store$_action_ckpt.46.gz...\n",
      "- [1/1 files][301.9 KiB/301.9 KiB] 100% Done                                    \n",
      "Operation completed over 1 objects/301.9 KiB.                                    \n",
      "Copying gs://atari-replay-datasets/dqn/Qbert/1/replay_logs/$store$_reward_ckpt.46.gz...\n",
      "- [1/1 files][ 44.3 KiB/ 44.3 KiB] 100% Done                                    \n",
      "Operation completed over 1 objects/44.3 KiB.                                     \n",
      "Copying gs://atari-replay-datasets/dqn/Qbert/1/replay_logs/$store$_terminal_ckpt.46.gz...\n",
      "/ [1/1 files][  2.3 KiB/  2.3 KiB] 100% Done                                    \n",
      "Operation completed over 1 objects/2.3 KiB.                                      \n"
     ]
    },
    {
     "name": "stdout",
     "output_type": "stream",
     "text": [
      "loading /home/shenshuo/.d4rl/datasets/Qbert/1/46/observation.gz...\n",
      "loading /home/shenshuo/.d4rl/datasets/Qbert/1/46/action.gz...\n",
      "loading /home/shenshuo/.d4rl/datasets/Qbert/1/46/reward.gz...\n",
      "loading /home/shenshuo/.d4rl/datasets/Qbert/1/46/terminal.gz...\n"
     ]
    },
    {
     "name": "stderr",
     "output_type": "stream",
     "text": [
      "Copying gs://atari-replay-datasets/dqn/Qbert/1/replay_logs/$store$_observation_ckpt.47.gz...\n",
      "| [1/1 files][134.2 MiB/134.2 MiB] 100% Done                                    \n",
      "Operation completed over 1 objects/134.2 MiB.                                    \n",
      "Copying gs://atari-replay-datasets/dqn/Qbert/1/replay_logs/$store$_action_ckpt.47.gz...\n",
      "- [1/1 files][304.9 KiB/304.9 KiB] 100% Done                                    \n",
      "Operation completed over 1 objects/304.9 KiB.                                    \n",
      "Copying gs://atari-replay-datasets/dqn/Qbert/1/replay_logs/$store$_reward_ckpt.47.gz...\n",
      "- [1/1 files][ 44.3 KiB/ 44.3 KiB] 100% Done                                    \n",
      "Operation completed over 1 objects/44.3 KiB.                                     \n",
      "Copying gs://atari-replay-datasets/dqn/Qbert/1/replay_logs/$store$_terminal_ckpt.47.gz...\n",
      "- [1/1 files][  2.3 KiB/  2.3 KiB] 100% Done                                    \n",
      "Operation completed over 1 objects/2.3 KiB.                                      \n"
     ]
    },
    {
     "name": "stdout",
     "output_type": "stream",
     "text": [
      "loading /home/shenshuo/.d4rl/datasets/Qbert/1/47/observation.gz...\n",
      "loading /home/shenshuo/.d4rl/datasets/Qbert/1/47/action.gz...\n",
      "loading /home/shenshuo/.d4rl/datasets/Qbert/1/47/reward.gz...\n",
      "loading /home/shenshuo/.d4rl/datasets/Qbert/1/47/terminal.gz...\n"
     ]
    },
    {
     "name": "stderr",
     "output_type": "stream",
     "text": [
      "Copying gs://atari-replay-datasets/dqn/Qbert/1/replay_logs/$store$_observation_ckpt.48.gz...\n",
      "/ [1/1 files][134.6 MiB/134.6 MiB] 100% Done                                    \n",
      "Operation completed over 1 objects/134.6 MiB.                                    \n",
      "Copying gs://atari-replay-datasets/dqn/Qbert/1/replay_logs/$store$_action_ckpt.48.gz...\n",
      "- [1/1 files][302.2 KiB/302.2 KiB] 100% Done                                    \n",
      "Operation completed over 1 objects/302.2 KiB.                                    \n",
      "Copying gs://atari-replay-datasets/dqn/Qbert/1/replay_logs/$store$_reward_ckpt.48.gz...\n",
      "- [1/1 files][ 44.1 KiB/ 44.1 KiB] 100% Done                                    \n",
      "Operation completed over 1 objects/44.1 KiB.                                     \n",
      "Copying gs://atari-replay-datasets/dqn/Qbert/1/replay_logs/$store$_terminal_ckpt.48.gz...\n",
      "- [1/1 files][  2.3 KiB/  2.3 KiB] 100% Done                                    \n",
      "Operation completed over 1 objects/2.3 KiB.                                      \n"
     ]
    },
    {
     "name": "stdout",
     "output_type": "stream",
     "text": [
      "loading /home/shenshuo/.d4rl/datasets/Qbert/1/48/observation.gz...\n",
      "loading /home/shenshuo/.d4rl/datasets/Qbert/1/48/action.gz...\n",
      "loading /home/shenshuo/.d4rl/datasets/Qbert/1/48/reward.gz...\n",
      "loading /home/shenshuo/.d4rl/datasets/Qbert/1/48/terminal.gz...\n"
     ]
    },
    {
     "name": "stderr",
     "output_type": "stream",
     "text": [
      "Copying gs://atari-replay-datasets/dqn/Qbert/1/replay_logs/$store$_observation_ckpt.49.gz...\n",
      "- [1/1 files][134.3 MiB/134.3 MiB] 100% Done                                    \n",
      "Operation completed over 1 objects/134.3 MiB.                                    \n",
      "Copying gs://atari-replay-datasets/dqn/Qbert/1/replay_logs/$store$_action_ckpt.49.gz...\n",
      "- [1/1 files][303.3 KiB/303.3 KiB] 100% Done                                    \n",
      "Operation completed over 1 objects/303.3 KiB.                                    \n",
      "Copying gs://atari-replay-datasets/dqn/Qbert/1/replay_logs/$store$_reward_ckpt.49.gz...\n",
      "- [1/1 files][ 43.9 KiB/ 43.9 KiB] 100% Done                                    \n",
      "Operation completed over 1 objects/43.9 KiB.                                     \n",
      "Copying gs://atari-replay-datasets/dqn/Qbert/1/replay_logs/$store$_terminal_ckpt.49.gz...\n",
      "/ [1/1 files][  2.3 KiB/  2.3 KiB] 100% Done                                    \n",
      "Operation completed over 1 objects/2.3 KiB.                                      \n"
     ]
    },
    {
     "name": "stdout",
     "output_type": "stream",
     "text": [
      "loading /home/shenshuo/.d4rl/datasets/Qbert/1/49/observation.gz...\n",
      "loading /home/shenshuo/.d4rl/datasets/Qbert/1/49/action.gz...\n",
      "loading /home/shenshuo/.d4rl/datasets/Qbert/1/49/reward.gz...\n",
      "loading /home/shenshuo/.d4rl/datasets/Qbert/1/49/terminal.gz...\n"
     ]
    },
    {
     "name": "stderr",
     "output_type": "stream",
     "text": [
      "Copying gs://atari-replay-datasets/dqn/Qbert/1/replay_logs/$store$_observation_ckpt.50.gz...\n",
      "\\ [1/1 files][134.7 MiB/134.7 MiB] 100% Done                                    \n",
      "Operation completed over 1 objects/134.7 MiB.                                    \n",
      "Copying gs://atari-replay-datasets/dqn/Qbert/1/replay_logs/$store$_action_ckpt.50.gz...\n",
      "- [1/1 files][304.3 KiB/304.3 KiB] 100% Done                                    \n",
      "Operation completed over 1 objects/304.3 KiB.                                    \n",
      "Copying gs://atari-replay-datasets/dqn/Qbert/1/replay_logs/$store$_reward_ckpt.50.gz...\n",
      "- [1/1 files][ 44.0 KiB/ 44.0 KiB] 100% Done                                    \n",
      "Operation completed over 1 objects/44.0 KiB.                                     \n",
      "Copying gs://atari-replay-datasets/dqn/Qbert/1/replay_logs/$store$_terminal_ckpt.50.gz...\n",
      "- [1/1 files][  2.2 KiB/  2.2 KiB] 100% Done                                    \n",
      "Operation completed over 1 objects/2.2 KiB.                                      \n"
     ]
    },
    {
     "name": "stdout",
     "output_type": "stream",
     "text": [
      "loading /home/shenshuo/.d4rl/datasets/Qbert/1/50/observation.gz...\n",
      "loading /home/shenshuo/.d4rl/datasets/Qbert/1/50/action.gz...\n",
      "loading /home/shenshuo/.d4rl/datasets/Qbert/1/50/reward.gz...\n",
      "loading /home/shenshuo/.d4rl/datasets/Qbert/1/50/terminal.gz...\n"
     ]
    }
   ],
   "source": [
    "for i in range(1, 51, 1):\n",
    "    env_id = 'QbertNoFrameskip-V4'\n",
    "    offline_dataset_id = 'epoch-' + str(i) + '-v0'  \n",
    "    dataset = ExperienceReplayDataset(env_id , offline_dataset_id)\n",
    "    # data_loader = iter(torch.utils.data.DataLoader(dataset, batch_size=32, num_workers=2))"
   ]
  },
  {
   "cell_type": "code",
   "execution_count": 6,
   "id": "a82e9101",
   "metadata": {},
   "outputs": [
    {
     "name": "stdout",
     "output_type": "stream",
     "text": [
      "2\n",
      "1\n",
      "1\n",
      "2\n",
      "1\n",
      "2\n",
      "2\n",
      "2\n",
      "2\n",
      "2\n"
     ]
    }
   ],
   "source": [
    "for i in range(10):\n",
    "\n",
    "    print(np.random.randint(1, 3))"
   ]
  },
  {
   "cell_type": "code",
   "execution_count": 11,
   "id": "965e8798",
   "metadata": {},
   "outputs": [
    {
     "name": "stdout",
     "output_type": "stream",
     "text": [
      "<class 'float'>\n"
     ]
    },
    {
     "ename": "TypeError",
     "evalue": "Tuple or struct_time argument required",
     "output_type": "error",
     "traceback": [
      "\u001b[0;31m---------------------------------------------------------------------------\u001b[0m",
      "\u001b[0;31mTypeError\u001b[0m                                 Traceback (most recent call last)",
      "\u001b[0;32m/tmp/ipykernel_55648/1865187496.py\u001b[0m in \u001b[0;36m<module>\u001b[0;34m\u001b[0m\n\u001b[1;32m      2\u001b[0m \u001b[0ms\u001b[0m \u001b[0;34m=\u001b[0m \u001b[0mtime\u001b[0m\u001b[0;34m.\u001b[0m\u001b[0mtime\u001b[0m\u001b[0;34m(\u001b[0m\u001b[0;34m)\u001b[0m\u001b[0;34m\u001b[0m\u001b[0;34m\u001b[0m\u001b[0m\n\u001b[1;32m      3\u001b[0m \u001b[0mprint\u001b[0m\u001b[0;34m(\u001b[0m\u001b[0mtype\u001b[0m\u001b[0;34m(\u001b[0m\u001b[0ms\u001b[0m\u001b[0;34m)\u001b[0m\u001b[0;34m)\u001b[0m\u001b[0;34m\u001b[0m\u001b[0;34m\u001b[0m\u001b[0m\n\u001b[0;32m----> 4\u001b[0;31m \u001b[0mtime\u001b[0m\u001b[0;34m.\u001b[0m\u001b[0mstrftime\u001b[0m\u001b[0;34m(\u001b[0m\u001b[0;34m\"%Y-%m-%d %H:%M:%S\"\u001b[0m\u001b[0;34m,\u001b[0m \u001b[0ms\u001b[0m\u001b[0;34m)\u001b[0m\u001b[0;34m\u001b[0m\u001b[0;34m\u001b[0m\u001b[0m\n\u001b[0m",
      "\u001b[0;31mTypeError\u001b[0m: Tuple or struct_time argument required"
     ]
    }
   ],
   "source": [
    "import time\n",
    "s = time.time()\n",
    "time.strftime(\"%Y-%m-%d-%H:%M:%S\", s)"
   ]
  },
  {
   "cell_type": "code",
   "execution_count": null,
   "id": "971f46e1",
   "metadata": {},
   "outputs": [],
   "source": []
  }
 ],
 "metadata": {
  "kernelspec": {
   "display_name": "Python 3 (ipykernel)",
   "language": "python",
   "name": "python3"
  },
  "language_info": {
   "codemirror_mode": {
    "name": "ipython",
    "version": 3
   },
   "file_extension": ".py",
   "mimetype": "text/x-python",
   "name": "python",
   "nbconvert_exporter": "python",
   "pygments_lexer": "ipython3",
   "version": "3.8.12"
  }
 },
 "nbformat": 4,
 "nbformat_minor": 5
}
